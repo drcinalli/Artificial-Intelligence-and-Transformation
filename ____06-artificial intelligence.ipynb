{
 "cells": [
  {
   "cell_type": "markdown",
   "metadata": {
    "slideshow": {
     "slide_type": "skip"
    }
   },
   "source": [
    "<img src=\"./img/logoconvexbrancomini2.png\"  align=\"right\"/>"
   ]
  },
  {
   "cell_type": "markdown",
   "metadata": {
    "slideshow": {
     "slide_type": "skip"
    }
   },
   "source": [
    "<img src=\"./img/logoboxverde.png\" align=\"right\"/>\n",
    "<br>\n"
   ]
  },
  {
   "cell_type": "markdown",
   "metadata": {
    "slideshow": {
     "slide_type": "slide"
    },
    "toc-hr-collapsed": true
   },
   "source": [
    "<!--\n",
    "<img src=\"./img/logoconvexbrancomini2.png\"  align=\"right\"/>\n",
    "-->\n",
    "# Artificial Intelligence and Digital Transformation\n",
    "\n",
    "<!--\n",
    "<img src=\"./img/logoboxverde.png\" align=\"right\"/>\n",
    "-->\n",
    "__by [Daniel Cinalli](http://www.cinalli.com.br)__ - DSc Artificial Intelligence\n",
    "\n",
    "## What is Artificial Intelligence?\n"
   ]
  },
  {
   "cell_type": "markdown",
   "metadata": {
    "slideshow": {
     "slide_type": "slide"
    }
   },
   "source": [
    "\n",
    "<br/><br/> \n",
    "## Notes:\n",
    "\n",
    "* Coded in Python 3.x\n",
    "* Using [Anaconda](https://www.anaconda.com/) is recommended\n",
    "* Run the notebook `online` at [binder](https://mybinder.org/v2/gh/drcinalli/Artificial-Intelligence-and-Transformation/master) [![Binder](https://mybinder.org/badge_logo.svg)](https://mybinder.org/v2/gh/drcinalli/Artificial-Intelligence-and-Transformation/master)\n",
    "<!-- * [nbviewer](https://nbviewer.jupyter.org/) allows you to switch the notebooks \"slides\" mode-->"
   ]
  },
  {
   "cell_type": "markdown",
   "metadata": {
    "slideshow": {
     "slide_type": "slide"
    }
   },
   "source": [
    "<br> </br>\n",
    "### Table of Contents\n",
    "\n",
    "- [What is Intelligence?](#whatisintelligence)\n",
    "- [What is Artificial Intelligence?](#whydigitaltransformation)\n",
    "- [xxxxxxx](#wheredigitaltransformation)\n",
    "- [xxxxxxx](#wheredigitaltransformation)\n",
    "\n",
    "\n",
    "\n",
    "\n",
    "<br> <br>\n"
   ]
  },
  {
   "cell_type": "markdown",
   "metadata": {
    "slideshow": {
     "slide_type": "slide"
    }
   },
   "source": [
    "<a id='whatisintelligence'></a>\n",
    "## What is Intelligence?\n",
    "\n",
    "\n",
    "<img align=right src=\"img/boring.gif\" width=300/>\n",
    "\n",
    "> **o q eh intelli?**\n",
    "einstein ou xxx ou buda ou um cara safo num ambiente hostil - niveis ou especies diferentes de inteligencia\n",
    "\n",
    "\n",
    "> o q eh artificial?\n",
    "joelho de carbono (protese) ou um de celula tronco no futuro\n",
    "\n",
    "e qdo mistura =, fica mais confuso.\n",
    "\n",
    "\n",
    "\n",
    "\n",
    "        \n",
    "<br>  \n",
    "\n",
    "\n",
    "\"capacidade de resolver novos problemas baseado em experiencias anteriores\"\n",
    "\n",
    "\"é inteligente se tem um modelo adequado to mundo e eh esperta o suficiente para responder uma ampla variedade de problemas com base nesse modelo, capacidade de encontrar info novas\"\n",
    "\n",
    "\"trata de como as máquinas podem resolver problemas que exigiriam inteligencia se fossem resolvidas pelo homem\"\n",
    "(exe: prova de teorema, textos...)\n",
    "\n",
    "\"eh o estudo de como fazer os computadores resolverem problemas que o homem resolvem SO QUE MELHOR\"\n",
    "(eg. xadrez, rotas, combinatorios com metah.)\n",
    "eg: compiladores q antes eram de IA - texto de uma linguagem pra outra\n",
    "prob combinatorios q nao tinham solucao pratica num tempo possivel\n",
    "etc\n",
    "\n",
    "Já abre a discussao em 2 polos:\n",
    "- simular a inteligencia, o jeito do homem de pensar\n",
    "- resolver o problema... nao importa como se está resolvendo\n",
    "\n",
    "(eu particularmente estou mais interessado nas resolucoes do problme do que na mimetizacao do cérebro)\n",
    "(sem muito romantismo pra mim)"
   ]
  },
  {
   "cell_type": "markdown",
   "metadata": {},
   "source": [
    "IA tem a ver com comportamento inteligente:\n",
    "- percepcao\n",
    "-raciocinio\n",
    "- aprendizado \n",
    "- comunicacao (eg. qdo eu fiz IA Linguistica ... um sonho em entender onda sonora e outra traducao - 2 niveis)\n",
    "- agir em ambientes complexos\n",
    "\n",
    "\n",
    "Um professor uma vez me disse:\n",
    "- ambiguidade\n",
    "- complexo\n",
    "- tarefas tao bem qto humanos (ou melhores)"
   ]
  },
  {
   "cell_type": "markdown",
   "metadata": {
    "slideshow": {
     "slide_type": "slide"
    }
   },
   "source": [
    "<a id='whatisintelligence'></a>\n",
    "## What is Intelligence?\n",
    "\n",
    "\n",
    "<img align=right src=\"img/boring.gif\" width=300/>\n",
    "\n",
    "> **Many definitions**\n",
    "        \n",
    "<br>  \n",
    "\n",
    "\n",
    "\"\"\n",
    "\n",
    "\"\"\n",
    "\n",
    "\"\""
   ]
  },
  {
   "cell_type": "code",
   "execution_count": null,
   "metadata": {},
   "outputs": [],
   "source": []
  },
  {
   "cell_type": "markdown",
   "metadata": {},
   "source": [
    "My preference:\n",
    "\n",
    "\n",
    "\n",
    "\n",
    "Terms:\n",
    "Intelligent computation, if you will\n",
    "\n"
   ]
  },
  {
   "cell_type": "code",
   "execution_count": null,
   "metadata": {},
   "outputs": [],
   "source": []
  },
  {
   "cell_type": "markdown",
   "metadata": {},
   "source": [
    "A Inteligencia esta nas MAQ ou nos DEVs?\n",
    "\n",
    "Nos Devs, pq a IA eh um programa/tecnica implementada por alguem.\n",
    "Q sim... generaliza, abstrai ... mas feito por nós.\n",
    "Temos até condicoes de deixa-la aprendendo e se superando... mas nos criamos isso\n",
    "\n"
   ]
  },
  {
   "cell_type": "code",
   "execution_count": null,
   "metadata": {},
   "outputs": [],
   "source": [
    "IA eh programacao... simples.\n",
    "Visão, processamento de IMG, Reconhecimento de Padroes, PLN, Otimizacao, Heiristicas... eh tudo progrmado"
   ]
  },
  {
   "cell_type": "markdown",
   "metadata": {
    "slideshow": {
     "slide_type": "slide"
    }
   },
   "source": [
    "<a id='whatisintelligence'></a>\n",
    "## What is Artificial Intelligence?\n",
    "\n",
    "\n",
    "<img align=right src=\"img/boring.gif\" width=300/>\n",
    "<!-- James/Jim Belushi-->\n",
    "\n",
    "Sick of being told your business should be more like `Apple`, `Amazon`, `Uber`, or `Airbnb`?\n",
    "\n",
    "Tired of the word: Digital Transformation?\n",
    "\n",
    "\n",
    "> Inovation <br>\n",
    "> Applied Innovation<br>\n",
    "> **Digital Journey**\n",
    "        \n",
    "<br>  \n",
    "\n",
    "\n",
    "Let's try to re-build this idea:\n",
    "\n",
    "* **WHAT** is Digital Transformation?\n",
    "* **WHY** is it Important?\n",
    "* **WHERE** to apply it?\n",
    "* **HOW** to do it?\n",
    "* **EXAMPLES**\n",
    "        \n"
   ]
  },
  {
   "cell_type": "markdown",
   "metadata": {
    "slideshow": {
     "slide_type": "slide"
    }
   },
   "source": [
    "<a id='whatisintelligence'></a>\n",
    "## What is Artificial Intelligence?\n",
    "\n",
    "\n",
    "<img align=right src=\"img/boring.gif\" width=300/>\n",
    "<!-- James/Jim Belushi-->\n",
    "\n",
    "Sick of being told your business should be more like `Apple`, `Amazon`, `Uber`, or `Airbnb`?\n",
    "\n",
    "Tired of the word: Digital Transformation?\n",
    "\n",
    "\n",
    "> Inovation <br>\n",
    "> Applied Innovation<br>\n",
    "> **Digital Journey**\n",
    "        \n",
    "<br>  \n",
    "\n",
    "\n",
    "Let's try to re-build this idea:\n",
    "\n",
    "* **WHAT** is Digital Transformation?\n",
    "* **WHY** is it Important?\n",
    "* **WHERE** to apply it?\n",
    "* **HOW** to do it?\n",
    "* **EXAMPLES**\n",
    "        \n"
   ]
  },
  {
   "cell_type": "code",
   "execution_count": null,
   "metadata": {},
   "outputs": [],
   "source": []
  },
  {
   "cell_type": "code",
   "execution_count": null,
   "metadata": {},
   "outputs": [],
   "source": []
  },
  {
   "cell_type": "code",
   "execution_count": null,
   "metadata": {},
   "outputs": [],
   "source": []
  },
  {
   "cell_type": "code",
   "execution_count": null,
   "metadata": {},
   "outputs": [],
   "source": []
  },
  {
   "cell_type": "code",
   "execution_count": null,
   "metadata": {},
   "outputs": [],
   "source": []
  },
  {
   "cell_type": "code",
   "execution_count": null,
   "metadata": {},
   "outputs": [],
   "source": []
  },
  {
   "cell_type": "markdown",
   "metadata": {},
   "source": [
    "areas de ia"
   ]
  },
  {
   "cell_type": "markdown",
   "metadata": {},
   "source": [
    "\n",
    "intro meta heuris e rede neural\n",
    "1 evolucio\n",
    "1 neural\n",
    "\n",
    "volto pro problema e rodo"
   ]
  },
  {
   "cell_type": "markdown",
   "metadata": {},
   "source": [
    "https://www.youtube.com/watch?v=E6xMijBNRBA\n",
    "\n",
    "exemplos reais palestra dele\n",
    "\n",
    "PLN exemplos mto legais de logica e texto"
   ]
  },
  {
   "cell_type": "markdown",
   "metadata": {},
   "source": [
    "- alguns exemplos mais interessantes \n",
    "- video microsoft .net. kkkk\n",
    "- video startrek\n",
    "-video de volta pro futuro ...\n",
    "\n",
    "\n",
    "- sera q consigo resolver assim indeterminadamente???\n",
    "- IA definicao\n",
    "-- 1 coisa eh projetar a inteligencia, falar o q o computador faz e ser inteligente antes do computador\n",
    "-- outra coisa eh projetar uma inteligencia e deixar o computador computar (tipo gen alg)\n",
    "-- outra coisa eh deixar o computador resolver (nao sei se o item 2 se mistura com o 3)\n",
    "\n",
    "- quebras de areas\n",
    "- etica e diversidade da TI\n",
    "\n",
    "- entrando na metaheuristica/otimizacao\n",
    "- Google trends \n",
    "- slides cadu\n",
    "\n",
    "- o q viria ser entao a transformacao digitsl?\n",
    "\n",
    "- TI é grantir utilidade e garantia"
   ]
  },
  {
   "cell_type": "markdown",
   "metadata": {},
   "source": [
    "NOTEBOOK\n",
    "Exemplos de appst\n",
    "\n",
    "https://youtu.be/JRHAM1nAuD4\n",
    "\n",
    "VER se isso eh transf Digitl"
   ]
  },
  {
   "cell_type": "markdown",
   "metadata": {},
   "source": [
    " mochila IPL\n",
    " caminho minimo Pgm Dinamica\n",
    " caixeiro Pgm Dinamica ou IPL e dá ruim\n",
    " \n",
    "4. shortest - dijkistra - (ou investimento ou mochila)\n",
    "\n",
    "- prg dina?\n",
    "- pgr linear inteira\n",
    "- ?\n",
    "\n",
    "VEJA como com o computador (calculo + storage) conseguimosaplicar metodos de resolucao (uns mais inteligentes que outros... ) os mais bem bolados\n",
    "resultam em melhor tempo... mais rapido, solucoes melhores... etc.\n",
    "\n",
    "4. em geral com isso fazemos tudo (QUASE TUDO)... waze, gta, face, whataspp, banco\n",
    "(mostro coisas q a TI pura faz)\n",
    "\n",
    "\n",
    "\n",
    "Mas nem tudo... a computacao pura nao consegue resolver TUDO q a gente precisa e quer usar hj ...\n",
    "pq? vou dar apenas 2 casos.\n",
    "1. explosao combinatoria\n",
    "2. impossibilidade de descrever TUDO\n",
    "\n",
    "\n",
    "intro meta heuris e rede neural\n",
    "1 evolucio\n",
    "1 neural\n",
    "\n",
    "volto pro problema e rodo\n"
   ]
  },
  {
   "cell_type": "code",
   "execution_count": null,
   "metadata": {},
   "outputs": [],
   "source": []
  }
 ],
 "metadata": {
  "kernelspec": {
   "display_name": "Python 3",
   "language": "python",
   "name": "python3"
  },
  "language_info": {
   "codemirror_mode": {
    "name": "ipython",
    "version": 3
   },
   "file_extension": ".py",
   "mimetype": "text/x-python",
   "name": "python",
   "nbconvert_exporter": "python",
   "pygments_lexer": "ipython3",
   "version": "3.7.6"
  }
 },
 "nbformat": 4,
 "nbformat_minor": 4
}
