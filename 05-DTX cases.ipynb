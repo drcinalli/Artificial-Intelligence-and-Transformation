{
 "cells": [
  {
   "cell_type": "markdown",
   "metadata": {},
   "source": [
    "<img src=\"./img/logoconvexbrancomini2.png\"  align=\"right\"/>"
   ]
  },
  {
   "cell_type": "markdown",
   "metadata": {},
   "source": [
    "<img src=\"./img/logoboxverde.png\" align=\"right\"/>\n",
    "<br>\n",
    "\n"
   ]
  },
  {
   "cell_type": "markdown",
   "metadata": {},
   "source": [
    "<!--\n",
    "<img src=\"./img/logoconvexbrancomini2.png\"  align=\"right\"/>\n",
    "-->\n",
    "# Artificial Intelligence and Digital Transformation\n",
    "\n",
    "<!--\n",
    "<img src=\"./img/logoboxverde.png\" align=\"right\"/>\n",
    "-->\n",
    "__by [Daniel Cinalli](http://www.cinalli.com.br)__ - DSc Artificial Intelligence\n",
    "\n",
    "## What is Digital Transformation?\n"
   ]
  },
  {
   "cell_type": "markdown",
   "metadata": {},
   "source": [
    "\n",
    "<br/><br/> \n",
    "## Notes:\n",
    "\n",
    "* Coded in Python 3.x\n",
    "* Using [Anaconda](https://www.anaconda.com/) is recommended\n",
    "* Run the notebook `online` at [binder](https://mybinder.org/v2/gh/drcinalli/Artificial-Intelligence-and-Transformation/master) [![Binder](https://mybinder.org/badge_logo.svg)](https://mybinder.org/v2/gh/drcinalli/Artificial-Intelligence-and-Transformation/master)\n",
    "<!-- * [nbviewer](https://nbviewer.jupyter.org/) allows you to switch the notebooks \"slides\" mode-->"
   ]
  },
  {
   "cell_type": "markdown",
   "metadata": {},
   "source": [
    "<br> </br>\n",
    "### Table of Contents\n",
    "\n",
    "- [Positive Examples](#positivecases)\n",
    "- [Negative Examples](#negativecases)\n",
    "\n",
    "\n",
    "\n",
    "\n",
    "<br> <br>\n"
   ]
  },
  {
   "cell_type": "markdown",
   "metadata": {},
   "source": [
    "<a id='positivecases'></a>\n",
    "\n",
    "<br>\n",
    "<br>\n",
    "\n",
    "**Some positive examples**\n",
    "\n",
    "<img align=left src=\"img/inobest.png\" width=400/>\n",
    "\n"
   ]
  },
  {
   "cell_type": "code",
   "execution_count": null,
   "metadata": {},
   "outputs": [],
   "source": []
  },
  {
   "cell_type": "markdown",
   "metadata": {},
   "source": [
    "<a id='negativecases'></a>\n",
    "\n",
    "<br>\n",
    "<br>\n",
    "\n",
    "**Some negative examples**\n",
    "\n",
    "<img align=left src=\"img/inofailed.png\" width=400/>\n"
   ]
  },
  {
   "cell_type": "markdown",
   "metadata": {},
   "source": []
  },
  {
   "cell_type": "markdown",
   "metadata": {},
   "source": [
    "ver cases por area\n",
    "\n",
    "\n",
    "Pensar em colocar alguns exemplos somente pra contextualizar... e cravar q isso muda tbem a nossa vida como individuo\n",
    "ex: jornal news update, cell phone, photo ---- think about the commercial part not only in tech, spotify (cd - napster - spotfy)\n",
    "\n",
    "\n",
    "casos de sucesso\n",
    "\n",
    "- DBS Bank, LEGO, Philips, Schneider Electric, and USAA.\n",
    "- amazon\n",
    "apple\n",
    "...\n",
    "- self driven, amazon, m26 bank in german 100/ online..., apple pay\n",
    "(exemplos na apresentacao Vinicius)\n",
    "\n",
    "Casos de disrupcao\n",
    "Accord Hotel vs Booking\n",
    "Taxi vs Uber\n",
    "jornal\n",
    "\n",
    "Li & Fung sought to reduce production lead times, increase speed-to-market, and improve the use of data in its global supply chain. After concrete goals were established, the company decided on which digital tools it would adopt. Just to take speed-to-market as an example, Li & Fung has embraced virtual design technology and it has helped them to reduce time from design to sample by 50%. Li & Fung also helped suppliers to install real-time data tracking management systems to increase production efficiency and built Total Sourcing, a digital platform that integrates information from customers and vendors. The finance department took a similar approach and ultimately reduced month-end closing time by more than 30% and increased working capital efficiency by $200 million.\n",
    "\n",
    "For instance, according to Echo Nest, a music intelligence startup, your music-based Code Halo\n",
    "can convey much more about you than just what kind of music you like to listen to.2\n",
    " It can also\n",
    "reveal your tastes in food, movies and literature, as well as your product preferences, political\n",
    "learnings and even measures of intelligence. Justin Timberlake fans, for example, are more likely\n",
    "to enjoy Pixar films; people who listen to jazz music tend to care less about sports; and people\n",
    "who listen to Madonna are more likely to vote Democrat in U.S. elections."
   ]
  }
 ],
 "metadata": {
  "kernelspec": {
   "display_name": "Python 3",
   "language": "python",
   "name": "python3"
  },
  "language_info": {
   "codemirror_mode": {
    "name": "ipython",
    "version": 3
   },
   "file_extension": ".py",
   "mimetype": "text/x-python",
   "name": "python",
   "nbconvert_exporter": "python",
   "pygments_lexer": "ipython3",
   "version": "3.7.6"
  }
 },
 "nbformat": 4,
 "nbformat_minor": 4
}
