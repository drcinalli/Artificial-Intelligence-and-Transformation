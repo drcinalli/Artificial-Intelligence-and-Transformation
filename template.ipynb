{
 "cells": [
  {
   "cell_type": "markdown",
   "metadata": {
    "slideshow": {
     "slide_type": "skip"
    }
   },
   "source": [
    "<img src=\"./img/logoconvexbrancomini2.png\"  align=\"right\"/>"
   ]
  },
  {
   "cell_type": "markdown",
   "metadata": {
    "slideshow": {
     "slide_type": "skip"
    }
   },
   "source": [
    "<img src=\"./img/logoboxverde.png\" align=\"right\"/>\n",
    "<br>\n"
   ]
  },
  {
   "cell_type": "markdown",
   "metadata": {
    "slideshow": {
     "slide_type": "slide"
    }
   },
   "source": [
    "<!--\n",
    "<img src=\"./img/logoconvexbrancomini2.png\"  align=\"right\"/>\n",
    "-->\n",
    "# Artificial Intelligence and Digital Transformation\n",
    "\n",
    "<!--\n",
    "<img src=\"./img/logoboxverde.png\" align=\"right\"/>\n",
    "-->\n",
    "__by [Daniel Cinalli](http://www.cinalli.com.br)__ - DSc Artificial Intelligence\n",
    "\n",
    "## What is Computation?\n"
   ]
  },
  {
   "cell_type": "markdown",
   "metadata": {
    "slideshow": {
     "slide_type": "slide"
    }
   },
   "source": [
    "\n",
    "<br/><br/> \n",
    "## Notes:\n",
    "\n",
    "* Coded in Python 3.x\n",
    "* Using [Anaconda](https://www.anaconda.com/) is recommended\n",
    "* Run the notebook `online` at [binder](https://mybinder.org/v2/gh/drcinalli/Artificial-Intelligence-and-Transformation/master) [![Binder](https://mybinder.org/badge_logo.svg)](https://mybinder.org/v2/gh/drcinalli/Artificial-Intelligence-and-Transformation/master)\n",
    "* [nbviewer](https://nbviewer.jupyter.org/) allows you to switch the notebooks \"slides\" mode"
   ]
  },
  {
   "cell_type": "markdown",
   "metadata": {
    "slideshow": {
     "slide_type": "skip"
    }
   },
   "source": [
    "<kbd>\n",
    "<img src=\"img/nbviwer-slides.png\" />\n",
    "</kbd>"
   ]
  },
  {
   "cell_type": "markdown",
   "metadata": {
    "slideshow": {
     "slide_type": "slide"
    }
   },
   "source": [
    "<br> </br>\n",
    "### Table of Contents\n",
    "\n",
    "- [What is Computation?](#whatiscomputation)\n"
   ]
  },
  {
   "cell_type": "markdown",
   "metadata": {
    "slideshow": {
     "slide_type": "slide"
    }
   },
   "source": [
    "<br></br>\n",
    "<a id='whatiscomputation'></a>\n",
    "## What is Computation?\n",
    "\n",
    "\n"
   ]
  },
  {
   "cell_type": "markdown",
   "metadata": {},
   "source": [
    "exemplos d operacoes de comp\n",
    "\n",
    "mostrar o basico funcionando com um onclick, com um store/load... no terminal mesmo ... no python\n",
    "\n",
    "(brecha pra falar q nao eh bem assim mais ... veremos na parte de prob complexos e IA)\n",
    "\n"
   ]
  },
  {
   "cell_type": "markdown",
   "metadata": {
    "slideshow": {
     "slide_type": "slide"
    }
   },
   "source": [
    "exemplos d operacoes de comp\n",
    "\n",
    "mostrar o basico funcionando com um onclick, com um store/load... no terminal mesmo ... no python\n",
    "\n",
    "(brecha pra falar q nao eh bem assim mais ... veremos na parte de prob complexos e IA)\n",
    "\n",
    "\n",
    "<img src=\"img/computation1.jpeg\" width=400/>\n"
   ]
  },
  {
   "cell_type": "markdown",
   "metadata": {},
   "source": [
    "ciencia, tecnica tecnologia\n",
    "\n",
    "qdo comeco a ter uma tecnica na mao e conhecimento de outro em movimento\n",
    "\n",
    "<img align=right src=\"img/computation1.jpeg\" width=400/>\n"
   ]
  },
  {
   "cell_type": "markdown",
   "metadata": {},
   "source": [
    "<table>\n",
    "<!-- <tr>\n",
    "    <td><b style=\"font-size:30px\">Title</b></td>\n",
    "    <td><b style=\"font-size:30px\">Title 2</b></td>\n",
    " </tr>\n",
    " -->\n",
    "    <tr>\n",
    "    <td>\n",
    "    <p style=\"font-size:15px\">Lorem ipsum ... exemplos d operacoes de comp mostrar o basico funcionando com um onclick, com um store/load... no terminal mesmo ... no python</p>\n",
    "</td>\n",
    "    <td> \n",
    "    Lorem ipsm <img src=\"img/computation1.jpeg\" width=400/>\n",
    "    </td>\n",
    " </tr>\n",
    "</table>"
   ]
  },
  {
   "cell_type": "markdown",
   "metadata": {},
   "source": [
    "<img src=\"img/computation1.jpeg\" align=\"right\"\n",
    "     title=\"nnononononon\" width=\"220\" height=\"378\">\n",
    "\n",
    "Size Limit is a performance budget tool for JavaScript. It checks every commit\n",
    "on CI, calculates the real cost of your JS for end-users and throws an error\n",
    "if the cost exceeds the limit.\n",
    "\n",
    "* Size Limit calculates **the time** it would take a browser\n",
    "  to download and **execute** your JS. Time is a much more accurate\n",
    "  and understandable metric compared to the size in bytes.\n",
    "* Size Limit calculations include **all dependencies and polyfills**\n",
    "  used in your JS.\n",
    "* Add Size Limit to **Travis CI**, **Circle CI**, or another CI system\n",
    "  to know if a pull request adds a massive dependency.\n",
    "* Size Limit is **modular** to fit different use cases, like big JS applications\n",
    "  that use their own bundler or small npm libraries with many files.\n"
   ]
  },
  {
   "cell_type": "markdown",
   "metadata": {},
   "source": [
    "Remember this diagram from school? The water cycle, right?\n",
    "\n",
    "<img height=\"350px\" align=\"right\" src=\"img/computation1.jpeg\">\n",
    "\n",
    "Two distinct stages, involving water in different phases, being acted upon\n",
    "by different forces: gravity working one way, evaporation/convection the other.\n",
    "\n",
    "To understand re-frame, **imagine data flowing around that loop instead of water**.\n",
    "\n",
    "re-frame\n",
    "provides the conveyance of the data around the loop - the equivalent of gravity, evaporation and convection.\n",
    "You design what's flowing and then you hang functions off the loop at\n",
    "various points to compute the data's phase changes (again, data flow coordinates code).\n",
    "\n",
    "Sure, right now, you're thinking \"lazy sod - make a proper Computer Science-y diagram\". But, no.\n",
    "Joe Armstrong says \"don't break the laws of physics\" - I'm sure\n",
    "you've seen the videos - and if he says to do something, you do it\n",
    "(unless Rich Hickey disagrees, and says to do something else). So,\n",
    "this diagram, apart from being a plausible analogy which might help\n",
    "you to understand re-frame, is **practically proof** it does physics.\n"
   ]
  },
  {
   "cell_type": "markdown",
   "metadata": {},
   "source": [
    "## Computer science\n",
    "\n",
    "eh qdo começo a aplicar isso ....\n",
    "\n",
    "\n",
    "exemplos d operacoes de comp\n",
    "\n",
    "mostrar o basico funcionando com um onclick, com um store/load... no terminal mesmo ... no python\n",
    "\n",
    "(brecha pra falar q nao eh bem assim mais ... veremos na parte de prob complexos e IA)"
   ]
  },
  {
   "cell_type": "markdown",
   "metadata": {
    "slideshow": {
     "slide_type": "slide"
    }
   },
   "source": [
    "<br></br>\n",
    "## o q faco com ele\n",
    "\n",
    "Dados\n",
    "Dados apresentados de maneiras diferentes \n",
    "Cálculos rápidos + Sequência de Operações --- aqui onde o bicho pega .... aqui q comeca a fazer uma grande diferenca ... e uma nova diferenca com toda essa transf. digital.\n",
    "\n",
    "Benefício: \n",
    "Informação\n",
    "operacao/execucao de tarefas\n",
    "Tomada de Decisão \n",
    "Resolução de Problemas\n",
    "\n",
    "\n"
   ]
  },
  {
   "cell_type": "markdown",
   "metadata": {},
   "source": [
    "##o Q eu faco com a computacao\n",
    "\n",
    "informação Bomba (Serviço de Inteligência)\n",
    "decisão Preço do meu Competidor (Buscapé…)\n",
    "solução Probabilidade de Chuva (Meteorologia)\n"
   ]
  },
  {
   "cell_type": "markdown",
   "metadata": {},
   "source": [
    "dado \n",
    "\n",
    "transformação\n",
    "cálculos\n",
    "operações\n",
    "\n",
    "informação\n",
    "operacao\n",
    "decisão\n",
    "resolução de\n",
    "\tproblema\n",
    "\n",
    "\n",
    "o mais usual eh o 1 e 2 ne...."
   ]
  },
  {
   "cell_type": "markdown",
   "metadata": {},
   "source": [
    "## alguns exemplos melhores\n",
    "\n",
    "mais exemplos dos tipos basicos de operacoes usuais\n",
    "\n",
    "um com uma operacao .... rapida de mtas coisas\n",
    "\n",
    "mais um com uma pequena mudanca na visao do dado - pra moostrar info e me deixar tomar a decisao\n",
    "\n",
    "\n",
    "mais um outro com uma tomada de decisao embutida e automatica\n",
    "\n"
   ]
  },
  {
   "cell_type": "markdown",
   "metadata": {},
   "source": [
    "outro complexo pra dar tilt\n",
    "\n",
    "uns 2 .... pra esse precisamos de outra tecnica menos descritiva. cap de ia"
   ]
  },
  {
   "cell_type": "markdown",
   "metadata": {},
   "source": [
    "## Areas da Computacao na academia\n",
    "\n",
    "img\n",
    "\n",
    "descrevo alguma delas...\n",
    "deixo ate aqui as principais divisoes\n"
   ]
  },
  {
   "cell_type": "markdown",
   "metadata": {},
   "source": [
    "## Areas da Computacao no mercado\n",
    "\n",
    "img\n",
    "\n",
    "descrevo alguma delas...\n",
    "deixo ate aqui as principais divisoes\n",
    "\n",
    "\n",
    "Highlight nas areas de maior transf...: \n",
    "\n",
    "infra - exempllos\n",
    "Sistemas  - exemplos \n",
    "\n",
    "Sistemas com IA - exemplos prob complexos, (focar nesse)\n",
    "\n",
    "Data Science  - exemplos prob complexos, "
   ]
  }
 ],
 "metadata": {
  "celltoolbar": "Slideshow",
  "kernelspec": {
   "display_name": "Python 3",
   "language": "python",
   "name": "python3"
  },
  "language_info": {
   "codemirror_mode": {
    "name": "ipython",
    "version": 3
   },
   "file_extension": ".py",
   "mimetype": "text/x-python",
   "name": "python",
   "nbconvert_exporter": "python",
   "pygments_lexer": "ipython3",
   "version": "3.7.4"
  }
 },
 "nbformat": 4,
 "nbformat_minor": 4
}
