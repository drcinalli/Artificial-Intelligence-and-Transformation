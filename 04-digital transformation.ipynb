{
 "cells": [
  {
   "cell_type": "markdown",
   "metadata": {
    "slideshow": {
     "slide_type": "skip"
    }
   },
   "source": [
    "<img src=\"./img/logoconvexbrancomini2.png\"  align=\"right\"/>"
   ]
  },
  {
   "cell_type": "markdown",
   "metadata": {
    "slideshow": {
     "slide_type": "skip"
    }
   },
   "source": [
    "<img src=\"./img/logoboxverde.png\" align=\"right\"/>\n",
    "<br>\n"
   ]
  },
  {
   "cell_type": "markdown",
   "metadata": {
    "slideshow": {
     "slide_type": "slide"
    },
    "toc-hr-collapsed": true
   },
   "source": [
    "<!--\n",
    "<img src=\"./img/logoconvexbrancomini2.png\"  align=\"right\"/>\n",
    "-->\n",
    "# Artificial Intelligence and Digital Transformation\n",
    "\n",
    "<!--\n",
    "<img src=\"./img/logoboxverde.png\" align=\"right\"/>\n",
    "-->\n",
    "__by [Daniel Cinalli](http://www.cinalli.com.br)__ - DSc Artificial Intelligence\n",
    "\n",
    "## What is Digital Transformation?\n"
   ]
  },
  {
   "cell_type": "markdown",
   "metadata": {
    "slideshow": {
     "slide_type": "slide"
    }
   },
   "source": [
    "\n",
    "<br/><br/> \n",
    "## Notes:\n",
    "\n",
    "* Coded in Python 3.x\n",
    "* Using [Anaconda](https://www.anaconda.com/) is recommended\n",
    "* Run the notebook `online` at [binder](https://mybinder.org/v2/gh/drcinalli/Artificial-Intelligence-and-Transformation/master) [![Binder](https://mybinder.org/badge_logo.svg)](https://mybinder.org/v2/gh/drcinalli/Artificial-Intelligence-and-Transformation/master)\n",
    "<!-- * [nbviewer](https://nbviewer.jupyter.org/) allows you to switch the notebooks \"slides\" mode-->"
   ]
  },
  {
   "cell_type": "markdown",
   "metadata": {
    "slideshow": {
     "slide_type": "slide"
    }
   },
   "source": [
    "<br> </br>\n",
    "### Table of Contents\n",
    "\n",
    "- [What is Digital Transformation?](#whatisdigitaltransformation)\n",
    "- [Why is it Important?](#whydigitaltransformation)\n",
    "- [Where to apply it?](#wheredigitaltransformation)\n",
    "- [How to do it?](#howdigitaltransformation)\n",
    "- [Trends?](#trends)\n",
    "- [Miscellaneous](#misc)\n",
    "\n",
    "\n",
    "\n",
    "\n",
    "<br> <br>\n"
   ]
  },
  {
   "cell_type": "markdown",
   "metadata": {
    "slideshow": {
     "slide_type": "slide"
    }
   },
   "source": [
    "<a id='blabladigital'></a>\n",
    "## Digital Transformation\n",
    "\n",
    "\n",
    "<img align=right src=\"img/boring.gif\" width=300/>\n",
    "<!-- James/Jim Belushi-->\n",
    "\n",
    "Sick of being told your business should be more like `Apple`, `Amazon`, `Uber`, or `Airbnb`?\n",
    "\n",
    "Tired of the word: Digital Transformation?\n",
    "\n",
    "\n",
    "> Inovation <br>\n",
    "> Applied Innovation<br>\n",
    "> **Digital Journey**\n",
    "        \n",
    "<br>  \n",
    "\n",
    "\n",
    "Let's try to re-build this idea:\n",
    "\n",
    "* **WHAT** is Digital Transformation?\n",
    "* **WHY** is it Important?\n",
    "* **WHERE** to apply it?\n",
    "* **HOW** to do it?\n",
    "* **EXAMPLES**\n",
    "        \n"
   ]
  },
  {
   "cell_type": "markdown",
   "metadata": {
    "slideshow": {
     "slide_type": "slide"
    }
   },
   "source": [
    "<a id='whatisdigitaltransformation'></a>\n",
    "## What is Digital Transformation?\n",
    "\n",
    "\n",
    "<img align=right src=\"img/digitaltra.jpg\" width=400/>\n",
    "\n",
    "> it is a challenge! a digital journey\n",
    "        \n",
    "<br>  \n",
    "\n",
    "Many definition:\n",
    "\n",
    "... the **integration** of digital **technology** into **all** areas of a business, fundamentally **changing how** you operate and deliver value to customers.\n",
    "\n",
    "<br>\n",
    "\n",
    "What is the Impact?\n",
    "\n",
    "* increased use of technology \n",
    "\n",
    "* digital experience on employees, customers, suppliers, partners and stakeholders.\n",
    "\n",
    "* digitisation of assets\n",
    "\n",
    "* a change in leadership and mindset\n",
    "\n",
    "* encouragement of innovation\n",
    "\n",
    "* new business models\n"
   ]
  },
  {
   "cell_type": "markdown",
   "metadata": {},
   "source": [
    "<br>  \n",
    "<br>  \n",
    "\n",
    "> take things and make them Virtual\n",
    "        \n",
    "<br>  \n",
    "\n",
    "So, it is a strategic alliance with IT.\n",
    "<br>  \n",
    "**rethinking** `product` offerings, `process`, and `technology`\n",
    "\n",
    "<br>\n",
    "\n",
    "* disruptive or progressive/gradual? we'll see it ahead.<br>\n",
    "\n",
    "\n"
   ]
  },
  {
   "cell_type": "markdown",
   "metadata": {},
   "source": [
    "<a id='whydigitaltransformation'></a>\n",
    "## Why Digital Transformation?\n",
    "\n",
    "\n",
    "<img align=right src=\"img/digi2.jpg\" width=350/>\n",
    "\n",
    "> what is the difference today?\n",
    "\n",
    "Because **today** business must be (mandatory):\n",
    "\n",
    "* survival issue\n",
    "* agile\n",
    "* responsive\n",
    "* innovative (otherwise, extinct)\n",
    "* efficiency\n",
    "\n",
    "it is the future... creates `sustainable competitive advantage`\n"
   ]
  },
  {
   "cell_type": "markdown",
   "metadata": {},
   "source": [
    "<br>  \n",
    "<br>  \n",
    "\n",
    "> expensive and risky\n",
    "        \n",
    "<br>  \n",
    "\n",
    "So, it is `not` a choice.\n",
    "The biggest risk is `not` taking any risk.\n",
    "\n"
   ]
  },
  {
   "cell_type": "markdown",
   "metadata": {},
   "source": [
    "<br>\n",
    "<br>\n",
    "\n",
    "`ÌF YOU SAY yes FOR THOSE QUESTIONS`\n",
    "\n",
    "- Is the marketplace where I compete undergoing—or vulnerable to—significant changes that are reshaping value?\n",
    "- Is my company ready to move beyond basic digital experiments and embark on a fundamental and integrated transformation of the business?\n",
    "- Is my company ready to signal its digital-transformation efforts to audiences both internal and external?\n",
    "- Do we need a disruptive perspective from someone who can objectively and credibly challenge the status quo with a “digital first” mind-set?\n",
    "- Does the current leadership team have the capacity to steward the digital transformation and support this new role?\n"
   ]
  },
  {
   "cell_type": "markdown",
   "metadata": {},
   "source": [
    "<a id='wheredigitaltransformation'></a>\n",
    "## Where to apply Digital Transformation?\n",
    "\n",
    "\n",
    "<!-- <img align=right src=\"img/digitaltra.jpg\" width=400/> -->\n",
    "\n",
    "who asks for it?\n",
    "> product | process | operation | customer experience\n",
    "\n",
    "<br>\n",
    "- track competitive advantage <br>\n",
    "- rethink old operating models <br>\n",
    "- experiment more <br>\n",
    "- become more agile<br>\n",
    "- respond to customers <br>\n",
    "- respond to rivals\n",
    "\n"
   ]
  },
  {
   "cell_type": "markdown",
   "metadata": {},
   "source": [
    "<br>\n",
    "<br>\n",
    "\n",
    "**S&P 500 average age of a company and the disruptive force of technology**\n",
    "\n",
    "\n",
    "The average has fallen from almost 60 years old in the 1950s to less than 20 years today\n",
    "\n",
    "<br>\n",
    "<img  align=left src=\"img/averageSP500.png\" width=500/>\n"
   ]
  },
  {
   "cell_type": "markdown",
   "metadata": {},
   "source": [
    " <br>\n",
    "<br>\n",
    "\n",
    "\n",
    "`POWERFUL` digital platforms: \n",
    "\n",
    "- scale<br>\n",
    "- scope <br>\n",
    "- speed<br>\n",
    "\n",
    "to expand into new growth markets and geographies\n",
    "\n",
    "<img align=left src=\"img/top12.png\" width=500/>\n"
   ]
  },
  {
   "cell_type": "markdown",
   "metadata": {},
   "source": [
    "\n",
    "###### source: https://www.innosight.com/insight/creative-destruction/"
   ]
  },
  {
   "cell_type": "markdown",
   "metadata": {},
   "source": [
    "<br>\n",
    "<br>\n",
    "\n",
    "**Some positive examples**\n",
    "\n",
    "<img align=left src=\"img/inobest.png\" width=400/>\n",
    "\n"
   ]
  },
  {
   "cell_type": "markdown",
   "metadata": {},
   "source": [
    "Case 1 - go to DTX cases"
   ]
  },
  {
   "cell_type": "markdown",
   "metadata": {},
   "source": [
    "Case 2 - go to DTX cases"
   ]
  },
  {
   "cell_type": "markdown",
   "metadata": {},
   "source": [
    "<br>\n",
    "<br>\n",
    "\n",
    "**Some negative examples**\n",
    "\n",
    "<img align=left src=\"img/inofailed.png\" width=400/>\n"
   ]
  },
  {
   "cell_type": "markdown",
   "metadata": {},
   "source": [
    "Case 1 go to DTX cases"
   ]
  },
  {
   "cell_type": "markdown",
   "metadata": {},
   "source": [
    "Case 2 go to DTX cases"
   ]
  },
  {
   "cell_type": "markdown",
   "metadata": {},
   "source": [
    "<a id='howdigitaltransformation'></a>\n",
    "## How to do it (DTX)?\n",
    "\n",
    "\n",
    "<!-- <img align=right src=\"img/digitaltra.jpg\" width=400/> -->\n",
    "\n",
    "> how to make this work again?\n",
    "\n",
    "<br>\n",
    "\n",
    "Take a **holistic** view of digital `change efforts` and `integration` into all aspects of the business:\n",
    "\n",
    "product | process | operation | customer experience\n",
    "\n",
    "    "
   ]
  },
  {
   "cell_type": "markdown",
   "metadata": {},
   "source": [
    "<br>\n",
    "<br>\n",
    "<img align=right src=\"img/oz.jpg\" width=250/>\n",
    "\n",
    "\n",
    "**CHOOSE the way... the journey's pace**\n",
    "\n",
    "<br>\n",
    "\n",
    "> 1. **fix and incremental changes**\n",
    "<br>*continue to do what it does well and `add` digital products that enhance business*\n",
    "\n",
    "<!--Instead of trying to be Amazon, your organization should be figuring out -->\n",
    "> 2. **disruptive changes (innovation, creative destruction...)**\n",
    "<br>*rethink old operating models*\n",
    "\n",
    "> 3. **hybrid**\n",
    "\n",
    "\n",
    "<!-- must look at how the organization operates and find ways to inject speed into processes-->\n"
   ]
  },
  {
   "cell_type": "markdown",
   "metadata": {},
   "source": [
    "\n",
    "\n",
    "**CHOOSE the battle...**\n",
    "\n",
    "<br>\n",
    "\n",
    "> 1. **straightforward**\n",
    "<br>*working with IT to automate existing development processes*\n",
    "\n",
    "<!--Instead of trying to be Amazon, your organization should be figuring out -->\n",
    "> 2. **radical changes**\n",
    "<br>*rethink old operating models*\n",
    "\n",
    "> 3. **hybrid**\n",
    "\n",
    "\n"
   ]
  },
  {
   "cell_type": "markdown",
   "metadata": {},
   "source": [
    "\n",
    "<img align=right src=\"img/cross.png\" width=400/>\n",
    "<br>\n",
    "<br>\n",
    "\n",
    "**CHOOSE the engagement...**\n",
    "\n",
    "<br>\n",
    "\n",
    "\n",
    "> 1. **block**\n",
    "<br>*isolated areas*\n",
    "\n",
    "> 2. **cross-functional**\n",
    "<br>*across business units and functions*\n",
    "<br>*both the top and bottom lines*\n",
    "\n",
    "<br>\n",
    "\n",
    "option `#2`: brings more engagement of the workforce, cultural change\n",
    "\n",
    "<br>\n",
    "<br>\n",
    "\n",
    "###### image: McKinsey & Company\n",
    "\n",
    "\n",
    "<!-- That’s the conventional wisdom: improve one part at a time, then move to the next part, methodically and consistently. This traditional view sounds sensible but appears to be wrong. Research by our colleagues shows that the most successful performance-transformation efforts cut across business units and functions, target both the top and bottom lines, and engage a substantial share of the workforce. Those findings are consistent with our experience, which is that cross-functional operations transformations—emphasizing the interactions between product development, procurement, manufacturing, supply chains, capital expenditures, and services (exhibit)—typically outperform their single-function counterparts by between 30 and 40 percent. -->\n"
   ]
  },
  {
   "cell_type": "markdown",
   "metadata": {},
   "source": [
    "<br>\n",
    "<br>\n",
    "\n",
    "**REMEMBER!**\n",
    "\n",
    "> not only tech, but digital continuation\n",
    "\n",
    "<br>\n",
    "\n",
    "Technology is a `enabler`, not driver... \n",
    "\n",
    "it's more about shedding outdated processes and legacy technology than new tech\n"
   ]
  },
  {
   "cell_type": "markdown",
   "metadata": {},
   "source": [
    "<br>\n",
    "<br>\n",
    "\n",
    "## How to do it (DTX)?\n",
    "\n",
    "1. Business Areas\n",
    "2. Pace\n",
    "3. Tools\n",
    "4. Plan\n",
    "5. Campaign\n"
   ]
  },
  {
   "cell_type": "markdown",
   "metadata": {},
   "source": [
    "<br>\n",
    "<br>\n",
    "\n",
    "**1. Business Areas**\n",
    "\n",
    "<br>\n",
    "\n",
    "*Remember* the holistic view of digital `change efforts`:\n",
    "\n",
    "> product | process | operation | customer experience\n",
    "\n",
    "\n",
    "Therefore, not only IT needs the transformation:\n",
    "\n",
    "- compliance\n",
    "- finance \n",
    "- human resources\n",
    "- legal\n",
    "- procurement\n",
    "- risk\n",
    "- ...\n"
   ]
  },
  {
   "cell_type": "markdown",
   "metadata": {},
   "source": [
    "<br>\n",
    "\n",
    "\n",
    "\"but **XX** still insists it requires **SIX** months to approve a **XX**\"\n",
    "\n",
    "<br>\n",
    "\n",
    "Quite sure there are reason for that. No doubt.\n",
    "\n",
    "\n",
    "But **if we believe we need DTX to survive**, we have to think and test new ways of operating\n",
    "\n",
    "\n",
    "> lean | agile | internal networks | engagement with leaders across the business\n",
    "\n",
    "\n"
   ]
  },
  {
   "cell_type": "markdown",
   "metadata": {},
   "source": [
    "<br>\n",
    "<br>\n",
    "\n",
    "**2. Pace**\n",
    "###### (as already presented)\n",
    "\n",
    "<br>\n",
    "\n",
    "\n",
    "> 1. **fix and incremental changes**\n",
    "<br>*continue to do what it does well and `add` digital products that enhance business*\n",
    "<br>*gradual*\n",
    "<br>*improve one part at a time, then move to the next part, methodically and consistently*\n",
    "\n",
    "\n",
    "\n",
    "\n",
    "\n",
    "\n",
    "<!--Instead of trying to be Amazon, your organization should be figuring out -->\n",
    "> 2. **disruptive changes (innovation, creative destruction...)**\n",
    "<br>*rethink old operating models*\n",
    "<br>*redefine your business*\n",
    "\n",
    "\n",
    "> 3. **hybrid**\n",
    "\n"
   ]
  },
  {
   "cell_type": "markdown",
   "metadata": {},
   "source": [
    "<br>\n",
    "<br>\n",
    "\n",
    "**3. Tools**\n",
    "\n",
    "<br>\n",
    "\n",
    "- operational backbone: tech for core operations\n",
    "- digital platform: a data-driven world and digital tools \n",
    "\n"
   ]
  },
  {
   "cell_type": "markdown",
   "metadata": {},
   "source": [
    "<br>\n",
    "<br>\n",
    "\n",
    "**4. Plan**\n",
    "\n",
    "<br>\n",
    "\n",
    "> deliver, deliver, deliver!\n",
    "\n",
    "<br>\n",
    "\n",
    "\n",
    "...building a **digital platform** for new **product | process | operation | customer experience**\n",
    "\n",
    "<br>\n",
    "<br>\n",
    "\n",
    "`1 month`\n",
    "- AS IS survey for IT \n",
    "- AS IS survey for DTX\n",
    "- INTERVIEWS key areas\n",
    "- LONG-TERM vision (IT and Business)\n",
    "- BUDGET approved\n",
    "\n"
   ]
  },
  {
   "cell_type": "markdown",
   "metadata": {},
   "source": [
    "`6 months`\n",
    "\n",
    "- GAPS identified\n",
    "- DIGITAL INITIATIVES defined and clear\n",
    "- TEAM organization\n",
    "- BUDGET review\n",
    "- DTX PROGRAM launched\n",
    "- DIGITAL INITIATIVES begin\n",
    "\n",
    "\n",
    "`1 year`\n",
    "\n",
    "- FORUM and CONFERENCES\n",
    "- PARTNERS and STARTUPS relationship\n",
    "\n",
    "`1.5 years`\n",
    "- ROI get some solid wins"
   ]
  },
  {
   "cell_type": "markdown",
   "metadata": {},
   "source": [
    "<br>\n",
    "<br>\n",
    "\n",
    "**5. Campaign**\n",
    "\n",
    "<br>\n",
    "\n",
    "> change the culture... action!\n",
    "\n",
    "<br>\n",
    "\n",
    "`WE NEED A MKT PROGRAM & DIGITAL STORY!` \n",
    "<br>that sends **regular** company-wide info highlighting \n",
    "<br>and engage leaders to support the transformation\n",
    "\n",
    "- DTX collaborations\n",
    "- breakthroughs/progresses\n",
    "- insights\n",
    "- initiatives\n",
    "- ...\n",
    "\n"
   ]
  },
  {
   "cell_type": "markdown",
   "metadata": {},
   "source": [
    "<br>\n",
    "\n",
    "`BECAUSE` we need to \n",
    "\n",
    "- continually challenge the status quo\n",
    "- experiment more\n",
    "- no fear failure\n",
    "- spread cultural and behavioral changes to all participants\n",
    "- encouraging employees to challenge old ways of working\n",
    "\n"
   ]
  },
  {
   "cell_type": "markdown",
   "metadata": {},
   "source": [
    "<a id='trends'></a>\n",
    "## Trends\n",
    "\n",
    "\n",
    "<img align=right src=\"img/trends.png\" width=300/>\n",
    "\n",
    "\n",
    "\n",
    "> Main: Customer, Process, Operation\n",
    "\n",
    "<br>\n",
    "\n",
    "**Transforming Customer Experience**\n",
    "\n",
    "- systems to gain understanding of specific geographies and market segments\n",
    "- social media to rate satisfaction or dissatisfaction\n",
    "- promote brands through digital media\n",
    "- online communities \n",
    "- data analyses applied to customers \n",
    "- mobile tools\n",
    "\n",
    "**Transforming Operational Processes**\n",
    "\n",
    "- digital backbone and digital platform\n",
    "- clouding (adoption of IaaS, PaaS, and SaaS)\n",
    "- digital self-serve technology for employees and business partners\n",
    "\n",
    "\n",
    "**Transforming Process Digitization**\n",
    "\n",
    "- AI and machine learning\n",
    "- big data and analytics \n",
    "- paperless\n",
    "- agile and Lean\n",
    "- innovative new products\n",
    "- improving business process.\n"
   ]
  },
  {
   "cell_type": "markdown",
   "metadata": {},
   "source": [
    "<a id='misc'></a>\n",
    "## Miscellaneous\n",
    "\n",
    "<br>\n",
    "\n",
    "\n",
    "> Maturity Model ade\n",
    "\n",
    "- `altimeter 6 stages` - DTX\n",
    "\n",
    "- e.g. ITIL\n",
    "- e.g. Project\n",
    "- e.g. Cobit\n"
   ]
  },
  {
   "cell_type": "markdown",
   "metadata": {},
   "source": [
    "<br>\n",
    "<br>\n",
    "> expensive and risky\n",
    "\n",
    "Is it `Difficult`? <br>\n",
    "According McKinsey, 80%+ fail \n",
    "\n",
    "If traditional industries (oil & gas, automotive, infrastructure, and pharmaceuticals), 90%+ fail\n",
    "<br>\n",
    "Is it `Expensive`? <br>\n",
    "1.3 trillion USD in 2018\n",
    "\n",
    "- Home Depot 300 million USD\n",
    "- WalMart and General Electric more than 1 billion USD\n",
    "\n",
    "*(IDC) by 2020, 30% of G2000 companies will invest 10% percent of revenue to DTX*\n",
    "\n",
    "\n",
    "<br>\n",
    "\n",
    "###### Source: https://www.mckinsey.com/business-functions/organization/our-insights/unlocking-success-in-digital-transformations\n"
   ]
  },
  {
   "cell_type": "markdown",
   "metadata": {},
   "source": [
    "\n",
    "\n",
    "<br>\n",
    "<br>\n",
    "\n",
    "> CIO or CDO?\n",
    "\n",
    "So, Why not IT department?\n",
    "\n",
    "- CIO 1001 responsabilities on the Run (`72%`) and some Projects (`28%`)<br>\n",
    "- It is simply `too much` to focus on DTX properly\n",
    "\n",
    "Like P&D/R&D, the digital office should be a dedicated area\n",
    "\n",
    "\n",
    "<br>\n",
    "\n",
    "**CDOs are ultimately judged not by the quality of their ideas but by their ability to lead different types of teams, guide projects, overcome hurdles, and DELIVER integrated change.**\n",
    "\n"
   ]
  },
  {
   "cell_type": "markdown",
   "metadata": {},
   "source": [
    "<br>\n",
    "<br>\n",
    "\n",
    "**Some Statments**\n",
    "\n",
    "- CDO is a “transformer in chief,”\n",
    "- CDO relationship: CEO + CIO + CFO + business-unit leaders\n",
    "- 50% time on external partners to build effective working relationships\n",
    "\n",
    "\n",
    "**Some characteristics**\n",
    "\n",
    "- leadership\n",
    "- capability building\n",
    "- empowering workers\n",
    "- upgrading tools\n",
    "- communication\n",
    "- empathy and Trust\n"
   ]
  },
  {
   "cell_type": "markdown",
   "metadata": {},
   "source": []
  },
  {
   "cell_type": "markdown",
   "metadata": {},
   "source": [
    "<img align=right src=\"img/sum2.jpg\" width=300/>\n",
    "\n",
    "## SUM-UP\n",
    "\n",
    "\n",
    "... the **integration** of digital **technology** into **all** areas of a business, fundamentally **changing how** you operate and deliver value to customers.\n",
    "\n",
    "**rethinking** `product` offerings, `process`, and `technology`\n",
    "\n",
    "*WHY* \n",
    "\n",
    "* survival issue\n",
    "* agile\n",
    "* responsive\n",
    "* innovative (otherwise, extinct)\n",
    "* efficiency\n",
    "\n",
    "<br>\n",
    "\n",
    "*WHO*  asks for it?\n",
    "> product | process | operation | customer experience\n",
    "\n",
    "\n"
   ]
  },
  {
   "cell_type": "markdown",
   "metadata": {},
   "source": [
    "\n",
    "<br>\n",
    "<br>\n",
    "\n",
    "*CHOOSE* the journey's pace\n",
    "\n",
    "- fix and incremental changes\n",
    "- disruptive changes (innovation, creative destruction...)\n",
    "- hybrid\n",
    "\n",
    "*CHOOSE* the engagement\n",
    "\n",
    "- block\n",
    "- cross-functional\n"
   ]
  },
  {
   "cell_type": "markdown",
   "metadata": {},
   "source": [
    "<br>\n",
    "<br>\n",
    "\n",
    "*HOW* to do it (DTX)\n",
    "\n",
    "1. Business Areas\n",
    "2. Pace\n",
    "3. Tools\n",
    "4. Plan\n",
    "5. Campaign\n"
   ]
  },
  {
   "cell_type": "markdown",
   "metadata": {},
   "source": [
    "## see you soon!"
   ]
  }
 ],
 "metadata": {
  "kernelspec": {
   "display_name": "Python 3",
   "language": "python",
   "name": "python3"
  },
  "language_info": {
   "codemirror_mode": {
    "name": "ipython",
    "version": 3
   },
   "file_extension": ".py",
   "mimetype": "text/x-python",
   "name": "python",
   "nbconvert_exporter": "python",
   "pygments_lexer": "ipython3",
   "version": "3.7.6"
  }
 },
 "nbformat": 4,
 "nbformat_minor": 4
}
