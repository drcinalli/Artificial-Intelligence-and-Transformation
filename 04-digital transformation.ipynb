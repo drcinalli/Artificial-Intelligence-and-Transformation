{
 "cells": [
  {
   "cell_type": "markdown",
   "metadata": {
    "slideshow": {
     "slide_type": "skip"
    }
   },
   "source": [
    "<img src=\"./img/logoconvexbrancomini2.png\"  align=\"right\"/>"
   ]
  },
  {
   "cell_type": "markdown",
   "metadata": {
    "slideshow": {
     "slide_type": "skip"
    }
   },
   "source": [
    "<img src=\"./img/logoboxverde.png\" align=\"right\"/>\n",
    "<br>\n"
   ]
  },
  {
   "cell_type": "markdown",
   "metadata": {
    "slideshow": {
     "slide_type": "slide"
    },
    "toc-hr-collapsed": true
   },
   "source": [
    "<!--\n",
    "<img src=\"./img/logoconvexbrancomini2.png\"  align=\"right\"/>\n",
    "-->\n",
    "# Artificial Intelligence and Digital Transformation\n",
    "\n",
    "<!--\n",
    "<img src=\"./img/logoboxverde.png\" align=\"right\"/>\n",
    "-->\n",
    "__by [Daniel Cinalli](http://www.cinalli.com.br)__ - DSc Artificial Intelligence\n",
    "\n",
    "## What is Digital Transformation?\n"
   ]
  },
  {
   "cell_type": "markdown",
   "metadata": {
    "slideshow": {
     "slide_type": "slide"
    }
   },
   "source": [
    "\n",
    "<br/><br/> \n",
    "## Notes:\n",
    "\n",
    "* Coded in Python 3.x\n",
    "* Using [Anaconda](https://www.anaconda.com/) is recommended\n",
    "* Run the notebook `online` at [binder](https://mybinder.org/v2/gh/drcinalli/Artificial-Intelligence-and-Transformation/master) [![Binder](https://mybinder.org/badge_logo.svg)](https://mybinder.org/v2/gh/drcinalli/Artificial-Intelligence-and-Transformation/master)\n",
    "<!-- * [nbviewer](https://nbviewer.jupyter.org/) allows you to switch the notebooks \"slides\" mode-->"
   ]
  },
  {
   "cell_type": "markdown",
   "metadata": {
    "slideshow": {
     "slide_type": "slide"
    }
   },
   "source": [
    "<br> </br>\n",
    "### Table of Contents\n",
    "\n",
    "- [xxxx](#whatisacomputer)\n",
    "\n",
    "\n",
    "\n",
    "<br> <br>\n"
   ]
  },
  {
   "cell_type": "markdown",
   "metadata": {
    "slideshow": {
     "slide_type": "slide"
    }
   },
   "source": [
    "<a id='whatisacomput'></a>\n",
    "## xxx?\n",
    "\n",
    "\n",
    "<img align=right src=\"img/xxxx.jpg\" width=300/>\n",
    "\n",
    ">xxxx\n",
    "        \n",
    "<br>  \n",
    "\n",
    "Two main properties:\n",
    "\n",
    "* performs calculation*\n",
    "* store results (and remember them)**\n",
    "        \n",
    "<br>\n",
    "<br>\n"
   ]
  },
  {
   "cell_type": "markdown",
   "metadata": {},
   "source": [
    "Other names: Inovation, Dig Trans, applied innovation\" .... the digital journey \n",
    "Melhor: digital Journey\n",
    "(Sick of being told your business should be more like Apple, Amazon, Uber, or Airbnb? .... or cansado de ouvir isso e achar balela?)\n",
    "Vamos tentar resolver, retratar e simplificar a ideia...\n",
    "\n",
    "What's not clear to many business leaders is what digital transformation means and HOW to do it. \n",
    "and\n",
    "Is it really worth it?\n",
    " \n",
    "sera?\n",
    "In a new McKinsey Global Survey on digital transformations, more than eight in ten respondents say their organizations have undertaken such efforts in the past five years\n",
    "\n",
    "eu tbem posso quebrar meus pctes e dizer q sou agile\n",
    "kkk\n",
    "\n",
    "eh so ver a taxa de sucesso SENDO GENEROSO < 30% (ou fracasso 70%) succeed at improving a company’s performance and sustaining those gains\n",
    "https://www.mckinsey.com/business-functions/organization/our-insights/unlocking-success-in-digital-transformations\n",
    "\n",
    "Only 16 percent of respondents say their organizations’ digital transformations have successfully improved performance and also equipped them to sustain changes in the long term.\n",
    "high tech, media, and telecom, are struggling...the success rate does not exceed 26 percent.\n",
    "in more traditional industries, such as oil and gas, automotive, infrastructure, and pharmaceuticals, digital transformations are even more challenging: success rates fall between 4 and 11 percent.\n",
    "\n",
    "valor 2018\n",
    "Of the $1.3 trillion that was spent on DT last year, it was estimated that $900 billion went to waste. Why do some DT efforts succeed and others fail?\n",
    "\n",
    "\n",
    "isso se dá ao fato de generalizar Transf Digital, romantizar, sonhar e nao saber exatamente o que é\n",
    "\n",
    "e eu vou abordar esses pontos:\n",
    "what>why>how>examples by areas\n",
    "\n"
   ]
  },
  {
   "cell_type": "markdown",
   "metadata": {},
   "source": [
    "WHAT\n",
    "vou começar com o óbvio.... WHAT\n",
    "\n",
    "it is a challenge!\n",
    "\n",
    "Digital transformation is the integration of digital technology into all areas of a business, fundamentally changing how you operate and deliver value to customers.\n",
    "\n",
    "However, in general terms, we define digital transformation as the integration of digital technology into all areas of a business resulting in fundamental changes to how businesses operate and how they deliver value to customers.\n",
    "\n",
    "“[Digital transformation] involves a change in leadership, different thinking, the encouragement of innovation and new business models, incorporating digitisation of assets and an increased use of technology to improve the experience of your organisation’s employees, customers, suppliers, partners and stakeholders.”\n",
    "\n",
    "to rethink old operating models, to experiment more, to become more agile in your ability to respond to customers and rivals \n",
    "\n",
    "to rethink their business to create better experiences for customers, employees, and ecosystem partners, and to lower costs. \n",
    "(veja clientes, e internamente tbem)\n",
    "\n",
    "Bonito, mas o q significa isso? uma forma pra decorar ou pra deixar unificado o nosso entendimento aqui nessa palesta:\n",
    "é uma parceria estratégica com TI (demais?) ok entao eh uma abertura pra TI, um chamado pra ti ajudar mais onde for possivel...\n",
    "é alinhmento. EH ISSO HOJE OK? qquer coisa além pode ser imaginada e será... mas agora É ISSO!\n",
    "\n",
    "rethinking product offerings, process, and technology --- e mais que isso ACT gradativamente (eh a minha estratégia)\n",
    "\n",
    "take things and make them Virtual: \n",
    "!!!Crava o WHAT!!!\n",
    "\n",
    "existe um modo mais extremo:\n",
    "1st thing is fundamentally changing the way you think about your business today\n",
    "organizational disruption \n",
    "investing in new... innovative models ---- CLICHE demais\n",
    "redefine your business\n",
    "\n",
    "Mas como: digital transformation will look different for every company\n",
    "eu fico com o mais comum, mais provável, mior chance de acerto e um primeiro passo plausível:\n",
    "parceiro estrategico --- escuto isso ha anos... sonho de ti\n",
    "\n",
    "Digital isn’t merely a thing—it’s a new way of doing things. \n",
    "Many companies are focused on developing a digital strategy when they should instead focus on integrating digital into all aspects of the business, from channels and processes and data to the operating model, incentives, and culture. \n",
    "\n",
    "!!!Crava o WHAT!!!\n",
    "\n",
    "alguns exemplos aqui????\n",
    "ou mais pra frente?\n",
    "or example, investing in automation capabilities to rapidly respond to customer interactions, developing sophisticated reporting and analytics capabilities to interpret customer needs, building innovative interfaces to gather customer data (for example, an alternative payment method), and creating mechanisms to deliver content and offers across all relevant channels. \n",
    "\n",
    "Some CDOs realize too late that functions such as compliance, finance, human resources, legal, procurement, and risk also need to change to support a more digitally focused company. At one company, for example, an effort to accelerate time to market is in full swing, but procurement still insists it requires six months to approve a vendor. Changing such supporting processes isn’t easy—functions often have good reasons for why processes are undertaken as they are. But brokering compromises and testing new ways of operating that are necessary to make progress will be virtually impossible if a CDO doesn’t build internal networks early and engage with leaders across the business.\n",
    "\n",
    "Acho q vale colocar alguns exemplos... quais e qual profundidade?\n",
    "1 exemplo simples e um porrador.\n",
    "\n",
    "Vamos tentar decodificar um pouco mais:\n",
    "\n",
    "\n",
    "- vou definir como fazemos isso.... mais a frente\n",
    "\n",
    "\n"
   ]
  },
  {
   "cell_type": "markdown",
   "metadata": {},
   "source": [
    "WHY, temos q fazer isso?\n",
    "\n",
    "o obvio ... DigT eh mandatorui, o futuro\n",
    "mas vamos simplificar: é pra se tornar competitivo. ... It's a survival issue for many. \n",
    "innovation or extintion\n",
    "Businesses don't transform by choice because it is expensive and risky.\n",
    " IT leaders face pressure to show that digital initiatives continue to translate to increased agility and speed for the entire organization. \n",
    "\n",
    "pace of change + rapid adoption of technology+new sustainable competitive advantage+\n",
    "strategic planned organisational change\n",
    "\n",
    "to create competitive advantage.... (no produto, no processo, na operatcao...)\n",
    "\n",
    "!!!CRAVA O WHY!!!\n",
    "\n",
    "Pensar em colocar alguns exemplos somente pra contextualizar... e cravar q isso muda tbem a nossa vida como individuo\n",
    "ex: jornal news update, cell phone, photo ---- think about the commercial part not only in tech, spotify (cd - napster - spotfy)\n",
    "\n",
    "No fim precisamos responder: how to make this work again?\n",
    "\n",
    "SP500 average age of a company joining 1957-75, 2003-25, 2013-10\n",
    "\n",
    "LK - to rethink old operating models, to experiment more, to become more agile in your ability to respond to customers and rivals"
   ]
  },
  {
   "cell_type": "markdown",
   "metadata": {},
   "source": [
    "HOW (tech ou process)\n",
    " ... ou seja nao eh tao fundamental por conta apenas da inovacao... tem outras frentes q podem ser mais prepoderantes... mas q eh preciso modificar digitalmente as coisas... isso eh preciso.\n",
    "o tempero de transformacao eh a empresa, a estrategia q dao.\n",
    "\n",
    "\n",
    "Tech is a enabler (not driver) ... enable pra cultura, time e inovacao\n",
    "NAO eh colocar a empresa no face, twiiter, youtube ou na web... mmais q isso\n",
    "digitizing existing services + add techs\n",
    "An important element of digital transformation is, of course, technology. But often, it's more about shedding outdated processes and legacy technology than it is about adopting new tech.\n",
    "\n",
    "Instead of trying to be Amazon, your organization should be figuring out how to continue to do what it does well and add digital products that enhance its products and services****\n",
    "\n"
   ]
  },
  {
   "cell_type": "markdown",
   "metadata": {},
   "source": [
    "perguntas abertas:\n",
    "pq a ti hj já não faz? \n",
    "--- suporte ... eh isso\n",
    "--- nao da tempo\n",
    "--- assim como P&D tem q ser separado\n",
    "\n"
   ]
  },
  {
   "cell_type": "markdown",
   "metadata": {},
   "source": [
    "CDO\n",
    "Gone are the days of being responsible for introducing basic digital capabilities and perhaps piloting a handful of initiatives.\n",
    "The CDO is now a “transformer in chief,” charged with coordinating and managing comprehensive changes that address everything from updating how a company works to building out entirely new businesses. And he or she must make progress quickly.\n",
    "\n",
    "Getting the strategy right requires the CDO to work closely with the CEO, the chief information officer (CIO), business-unit leaders, and the chief financial officer; the CDO also needs to be an active participant in and shaper of the strategy.\n",
    "\n",
    "No matter how it’s branded, CDOs need to be known within their organization for something that is courageous, new, and adds value.\n",
    "\n",
    "\n",
    "to help determine whether a CDO is necessary:\n",
    "\n",
    "Is the marketplace where I compete undergoing—or vulnerable to—significant changes that are reshaping value?\n",
    "Is my company ready to move beyond basic digital experiments and embark on a fundamental and integrated transformation of the business?\n",
    "Is my company ready to signal its digital-transformation efforts to audiences both internal and external?\n",
    "Do we need a disruptive perspective from someone who can objectively and credibly challenge the status quo with a “digital first” mind-set?\n",
    "Does the current leadership team have the capacity to steward the digital transformation and support this new role?\n",
    "\n",
    "\n",
    "CDOs spend as much as 50 percent of their time working with external partners to build effective working relationships that take advantage of every organization’s capabilities. To help bring these outside voices into the organization, many CDOs establish advisory boards of start-up leaders or create “challenger” boards of people with digital experience and expertise to review corporate initiatives and strategies. At a more pedestrian level, they regularly invite technologists or entrepreneurs to team lunches.\n",
    "\n",
    "CDOs are ultimately judged not by the quality of their ideas but by their ability to lead different types of teams, guide projects, overcome hurdles, and deliver integrated change.\n"
   ]
  },
  {
   "cell_type": "markdown",
   "metadata": {},
   "source": [
    "HOW\n",
    "\n",
    "Challenge:\n",
    "one in eight got it right and then there were ranges of failure to really whereby more than 50 percent just didn't go right at all.\n",
    "\n",
    "()digital transformation leaders must take a holistic view of digital change efforts.\n",
    "\n",
    "work to increase efficiency with technology wherever possible. For many, that means adopting agile principles across the business. Automation technologies \n",
    "\n",
    "what need to be changed first\n",
    "\n",
    "Digital isn’t merely a thing—it’s a new way of doing things. \n",
    "Many companies are focused on developing a digital strategy when they should instead focus on integrating digital into all aspects of the business, from channels and processes and data to the operating model, incentives, and culture. \n",
    "\n",
    "must look at how the organization operates and find ways to inject speed into processes. In some cases, it could be as straightforward as working with IT to automate existing development processes. But in others, it will require radically changing how the company works, such as setting extremely aggressive goals—as few as six weeks—for getting a product to market\n",
    "\n",
    "deliver, deliver, deliver\n",
    "\n",
    "**** building a digital platform and building a new operating model.\n",
    "\n",
    "plat. digital: a data-driven world rather than a process-driven world. --- mais ou menos hein .. isso soa estranho.\n",
    "operating model: gain better efficiency, reduce cost, and/or increase repeatability,\n",
    "\n",
    "Operational backbone – technology that handles core operations\n",
    "Digital platform – so you can recreate an idea for the next customer\n",
    "\n",
    "three key areas of their enterprises: customer experience, operational processes and business models.\n",
    "\n",
    "\n",
    "The first key is adopting digital tools to make information more accessible across the organization, which more than doubles the likelihood of a successful transformation. The second is implementing digital self-serve technologies for employees, business partners, or both groups to use; transformation success is twice as likely when organizations do so. A third key, focused on technology in company operations, is organizations modifying their standard operating procedures to include new technologies.\n",
    "\n",
    "\n",
    "Digital transformation often begins with the customer: How to get to know customers better,\n",
    "improve your service levels and digitize the customer experience. It then extends to three\n",
    "additional areas: digitizing operations, products and services  (ver pic cognizant)\n",
    "\n",
    "Within his first month, for example, the new CDO at one financial-services company defined clear, discrete digital initiatives; developed a long-term vision in partnership with an anchor business-unit leader; and got his budget approved. Within six months, he hired a handful of key employees, launched several initiatives, identified gaps in the organization, and pulled together teams to fill them. A year and a half into the job, he was able to claim some solid wins and moved from a “shadow” profit and loss to an explicit one.\n",
    "\n",
    "**That’s the conventional wisdom: improve one part at a time, then move to the next part, methodically and consistently. This traditional view sounds sensible but appears to be wrong. Research by our colleagues shows that the most successful performance-transformation efforts cut across business units and functions, target both the top and bottom lines, and engage a substantial share of the workforce. Those findings are consistent with our experience, which is that cross-functional operations transformations—emphasizing the interactions between product development, procurement, manufacturing, supply chains, capital expenditures, and services (exhibit)—typically outperform their single-function counterparts by between 30 and 40 percent. (picture CROSS)\n",
    "\n",
    "\n",
    "<><><><\n",
    "These characteristics fall into five categories: leadership, capability building, empowering workers, upgrading tools, and communication. "
   ]
  },
  {
   "cell_type": "markdown",
   "metadata": {},
   "source": [
    "******Transforming Customer Experience\n",
    "\n",
    "Customer Understanding\n",
    "Companies are starting to take advantage of previous investments in systems to gain an in-depth understanding of specific geographies and market segments. Some are exploring social media to understand what makes customers happy — and what leads to customer dissatisfaction.\n",
    "companies are learning to promote their brands more effectively through digital media. \n",
    "\n",
    "Companies are also building new online communities to advise and build loyalty with clients in medical, real estate or financial services products. Others are building products that improve branding in lifestyle communities.\n",
    "Many organizations are building analytics capability to understand customers in more detail.\n",
    "\n",
    "tablet-based presentations instead of paper-based slide decks to make sales pitches. Insurance firms are introducing mobile tools to help sales people and customers engage in analytics-based planning. A medical device sales force is replacing in-person interactions with digital interactions. When visiting a doctor’s office, a salesperson leaves an iPad with video and other information on new products. \n",
    "a bank established a Twitter account to answer client complaints quickly, \n",
    "\n",
    "\n",
    "*******Transforming Operational Processes\n",
    "Although transformed customer experiences are the most visible — and arguably the most exciting — aspects of transformation, companies are also realizing very strong benefits from transforming internal processes through process digitization, worker enablement and performance management.\n",
    "\n",
    "Process Digitization\n",
    "Automation can enable companies to refocus their people on more strategic tasks.  Automation allows researchers to focus on innovation and creativity rather than repetitive efforts.\n",
    "\n",
    "******Transforming Business Models\n",
    "Companies are not only changing how their functions work, but also redefining how functions interact and even evolving the boundaries and activities of the firm.\n",
    "\n",
    "Digitally Modified Businesses\n",
    "A grocery company is staying true to its traditional business but using digital to transform a new growth business. As one executive reported, “After two years, our e-commerce platform is bringing us 20% of our new clients and our traditional clients are consuming 13% more on average.”\n",
    "\n",
    "\n",
    "New Digital Businesses\n",
    "Companies are also introducing digital products that complement traditional products.\n",
    "For example, a sports apparel manufacturer started selling GPS and other digital devices that can track and report on a customer’s workout. Other companies are changing business models by reshaping their boundaries through digital. A mortgage company is moving from being a link in the value chain to being a global assembler of investment products. An airport authority is aiming to become the owner of a traveler’s end-to-end process by providing an integrated multichannel experience, including information on airplane traffic and reservations, duty-free shopping promotions and other benefits.\n",
    "\n",
    "Digital Globalization\n",
    "Companies are increasingly transforming from multinational to truly global operations. Digital technology coupled with integrated information is allowing businesses to gain global synergies while remaining locally responsive. These companies benefit from global shared services for finance, HR and even core capabilities like manufacturing and design."
   ]
  },
  {
   "cell_type": "markdown",
   "metadata": {},
   "source": [
    "CARAC\n",
    "\n",
    "Nao eh apenas TECH:Tech is a enabler (not driver)... eh iimportante ok... it's more about shedding outdated processes and legacy technology than it is about adopting new tech. to rethink old operating models, to experiment more, to become more agile in your ability to respond to customers and rivals \n",
    "chasing digital products and offerings that don’t add business value at the end of the day \n",
    "\n",
    " Mais PRJ (Grow) than RUN:CIOs spend an average of 72 percent of their budgets on existing IT concerns, while only 28 percent goes to new projects and innovation. -- isso devia ser o contrario... sempre disse isso. Era melhor ter a medicao de prj vs run.\n",
    " seletivo no portfolio\n",
    "\n",
    "Transversal: Although IT will play an important role in driving digital transformation strategy, the work of implementing and adapting to the massive changes that go along with digital transformation falls to everyone. For this reason, digital transformation is a people issue. tem q ser transversal.... pegar mais do q uma unidade e nao apenas 1.\n",
    "\n",
    "Cultural: \n",
    "also a cultural change that requires organizations to continually challenge the status quo, experiment, and get comfortable with failure. \n",
    "Beyond that, it's a cultural change that requires organizations to continually challenge the status quo, experiment often, and get comfortable with failure. This sometimes means walking away from long-standing business processes that companies were built upon in favor of relatively new practices that are still being defined. \n",
    "\n",
    "Digital transformations require cultural and behavioral changes such as calculated risk taking, increased collaboration, and customer centricity,\n",
    "\n",
    "new behaviors and ways of working through formal mechanisms,... working in new ways... One related factor is encouraging employees to challenge old ways of working.\n",
    "\n",
    "Workforce enablement: part of the culture change ... enable the culture change\n",
    "act of optimism and a leap of faith, driven by a deep desire to make a meaningful difference and an unwavering belief in the strategic vision being undertaken.\n",
    "\n",
    "giving employees a say on where digitization could and should be adopted\n",
    "\n",
    "Empatia and Trust: leading transformation starts with empathy. ... empathy is genuine, you begin to build trust,\n",
    "Successful change is about winning the hearts and minds of the people involved…\n",
    "\n",
    "Tp-Down: CARALHOU por isso nao da certo e tem q ser Top Down\n",
    "In the center of it all is leadership and culture\n",
    "(Establish clear decision-holders from the outset of any initiative and distinguish consultative input from true “thumbs up/thumbs down” decision rights)\n",
    "\n",
    "Fail: fail fast - (falhas no meio do caminho)... e vejo muitas iniciativas q nao funcionaram. Ou ficam no plano das ideias - etérea. ou se retraem a simples relacionamento trivial TI-Bus (importante, vital ... mas tradicional, nao eh transformacao)\n",
    "\n",
    "top down/transversal/ cultural/\n",
    "\n"
   ]
  },
  {
   "cell_type": "markdown",
   "metadata": {},
   "source": [
    "programa, plataforma ou Framework\n",
    "\n",
    "1) conhecer o As-Is.... survey\n",
    "2) pgm marketing e show room.. giving employees a say on where digitization could and should be adopted/ One related factor is encouraging employees to challenge old ways of working.\n",
    "sends regular company-wide emails highlighting customer breakthroughs, insights, \n",
    "\n",
    "3) difuse of initiatives\n",
    "4) culture change: to rethink the role and impact of IT in their day-to-day experience. + Partner\n",
    "5) forum e feiras\n",
    "6) 3-5 anos mas eh gradativo\n",
    "championing incremental wins. ... Digital Maturity\n",
    "build enthusiasm and momentum.\n",
    "\n",
    "7) time engajado and Cross-functional teams \n",
    "digital transformation lead> change champion>technical engineer>data architect>business expert>UX/CX professional>financial analyst>critical hacker\n",
    "https://enterprisersproject.com/article/2019/12/digital-transformation-teams-8-key-roles\n",
    "\n",
    "When people in key roles (both the senior leaders of the organization and those in transformation-specific roles) are more involved in a digital transformation than they were in past change efforts, a transformation’s success is more likely.\n",
    "\n",
    " developing talent and skills throughout the organization\n",
    " \n",
    " \n",
    "8) set goals gradually\n",
    "(outline big goals and achieve none of them)\n",
    "\n",
    "9) fazer os inputs para caçar ideias e brainstorms\n",
    "\n",
    "10) The first key is adopting digital tools to make information more accessible across the organization, which more than doubles the likelihood of a successful transformation. The second is implementing digital self-serve technologies for employees, business partners, or both groups to use; transformation success is twice as likely when organizations do so. A third key, focused on technology in company operations, is organizations modifying their standard operating procedures to include new technologies.\n",
    "\n",
    "\n",
    "(aqui vai estar o pulo do gato)"
   ]
  },
  {
   "cell_type": "markdown",
   "metadata": {},
   "source": [
    "1) the digital backbone - underlying capabilities to power the transformation\n",
    "2)  “The big data problem – the increasing volume, velocity, and variety of data –  Now we have mobile data, sensor data, voice data… the list goes on\n",
    "doubles every six months - and it’s increasingly in unstructured formats\n",
    "data governance and analytics leapfrog their competitors\n",
    "3)AI takes center stage\n",
    "4) focus on moving to the cloud has been around adoption of IaaS, PaaS, and SaaS as companies look to leverage the efficiency, scale, and elasticity of cloud services to optimize their spend and reduce cycle times\n",
    "5) paperless; \n",
    "6) Clouding \n",
    "7) another might think of data analytics and artificial intelligence; \n",
    "8) another might picture Agile teams; \n",
    "9) and yet another might think of open-plan offices,\n",
    "10) Improving customer experience has become a crucial goal – and thus a crucial part of digital transformation. \n",
    "11) Digital technology integration\n",
    "12) mproving business process.\n",
    "13) developing innovative new products.\n",
    "14) outline big goals and achieve none of them\n",
    "\n",
    "xx)automation\n",
    "x) innovation\n",
    "\n",
    "\n",
    "key digital transformation trends :\n",
    "\n",
    "1 Rapid adoption of digital operating models, including integrated cross-functional teams. Operational agility\n",
    "2 A shakeout as those that have invested in big data governance and analytics leapfrog their competitors.\n",
    "3 Better use of AI and machine learning.\n",
    "4 Continued merger and acquisition activity in the IT outsourcing industry. AND Consultancies forming new digital partnerships.\n",
    "5 Expanding public cloud adoption.\n",
    "6 More attention to long-term value of digital intiatives.\n",
    "7 Improving customer experience has become a crucial goal – and thus a crucial part of digital transformation. \n",
    "8 Digital technology integration\n",
    "9 Culture and leadership\n",
    "10 Workforce enablement\n",
    "11 mproving business process.\n",
    "12 developing innovative new products."
   ]
  },
  {
   "cell_type": "markdown",
   "metadata": {},
   "source": [
    "Twenty-one keys to success\n",
    "\n",
    "Implement digital tools to make information more accessible across the organization.\n",
    "Engage initiative leaders (leaders of either digital or nondigital initiatives that are part of the transformation) to support the transformation.\n",
    "Modify standard operating procedures to include new digital technologies.\n",
    "Establish a clear change story (description of and case for the changes being made) for the digital transformation.\n",
    "Add one or more people who are familiar or very familiar with digital technologies to the top team.\n",
    "Leaders engaged in transformation-specific roles encourage employees to challenge old ways of working (processes and procedures).\n",
    "Senior managers encourage employees to challenge old ways of working (processes and procedures).\n",
    "Redefine individuals’ roles and responsibilities so they align with the transformation’s goals.\n",
    "Provide employees with opportunities to generate ideas of where digitization might support the business.\n",
    "Establish one or more practices related to new ways of working (such as continuous learning, open physical and virtual work environments, and role mobility).\n",
    "Engage employees in integrator roles (employees who translate and integrate new digital methods and processes into existing ways of working to help connect traditional and digital parts of the business) to support the transformation.\n",
    "Implement digital self-serve technology for employees’ and business partners’ use.\n",
    "Engage the leader of a program-management office or transformation office (full-time leader of the team or office dedicated to transformation-related activities) to support the transformation.\n",
    "Leaders in transformation-specific roles get more involved in developing the digital transformation’s initiatives than they were in past change efforts.\n",
    "Leaders in transformation-specific roles encourage their employees to experiment with new ideas (such as rapid prototyping and allowing employees to learn from their failures).\n",
    "Senior managers get more involved in digital initiatives than they were in past change efforts.\n",
    "Leaders in transformation-specific roles ensure collaboration between their units and others across the organization when employees are working on transformation initiatives.\n",
    "Senior managers ensure collaboration between their units and others across the organization.\n",
    "Engage technology-innovation managers (managers with specialized technical skills who lead work on digital innovations, such as development of new digital products or services) to support the transformation.\n",
    "Senior managers encourage their employees to experiment with new ideas.\n",
    "Senior managers foster a sense of urgency within their units for making the transformation’s changes."
   ]
  },
  {
   "cell_type": "markdown",
   "metadata": {},
   "source": [
    "modelos maturidade:\n",
    "\n",
    "1- altimeter 6 stages"
   ]
  },
  {
   "cell_type": "markdown",
   "metadata": {},
   "source": [
    "Buscar ou moldar um AS IS survey de TI\n",
    "Buscar um As Is survei de Transf. Digital\n"
   ]
  },
  {
   "cell_type": "markdown",
   "metadata": {},
   "source": [
    "- modelo maturidade ITIL\n",
    "- modelo maturidade Proj\n",
    "- modelo maturidade Cobit\n",
    "\n",
    "tem modelo pra tudo... qual a gente quer?"
   ]
  },
  {
   "cell_type": "markdown",
   "metadata": {},
   "source": [
    "Chalegens\n",
    "1. You don't have the people you need for digital transformation – and you can't go buy them.-- montar o time\n",
    "2. Language (IT and Business) -- alignment and teaching\n",
    "3. organizational structure is strangling your progress.(Establish clear decision-holders from the outset of any initiative and distinguish consultative input from true “thumbs up/thumbs down” decision rights) -- top down\n",
    "4. People are sick of digital transformation. -- empatia, trust, progresso gradativo do programa\n",
    "5. A robust operational backbone (ERP, supply chain, and CRM systems, as well as foundational industry-specific systems) is necessary but not sufficient --"
   ]
  },
  {
   "cell_type": "code",
   "execution_count": null,
   "metadata": {},
   "outputs": [],
   "source": [
    "it takes a really long time"
   ]
  },
  {
   "cell_type": "markdown",
   "metadata": {},
   "source": [
    "qto $\n",
    "\n",
    "Without enough funding, digital transformation is rendered as just empty promises.\n",
    "\n",
    "exemplos de investimento:\n",
    "Home Depot $300 million \n",
    "Wal-Mart and General Electric more than $1 billion to digital transformation.\n",
    "\n",
    "IDC predicts that, by 2020, 30 percent of G2000 companies will have allocated capital budget equal to at least 10 percent of revenue to fuel their digital strategies,\n",
    "\n",
    "Ti eh 2.5-3.5\n",
    "\n",
    "short-term payoff but other projects are chasing longer-term business value.\n",
    "\n",
    "quantifying success is crucial to continued investment. “Just implementing the technology isn’t enough – the technology needs to be specifically tied to monitoring key performance indicators on customer insights and business process effectiveness,” \n",
    "\n",
    "Is the company on the verge of being disrupted by a more innovative, nimble competitor? Or, conversely, does the company have an opportunity to play offense and disrupt its market through digital technology? Your budget priorities should follow accordingly. The digital transformation budget should focus on initiatives that truly grow or defend the company’s market position.\n",
    "\n",
    "valor 2018\n",
    "Of the $1.3 trillion that was spent on DT last year, it was estimated that $900 billion went to waste. Why do some DT efforts succeed and others fail?\n"
   ]
  },
  {
   "cell_type": "markdown",
   "metadata": {},
   "source": [
    "Perfis:\n",
    "- Big gas tanks, intellectual curiosity: high performers, care about making a difference\n",
    "- Uninterested but honest: incapable and not interested in transforming their skills\n",
    "- Messy middle: willing and committed but, for any number of reasons, may not be able to transform themselves. "
   ]
  },
  {
   "cell_type": "markdown",
   "metadata": {},
   "source": [
    "casos de sucesso\n",
    "\n",
    "- DBS Bank, LEGO, Philips, Schneider Electric, and USAA.\n",
    "- amazon\n",
    "apple\n",
    "...\n",
    "- self driven, amazon, m26 bank in german 100/ online..., apple pay\n",
    "(exemplos na apresentacao Vinicius)\n",
    "\n",
    "Casos de disrupcao\n",
    "Accord Hotel vs Booking\n",
    "Taxi vs Uber\n",
    "jornal"
   ]
  },
  {
   "cell_type": "code",
   "execution_count": null,
   "metadata": {},
   "outputs": [],
   "source": [
    "the biggest risk is not taking any risk "
   ]
  },
  {
   "cell_type": "raw",
   "metadata": {},
   "source": [
    "Li & Fung sought to reduce production lead times, increase speed-to-market, and improve the use of data in its global supply chain. After concrete goals were established, the company decided on which digital tools it would adopt. Just to take speed-to-market as an example, Li & Fung has embraced virtual design technology and it has helped them to reduce time from design to sample by 50%. Li & Fung also helped suppliers to install real-time data tracking management systems to increase production efficiency and built Total Sourcing, a digital platform that integrates information from customers and vendors. The finance department took a similar approach and ultimately reduced month-end closing time by more than 30% and increased working capital efficiency by $200 million."
   ]
  },
  {
   "cell_type": "markdown",
   "metadata": {},
   "source": [
    "For instance, according to Echo Nest, a music intelligence startup, your music-based Code Halo\n",
    "can convey much more about you than just what kind of music you like to listen to.2\n",
    " It can also\n",
    "reveal your tastes in food, movies and literature, as well as your product preferences, political\n",
    "learnings and even measures of intelligence. Justin Timberlake fans, for example, are more likely\n",
    "to enjoy Pixar films; people who listen to jazz music tend to care less about sports; and people\n",
    "who listen to Madonna are more likely to vote Democrat in U.S. elections."
   ]
  }
 ],
 "metadata": {
  "kernelspec": {
   "display_name": "Python 3",
   "language": "python",
   "name": "python3"
  },
  "language_info": {
   "codemirror_mode": {
    "name": "ipython",
    "version": 3
   },
   "file_extension": ".py",
   "mimetype": "text/x-python",
   "name": "python",
   "nbconvert_exporter": "python",
   "pygments_lexer": "ipython3",
   "version": "3.7.6"
  }
 },
 "nbformat": 4,
 "nbformat_minor": 4
}
