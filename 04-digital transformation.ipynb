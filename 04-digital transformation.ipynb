{
 "cells": [
  {
   "cell_type": "markdown",
   "metadata": {
    "slideshow": {
     "slide_type": "skip"
    }
   },
   "source": [
    "<img src=\"./img/logoconvexbrancomini2.png\"  align=\"right\"/>"
   ]
  },
  {
   "cell_type": "markdown",
   "metadata": {
    "slideshow": {
     "slide_type": "skip"
    }
   },
   "source": [
    "<img src=\"./img/logoboxverde.png\" align=\"right\"/>\n",
    "<br>\n"
   ]
  },
  {
   "cell_type": "markdown",
   "metadata": {
    "slideshow": {
     "slide_type": "slide"
    },
    "toc-hr-collapsed": true
   },
   "source": [
    "<!--\n",
    "<img src=\"./img/logoconvexbrancomini2.png\"  align=\"right\"/>\n",
    "-->\n",
    "# Artificial Intelligence and Digital Transformation\n",
    "\n",
    "<!--\n",
    "<img src=\"./img/logoboxverde.png\" align=\"right\"/>\n",
    "-->\n",
    "__by [Daniel Cinalli](http://www.cinalli.com.br)__ - DSc Artificial Intelligence\n",
    "\n",
    "## What is Digital Transformation?\n"
   ]
  },
  {
   "cell_type": "markdown",
   "metadata": {
    "slideshow": {
     "slide_type": "slide"
    }
   },
   "source": [
    "\n",
    "<br/><br/> \n",
    "## Notes:\n",
    "\n",
    "* Coded in Python 3.x\n",
    "* Using [Anaconda](https://www.anaconda.com/) is recommended\n",
    "* Run the notebook `online` at [binder](https://mybinder.org/v2/gh/drcinalli/Artificial-Intelligence-and-Transformation/master) [![Binder](https://mybinder.org/badge_logo.svg)](https://mybinder.org/v2/gh/drcinalli/Artificial-Intelligence-and-Transformation/master)\n",
    "<!-- * [nbviewer](https://nbviewer.jupyter.org/) allows you to switch the notebooks \"slides\" mode-->"
   ]
  },
  {
   "cell_type": "markdown",
   "metadata": {
    "slideshow": {
     "slide_type": "slide"
    }
   },
   "source": [
    "<br> </br>\n",
    "### Table of Contents\n",
    "\n",
    "- [What is Digital Transformation?](#whatisdigitaltransformation)\n",
    "- [Why is it Important?](#whydigitaltransformation)\n",
    "- [Where to apply it?](#wheredigitaltransformation)\n",
    "- [How to do it?](#howdigitaltransformation)\n",
    "\n",
    "\n",
    "\n",
    "\n",
    "<br> <br>\n"
   ]
  },
  {
   "cell_type": "markdown",
   "metadata": {
    "slideshow": {
     "slide_type": "slide"
    }
   },
   "source": [
    "<a id='blabladigital'></a>\n",
    "## Digital Transformation\n",
    "\n",
    "\n",
    "<img align=right src=\"img/boring.gif\" width=300/>\n",
    "<!-- James/Jim Belushi-->\n",
    "\n",
    "Sick of being told your business should be more like `Apple`, `Amazon`, `Uber`, or `Airbnb`?\n",
    "\n",
    "Tired of the word: Digital Transformation?\n",
    "\n",
    "\n",
    "> Inovation <br>\n",
    "> Applied Innovation<br>\n",
    "> **Digital Journey**\n",
    "        \n",
    "<br>  \n",
    "\n",
    "\n",
    "Let's try to re-build this idea:\n",
    "\n",
    "* **WHAT** is Digital Transformation?\n",
    "* **WHY** is it Important?\n",
    "* **WHERE** to apply it?\n",
    "* **HOW** to do it?\n",
    "* **EXAMPLES**\n",
    "        \n"
   ]
  },
  {
   "cell_type": "markdown",
   "metadata": {
    "slideshow": {
     "slide_type": "slide"
    }
   },
   "source": [
    "<a id='whatisdigitaltransformation'></a>\n",
    "## What is Digital Transformation?\n",
    "\n",
    "\n",
    "<img align=right src=\"img/digitaltra.jpg\" width=400/>\n",
    "\n",
    "> it is a challenge! a digital journey\n",
    "        \n",
    "<br>  \n",
    "\n",
    "Many definition:\n",
    "\n",
    "... the **integration** of digital **technology** into **all** areas of a business, fundamentally **changing how** you operate and deliver value to customers.\n",
    "\n",
    "<br>\n",
    "\n",
    "What is the Impact?\n",
    "\n",
    "* increased use of technology \n",
    "\n",
    "* digital experience on employees, customers, suppliers, partners and stakeholders.\n",
    "\n",
    "* digitisation of assets\n",
    "\n",
    "* a change in leadership and mindset\n",
    "\n",
    "* encouragement of innovation\n",
    "\n",
    "* new business models\n"
   ]
  },
  {
   "cell_type": "markdown",
   "metadata": {},
   "source": [
    "<br>  \n",
    "<br>  \n",
    "\n",
    "> take things and make them Virtual\n",
    "        \n",
    "<br>  \n",
    "\n",
    "So, it is a strategic alliance with IT.\n",
    "<br>  \n",
    "**rethinking** `product` offerings, `process`, and `technology`\n",
    "\n",
    "<br>\n",
    "\n",
    "* disruptive or progressive/gradual? we'll see it ahead.<br>\n",
    "\n",
    "\n"
   ]
  },
  {
   "cell_type": "markdown",
   "metadata": {},
   "source": [
    "<a id='whydigitaltransformation'></a>\n",
    "## Why Digital Transformation?\n",
    "\n",
    "\n",
    "<img align=right src=\"img/digi2.jpg\" width=350/>\n",
    "\n",
    "> what is the difference today?\n",
    "\n",
    "Because **today** business must be (mandatory):\n",
    "\n",
    "* survival issue\n",
    "* agile\n",
    "* responsive\n",
    "* innovative (otherwise, extinct)\n",
    "* efficiency\n",
    "\n",
    "it is the future... creates `sustainable competitive advantage`\n"
   ]
  },
  {
   "cell_type": "markdown",
   "metadata": {},
   "source": [
    "<br>  \n",
    "<br>  \n",
    "\n",
    "> expensive and risky\n",
    "        \n",
    "<br>  \n",
    "\n",
    "So, it is `not` a choice.\n",
    "The biggest risk is `not` taking any risk.\n",
    "\n"
   ]
  },
  {
   "cell_type": "markdown",
   "metadata": {},
   "source": [
    "Quem pede?\n",
    "\n",
    "customer interactions\n",
    "customer needs\n",
    "customer interfaces\n",
    "customer data "
   ]
  },
  {
   "cell_type": "markdown",
   "metadata": {},
   "source": [
    "<a id='wheredigitaltransformation'></a>\n",
    "## Where to apply Digital Transformation?\n",
    "\n",
    "\n",
    "<!-- <img align=right src=\"img/digitaltra.jpg\" width=400/> -->\n",
    "\n",
    "> product | process | operation\n",
    "\n",
    "<br>\n",
    "source for competitive advantage.\n"
   ]
  },
  {
   "cell_type": "markdown",
   "metadata": {},
   "source": [
    "SP500 average age of a company joining 1957-75, 2003-25, 2013-10\n",
    "\n",
    "LK - to rethink old operating models, to experiment more, to become more agile in your ability to respond to customers and rivals\n",
    "\n",
    "(atualizacao)"
   ]
  },
  {
   "cell_type": "markdown",
   "metadata": {},
   "source": [
    "<br>\n",
    "<br>\n",
    "\n",
    "**Some positive examples**\n",
    "\n",
    "<img align=left src=\"img/inobest.png\" width=400/>\n"
   ]
  },
  {
   "cell_type": "markdown",
   "metadata": {},
   "source": [
    "Case 1 - go to DTX cases"
   ]
  },
  {
   "cell_type": "markdown",
   "metadata": {},
   "source": [
    "Case 2 - go to DTX cases"
   ]
  },
  {
   "cell_type": "markdown",
   "metadata": {},
   "source": [
    "<br>\n",
    "<br>\n",
    "\n",
    "**Some negative examples**\n",
    "\n",
    "<img align=left src=\"img/inofailed.png\" width=400/>\n"
   ]
  },
  {
   "cell_type": "markdown",
   "metadata": {},
   "source": [
    "Case 1 go to DTX cases"
   ]
  },
  {
   "cell_type": "markdown",
   "metadata": {},
   "source": [
    "Case 2 go to DTX cases"
   ]
  },
  {
   "cell_type": "markdown",
   "metadata": {},
   "source": [
    "ver cases por area\n",
    "\n",
    "\n",
    "Pensar em colocar alguns exemplos somente pra contextualizar... e cravar q isso muda tbem a nossa vida como individuo\n",
    "ex: jornal news update, cell phone, photo ---- think about the commercial part not only in tech, spotify (cd - napster - spotfy)\n",
    "\n",
    "\n",
    "casos de sucesso\n",
    "\n",
    "- DBS Bank, LEGO, Philips, Schneider Electric, and USAA.\n",
    "- amazon\n",
    "apple\n",
    "...\n",
    "- self driven, amazon, m26 bank in german 100/ online..., apple pay\n",
    "(exemplos na apresentacao Vinicius)\n",
    "\n",
    "Casos de disrupcao\n",
    "Accord Hotel vs Booking\n",
    "Taxi vs Uber\n",
    "jornal\n",
    "\n",
    "Li & Fung sought to reduce production lead times, increase speed-to-market, and improve the use of data in its global supply chain. After concrete goals were established, the company decided on which digital tools it would adopt. Just to take speed-to-market as an example, Li & Fung has embraced virtual design technology and it has helped them to reduce time from design to sample by 50%. Li & Fung also helped suppliers to install real-time data tracking management systems to increase production efficiency and built Total Sourcing, a digital platform that integrates information from customers and vendors. The finance department took a similar approach and ultimately reduced month-end closing time by more than 30% and increased working capital efficiency by $200 million.\n",
    "\n",
    "For instance, according to Echo Nest, a music intelligence startup, your music-based Code Halo\n",
    "can convey much more about you than just what kind of music you like to listen to.2\n",
    " It can also\n",
    "reveal your tastes in food, movies and literature, as well as your product preferences, political\n",
    "learnings and even measures of intelligence. Justin Timberlake fans, for example, are more likely\n",
    "to enjoy Pixar films; people who listen to jazz music tend to care less about sports; and people\n",
    "who listen to Madonna are more likely to vote Democrat in U.S. elections."
   ]
  },
  {
   "cell_type": "markdown",
   "metadata": {},
   "source": [
    "<a id='howdigitaltransformation'></a>\n",
    "## How to do it (DTX)?\n",
    "\n",
    "\n",
    "<!-- <img align=right src=\"img/digitaltra.jpg\" width=400/> -->\n",
    "\n",
    "> how to make this work again?\n",
    "\n",
    "    "
   ]
  },
  {
   "cell_type": "markdown",
   "metadata": {},
   "source": [
    "> not only tech, but digital continuation\n",
    "\n",
    "\n",
    "Tech is a enabler (not driver) ... enable pra cultura, time e inovacao\n",
    "NAO eh colocar a empresa no face, twiiter, youtube ou na web... mmais q isso\n",
    "digitizing existing services + add techs\n",
    "An important element of digital transformation is, of course, technology. But often, it's more about shedding outdated processes and legacy technology than it is about adopting new tech.\n",
    "\n",
    "Instead of trying to be Amazon, your organization should be figuring out how to continue to do what it does well and add digital products that enhance its products and services****\n",
    "\n",
    "shedding outdated processes and legacy technology than it is about adopting new tech. to rethink old operating models, to experiment more, to become more agile in your ability to respond to customers and rivals \n",
    "chasing digital products and offerings that don’t add business value at the end of the day"
   ]
  },
  {
   "cell_type": "markdown",
   "metadata": {},
   "source": [
    "> how\n",
    "\n",
    "digital transformation leaders must take a holistic view of digital change efforts.\n",
    "\n",
    "focus on integrating digital into all aspects of the business, from channels and processes and data to the operating model, incentives, and culture. \n",
    "\n",
    "must look at how the organization operates and find ways to inject speed into processes.\n",
    "\n",
    "1. areas\n",
    "2. Modo\n",
    "3. ferramental\n",
    "4. plano\n",
    "5. Campanha\n"
   ]
  },
  {
   "cell_type": "markdown",
   "metadata": {},
   "source": [
    "> Company Areas\n",
    "\n",
    "Some CDOs realize too late that functions such as compliance, finance, human resources, legal, procurement, and risk also need to change to support a more digitally focused company. At one company, for example, an effort to accelerate time to market is in full swing, but procurement still insists it requires six months to approve a vendor. Changing such supporting processes isn’t easy—functions often have good reasons for why processes are undertaken as they are. But brokering compromises and testing new ways of operating that are necessary to make progress will be virtually impossible if a CDO doesn’t build internal networks early and engage with leaders across the business.\n",
    "\n",
    "three key areas of their enterprises: customer experience, operational processes and business models.\n",
    "\n",
    "(ver pic cognizant)"
   ]
  },
  {
   "cell_type": "markdown",
   "metadata": {},
   "source": [
    "> Modo \n",
    "\n",
    "In some cases, it could be as straightforward as working with IT to automate existing development processes. But in others, it will require radically changing how the company works, such as setting extremely aggressive goals—as few as six weeks—for getting a product to market\n",
    "\n",
    "\n",
    "disruptive\n",
    "existe um modo mais extremo:\n",
    "1st thing is fundamentally changing the way you think about your business today\n",
    "organizational disruption \n",
    "investing in new... innovative models ---- CLICHE demais\n",
    "redefine your business\n",
    "\n",
    "gradativo\n",
    "Mas como: digital transformation will look different for every company\n",
    "eu fico com o mais comum, mais provável, mior chance de acerto e um primeiro passo plausível:\n",
    "parceiro estrategico --- escuto isso ha anos... sonho de ti\n",
    "\n",
    "\n",
    "\n",
    "**That’s the conventional wisdom: improve one part at a time, then move to the next part, methodically and consistently. This traditional view sounds sensible but appears to be wrong. Research by our colleagues shows that the most successful performance-transformation efforts cut across business units and functions, target both the top and bottom lines, and engage a substantial share of the workforce. Those findings are consistent with our experience, which is that cross-functional operations transformations—emphasizing the interactions between product development, procurement, manufacturing, supply chains, capital expenditures, and services (exhibit)—typically outperform their single-function counterparts by between 30 and 40 percent. (picture CROSS)\n",
    "\n",
    "**posso separa em bloco | cross | hibrido\n",
    "\n"
   ]
  },
  {
   "cell_type": "markdown",
   "metadata": {},
   "source": [
    "> ferramental \n",
    "\n",
    "plat. digital: a data-driven world rather than a process-driven world. --- mais ou menos hein .. isso soa estranho.\n",
    "operating model: gain better efficiency, reduce cost, and/or increase repeatability,\n",
    "\n",
    "Operational backbone – technology that handles core operations\n",
    "Digital platform – so you can recreate an idea for the next customer\n",
    "\n",
    "\n",
    "\n",
    "The first key is adopting digital tools to make information more accessible across the organization, which more than doubles the likelihood of a successful transformation. The second is implementing digital self-serve technologies for employees, business partners, or both groups to use; transformation success is twice as likely when organizations do so. A third key, focused on technology in company operations, is organizations modifying their standard operating procedures to include new technologies.\n",
    "\n",
    "(pesquisar ferramentas e exemplos de ferramentas por area)\n"
   ]
  },
  {
   "cell_type": "markdown",
   "metadata": {},
   "source": [
    "> Plan\n",
    "\n",
    "deliver, deliver, deliver\n",
    "\n",
    "**** building a digital platform and building a new operating model.\n",
    "\n",
    "1 month\n",
    "1. Buscar ou moldar um AS IS survey de TI / Buscar um As Is survei de Transf. Digital\n",
    "2. long-term vision in partnership with an anchor business-unit leader\n",
    "3. got his budget approved\n",
    "\n",
    "6 months\n",
    "1. (after survey and interviews) identified gaps in the organization\n",
    "2. defined clear, discrete digital initiatives; selettive portfolio\n",
    "3. review  his budget approved\n",
    "4. pulled together teams to fill them.\n",
    "5. launch DTX Program (cultural - info - action)\n",
    "6. launched several initiatives \n",
    "\n",
    "1 y\n",
    "1. forum a feiras\n",
    "2. startups e parceirias\n",
    "\n",
    "1.5 year\n",
    "1.  claim some solid wins"
   ]
  },
  {
   "cell_type": "markdown",
   "metadata": {},
   "source": [
    "> Main: Customer, Process, Operation\n",
    "\n",
    "**Transforming Customer Experience\n",
    "- systems to gain an in-depth understanding of specific geographies and market segments.\n",
    "- exploring social media to understand what makes customers happy or customer dissatisfaction.\n",
    "- promote their brands more effectively through digital media. \n",
    "- online communities \n",
    "- analytics capability to understand customers \n",
    "- mobile tools\n",
    "\n",
    "**Transforming Operational Processes\n",
    "\n",
    "**Transforming Process Digitization\n",
    "\n"
   ]
  },
  {
   "cell_type": "markdown",
   "metadata": {},
   "source": [
    "> Program MKT (cultural - info - action)\n",
    "\n",
    "Cultural: \n",
    "also a cultural change that requires organizations to continually challenge the status quo, experiment, and get comfortable with failure. \n",
    "Beyond that, it's a cultural change that requires organizations to continually challenge the status quo, experiment often, and get comfortable with failure. This sometimes means walking away from long-standing business processes that companies were built upon in favor of relatively new practices that are still being defined. \n",
    "\n",
    "Digital transformations require cultural and behavioral changes such as calculated risk taking, increased collaboration, and customer centricity,\n",
    "\n",
    "new behaviors and ways of working through formal mechanisms,... working in new ways... One related factor is encouraging employees to challenge old ways of working.\n",
    "\n",
    "Workforce enablement: part of the culture change ... enable the culture change\n",
    "act of optimism and a leap of faith, driven by a deep desire to make a meaningful difference and an unwavering belief in the strategic vision being undertaken.\n",
    "\n",
    "giving employees a say on where digitization could and should be adopted\n",
    "\n",
    "sends regular company-wide emails highlighting customer breakthroughs, insights, \n",
    "\n",
    "difuse of initiatives"
   ]
  },
  {
   "cell_type": "markdown",
   "metadata": {},
   "source": [
    "\n",
    "\n",
    "key digital transformation trends :\n",
    "\n",
    "1 \n",
    "\n",
    "key digital transformation trends :\n",
    "\n",
    "1 Rapid adoption of digital operating models, including integrated cross-functional teams. Operational agility and make information more accessible across the organization.\n",
    "2 Engage initiative leaders to support the transformation.\n",
    "3 MKT program and Digital story\n",
    "\n",
    "\n",
    "\n",
    "2 big data governance and analytics \n",
    "3 Better use of AI and machine learning.\n",
    "x digital backbone and digital platform\n",
    "\n",
    "4 Continued merger and acquisition activity in the IT outsourcing industry. AND Consultancies forming new digital partnerships.\n",
    "5 Expanding clouding (adoption of IaaS, PaaS, and SaaS )\n",
    "6 More attention to long-term value of digital intiatives.\n",
    "7 Improving customer experience\n",
    "Implement digital self-serve technology for employees’ and business partners’ use.\n",
    "\n",
    "8 Digital technology integration\n",
    "9 Culture and leadership\n",
    "10 Workforce enablement - employees with opportunities to generate ideas\n",
    "11 Improving business process.\n",
    "12 developing innovative new products.\n",
    "13 paperless\n",
    "14 Agile and Lean\n"
   ]
  },
  {
   "cell_type": "markdown",
   "metadata": {},
   "source": [
    "> modelos maturidade\n",
    "\n",
    "1- altimeter 6 stages\n",
    "\n",
    "- modelo maturidade ITIL\n",
    "- modelo maturidade Proj\n",
    "- modelo maturidade Cobit\n",
    "\n",
    "tem modelo pra tudo... qual a gente quer?\n"
   ]
  },
  {
   "cell_type": "markdown",
   "metadata": {},
   "source": [
    "> expensive and risky\n",
    "\n",
    "é dificil?\n",
    "qto estao investindo nisso?\n",
    "\n",
    "\n",
    "sera?\n",
    "In a new McKinsey Global Survey on digital transformations, more than eight in ten respondents say their organizations have undertaken such efforts in the past five years\n",
    "\n",
    "\n",
    "\n",
    "eh so ver a taxa de sucesso SENDO GENEROSO < 30% (ou fracasso 70%) succeed at improving a company’s performance and sustaining those gains\n",
    "https://www.mckinsey.com/business-functions/organization/our-insights/unlocking-success-in-digital-transformations\n",
    "\n",
    "Only 16 percent of respondents say their organizations’ digital transformations have successfully improved performance and also equipped them to sustain changes in the long term.\n",
    "high tech, media, and telecom, are struggling...the success rate does not exceed 26 percent.\n",
    "in more traditional industries, such as oil and gas, automotive, infrastructure, and pharmaceuticals, digital transformations are even more challenging: success rates fall between 4 and 11 percent.\n",
    "\n",
    "\n",
    "$$$$$\n",
    "valor 2018\n",
    "Of the $1.3 trillion that was spent on DT last year, it was estimated that $900 billion went to waste. Why do some DT efforts succeed and others fail?\n",
    "\n",
    "one in eight got it right and then there were ranges of failure to really whereby more than 50 percent just didn't go right at all.\n",
    "\n",
    "\n",
    "Without enough funding, digital transformation is rendered as just empty promises.\n",
    "\n",
    "exemplos de investimento:\n",
    "Home Depot $300 million \n",
    "Wal-Mart and General Electric more than $1 billion to digital transformation.\n",
    "\n",
    "IDC predicts that, by 2020, 30 percent of G2000 companies will have allocated capital budget equal to at least 10 percent of revenue to fuel their digital strategies,\n",
    "\n",
    "Ti eh 2.5-3.5\n",
    "\n",
    "short-term payoff but other projects are chasing longer-term business value.\n",
    "\n",
    "quantifying success is crucial to continued investment. “Just implementing the technology isn’t enough – the technology needs to be specifically tied to monitoring key performance indicators on customer insights and business process effectiveness,” \n",
    "\n",
    "Is the company on the verge of being disrupted by a more innovative, nimble competitor? Or, conversely, does the company have an opportunity to play offense and disrupt its market through digital technology? Your budget priorities should follow accordingly. The digital transformation budget should focus on initiatives that truly grow or defend the company’s market position.\n",
    "\n",
    "valor 2018\n",
    "Of the $1.3 trillion that was spent on DT last year, it was estimated that $900 billion went to waste. Why do some DT efforts succeed and others fail?\n",
    "\n",
    "\n",
    "Fail: fail fast - (falhas no meio do caminho)... e vejo muitas iniciativas q nao funcionaram. Ou ficam no plano das ideias - etérea. ou se retraem a simples relacionamento trivial TI-Bus (importante, vital ... mas tradicional, nao eh transformacao)\n",
    "\n"
   ]
  },
  {
   "cell_type": "markdown",
   "metadata": {},
   "source": [
    "> CIO or CDO\n",
    "\n",
    "perguntas abertas:\n",
    "pq a ti hj já não faz? \n",
    "--- suporte ... eh isso\n",
    "--- nao da tempo\n",
    "--- assim como P&D tem q ser separado\n",
    "\n",
    "CIO - 1001 responsabilidades de RUn, Project e algumas de Grow sim.\n",
    "a diferenca eh q se vc pode querer uma ala exclusive para a digitalizacao... uma ala dedicada a isso\n",
    "e separada fisicamente da ala de TI. \n",
    "\n",
    "Mais PRJ (Grow) than RUN:CIOs spend an average of 72 percent of their budgets on existing IT concerns, while only 28 percent goes to new projects and innovation.\n",
    "\n",
    "\n",
    "CDO\n",
    "Gone are the days of being responsible for introducing basic digital capabilities and perhaps piloting a handful of initiatives.\n",
    "The CDO is now a “transformer in chief,” charged with coordinating and managing comprehensive changes that address everything from updating how a company works to building out entirely new businesses. And he or she must make progress quickly.\n",
    "\n",
    "Getting the strategy right requires the CDO to work closely with the CEO, the chief information officer (CIO), business-unit leaders, and the chief financial officer; the CDO also needs to be an active participant in and shaper of the strategy.\n",
    "\n",
    "No matter how it’s branded, CDOs need to be known within their organization for something that is courageous, new, and adds value.\n",
    "\n",
    "\n",
    "to help determine whether a CDO is necessary:\n",
    "\n",
    "Is the marketplace where I compete undergoing—or vulnerable to—significant changes that are reshaping value?\n",
    "Is my company ready to move beyond basic digital experiments and embark on a fundamental and integrated transformation of the business?\n",
    "Is my company ready to signal its digital-transformation efforts to audiences both internal and external?\n",
    "Do we need a disruptive perspective from someone who can objectively and credibly challenge the status quo with a “digital first” mind-set?\n",
    "Does the current leadership team have the capacity to steward the digital transformation and support this new role?\n",
    "\n",
    "\n",
    "CDOs spend as much as 50 percent of their time working with external partners to build effective working relationships that take advantage of every organization’s capabilities. To help bring these outside voices into the organization, many CDOs establish advisory boards of start-up leaders or create “challenger” boards of people with digital experience and expertise to review corporate initiatives and strategies. At a more pedestrian level, they regularly invite technologists or entrepreneurs to team lunches.\n",
    "\n",
    "**CDOs are ultimately judged not by the quality of their ideas but by their ability to lead different types of teams, guide projects, overcome hurdles, and deliver integrated change.**\n",
    "\n",
    "These characteristics fall into five categories: leadership, capability building, empowering workers, upgrading tools, and communication. \n",
    "\n",
    "\n",
    "Empatia and Trust: leading transformation starts with empathy. ... empathy is genuine, you begin to build trust,\n",
    "Successful change is about winning the hearts and minds of the people involved…\n",
    "\n",
    "\n",
    "Tp-Down: CARALHOU por isso nao da certo e tem q ser Top Down\n",
    "In the center of it all is leadership and culture\n",
    "(Establish clear decision-holders from the outset of any initiative and distinguish consultative input from true “thumbs up/thumbs down” decision rights)\n"
   ]
  },
  {
   "cell_type": "markdown",
   "metadata": {},
   "source": [
    "> Perfis\n",
    "\n",
    "digital transformation lead> change champion>technical engineer>data architect>business expert>UX/CX professional>financial analyst>critical hacker\n",
    "https://enterprisersproject.com/article/2019/12/digital-transformation-teams-8-key-roles\n",
    "\n",
    "\n",
    "Perfis\n",
    "- Big gas tanks, intellectual curiosity: high performers, care about making a difference\n",
    "- Uninterested but honest: incapable and not interested in transforming their skills\n",
    "- Messy middle: willing and committed but, for any number of reasons, may not be able to transform themselves. "
   ]
  },
  {
   "cell_type": "markdown",
   "metadata": {},
   "source": [
    "RESUMO\n",
    "\n",
    "\n",
    "... the **integration** of digital **technology** into **all** areas of a business, fundamentally **changing how** you operate and deliver value to customers.\n",
    "\n",
    "**rethinking** `product` offerings, `process`, and `technology`\n",
    "\n",
    "WHY \n",
    "\n",
    "* survival issue\n",
    "* agile\n",
    "* responsive\n",
    "* innovative (otherwise, extinct)\n",
    "* efficiency\n",
    "\n",
    "\n",
    "\n",
    "top down/transversal/ cultural/\n"
   ]
  }
 ],
 "metadata": {
  "kernelspec": {
   "display_name": "Python 3",
   "language": "python",
   "name": "python3"
  },
  "language_info": {
   "codemirror_mode": {
    "name": "ipython",
    "version": 3
   },
   "file_extension": ".py",
   "mimetype": "text/x-python",
   "name": "python",
   "nbconvert_exporter": "python",
   "pygments_lexer": "ipython3",
   "version": "3.7.6"
  }
 },
 "nbformat": 4,
 "nbformat_minor": 4
}
