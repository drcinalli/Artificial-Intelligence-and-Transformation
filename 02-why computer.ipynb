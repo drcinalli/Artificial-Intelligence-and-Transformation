{
 "cells": [
  {
   "cell_type": "markdown",
   "metadata": {},
   "source": [
    "\n",
    "<a id='why'></a>\n",
    "## Why Computer?\n",
    "<br>\n",
    "<br>\n",
    "\n",
    "quais os beneficios? slide 8"
   ]
  },
  {
   "cell_type": "code",
   "execution_count": null,
   "metadata": {},
   "outputs": [],
   "source": [
    "\n",
    "comecar com os beneficios e a multipluralidade\n"
   ]
  },
  {
   "cell_type": "code",
   "execution_count": null,
   "metadata": {},
   "outputs": [],
   "source": [
    "huge impact on society\n"
   ]
  },
  {
   "cell_type": "code",
   "execution_count": null,
   "metadata": {},
   "outputs": [],
   "source": [
    "Impacto da Computacao...\n",
    "4. Impact of computer / diversidade e extensão anywhere/ fins solutions\n",
    "- palestra Cristina sobre tendencias da IA."
   ]
  },
  {
   "cell_type": "markdown",
   "metadata": {},
   "source": [
    "inicio era para realizar calculos\n",
    "\n",
    "mas sua utilidade é mais abrangente: \n",
    "\n",
    "- concretizar a internet\n",
    "- cérebros artificiais\n",
    "- simulacoes do universo \n",
    ", AI, \n",
    "b"
   ]
  },
  {
   "cell_type": "code",
   "execution_count": null,
   "metadata": {},
   "outputs": [],
   "source": [
    "how is that in 100 years ahead?\n",
    "\n",
    "\n",
    "When I started to work with this... remember how fast technology grew\n",
    "\n",
    "\n",
    "compared the evolution"
   ]
  },
  {
   "cell_type": "code",
   "execution_count": null,
   "metadata": {},
   "outputs": [],
   "source": [
    "informação Bomba (Serviço de Inteligência)\n",
    "decisão Preço do meu Competidor (Buscapé…)\n",
    "solução Probabilidade de Chuva (Meteorologia)\n"
   ]
  }
 ],
 "metadata": {
  "kernelspec": {
   "display_name": "Python 3",
   "language": "python",
   "name": "python3"
  },
  "language_info": {
   "codemirror_mode": {
    "name": "ipython",
    "version": 3
   },
   "file_extension": ".py",
   "mimetype": "text/x-python",
   "name": "python",
   "nbconvert_exporter": "python",
   "pygments_lexer": "ipython3",
   "version": "3.7.6"
  }
 },
 "nbformat": 4,
 "nbformat_minor": 4
}
