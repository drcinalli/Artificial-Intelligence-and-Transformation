{
 "cells": [
  {
   "cell_type": "code",
   "execution_count": null,
   "metadata": {},
   "outputs": [],
   "source": [
    "DTX"
   ]
  },
  {
   "cell_type": "markdown",
   "metadata": {},
   "source": [
    "> Perfis\n",
    "\n",
    "digital transformation lead> change champion>technical engineer>data architect>business expert>UX/CX professional>financial analyst>critical hacker\n",
    "https://enterprisersproject.com/article/2019/12/digital-transformation-teams-8-key-roles\n",
    "\n",
    "\n",
    "Perfis\n",
    "- Big gas tanks, intellectual curiosity: high performers, care about making a difference\n",
    "- Uninterested but honest: incapable and not interested in transforming their skills\n",
    "- Messy middle: willing and committed but, for any number of reasons, may not be able to transform themselves. "
   ]
  },
  {
   "cell_type": "markdown",
   "metadata": {},
   "source": [
    "> expensive and risky\n",
    "\n",
    "é dificil?\n",
    "qto estao investindo nisso?\n",
    "\n",
    "\n",
    "sera?\n",
    "In a new McKinsey Global Survey on digital transformations, more than eight in ten respondents say their organizations have undertaken such efforts in the past five years\n",
    "\n",
    "\n",
    "\n",
    "eh so ver a taxa de sucesso SENDO GENEROSO < 30% (ou fracasso 70%) succeed at improving a company’s performance and sustaining those gains\n",
    "https://www.mckinsey.com/business-functions/organization/our-insights/unlocking-success-in-digital-transformations\n",
    "\n",
    "Only 16 percent of respondents say their organizations’ digital transformations have successfully improved performance and also equipped them to sustain changes in the long term.\n",
    "high tech, media, and telecom, are struggling...the success rate does not exceed 26 percent.\n",
    "in more traditional industries, such as oil and gas, automotive, infrastructure, and pharmaceuticals, digital transformations are even more challenging: success rates fall between 4 and 11 percent.\n",
    "\n",
    "\n",
    "$$$$$\n",
    "valor 2018\n",
    "Of the $1.3 trillion that was spent on DT last year, it was estimated that $900 billion went to waste. Why do some DT efforts succeed and others fail?\n",
    "\n",
    "one in eight got it right and then there were ranges of failure to really whereby more than 50 percent just didn't go right at all.\n",
    "\n",
    "\n",
    "Without enough funding, digital transformation is rendered as just empty promises.\n",
    "\n",
    "exemplos de investimento:\n",
    "Home Depot $300 million \n",
    "Wal-Mart and General Electric more than $1 billion to digital transformation.\n",
    "\n",
    "IDC predicts that, by 2020, 30 percent of G2000 companies will have allocated capital budget equal to at least 10 percent of revenue to fuel their digital strategies,\n",
    "\n",
    "Ti eh 2.5-3.5\n",
    "\n",
    "short-term payoff but other projects are chasing longer-term business value.\n",
    "\n",
    "quantifying success is crucial to continued investment. “Just implementing the technology isn’t enough – the technology needs to be specifically tied to monitoring key performance indicators on customer insights and business process effectiveness,” \n",
    "\n",
    "Is the company on the verge of being disrupted by a more innovative, nimble competitor? Or, conversely, does the company have an opportunity to play offense and disrupt its market through digital technology? Your budget priorities should follow accordingly. The digital transformation budget should focus on initiatives that truly grow or defend the company’s market position.\n",
    "\n",
    "valor 2018\n",
    "Of the $1.3 trillion that was spent on DT last year, it was estimated that $900 billion went to waste. Why do some DT efforts succeed and others fail?\n",
    "\n",
    "\n",
    "Fail: fail fast - (falhas no meio do caminho)... e vejo muitas iniciativas q nao funcionaram. Ou ficam no plano das ideias - etérea. ou se retraem a simples relacionamento trivial TI-Bus (importante, vital ... mas tradicional, nao eh transformacao)\n",
    "\n"
   ]
  }
 ],
 "metadata": {
  "kernelspec": {
   "display_name": "Python 3",
   "language": "python",
   "name": "python3"
  },
  "language_info": {
   "codemirror_mode": {
    "name": "ipython",
    "version": 3
   },
   "file_extension": ".py",
   "mimetype": "text/x-python",
   "name": "python",
   "nbconvert_exporter": "python",
   "pygments_lexer": "ipython3",
   "version": "3.7.6"
  }
 },
 "nbformat": 4,
 "nbformat_minor": 4
}
