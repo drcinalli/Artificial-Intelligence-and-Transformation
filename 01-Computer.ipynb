{
 "cells": [
  {
   "cell_type": "markdown",
   "metadata": {
    "slideshow": {
     "slide_type": "skip"
    }
   },
   "source": [
    "<img src=\"./img/logoconvexbrancomini2.png\"  align=\"right\"/>"
   ]
  },
  {
   "cell_type": "markdown",
   "metadata": {
    "slideshow": {
     "slide_type": "skip"
    }
   },
   "source": [
    "<img src=\"./img/logoboxverde.png\" align=\"right\"/>\n",
    "<br>\n"
   ]
  },
  {
   "cell_type": "markdown",
   "metadata": {
    "slideshow": {
     "slide_type": "slide"
    },
    "toc-hr-collapsed": true
   },
   "source": [
    "<!--\n",
    "<img src=\"./img/logoconvexbrancomini2.png\"  align=\"right\"/>\n",
    "-->\n",
    "# Artificial Intelligence and Digital Transformation\n",
    "\n",
    "<!--\n",
    "<img src=\"./img/logoboxverde.png\" align=\"right\"/>\n",
    "-->\n",
    "__by [Daniel Cinalli](http://www.cinalli.com.br)__ - DSc Artificial Intelligence\n",
    "\n",
    "## What is a Computer?\n"
   ]
  },
  {
   "cell_type": "markdown",
   "metadata": {
    "slideshow": {
     "slide_type": "slide"
    }
   },
   "source": [
    "\n",
    "<br/><br/> \n",
    "## Notes:\n",
    "\n",
    "* Coded in Python 3.x\n",
    "* Using [Anaconda](https://www.anaconda.com/) is recommended\n",
    "* Run the notebook `online` at [binder](https://mybinder.org/v2/gh/drcinalli/Artificial-Intelligence-and-Transformation/master) [![Binder](https://mybinder.org/badge_logo.svg)](https://mybinder.org/v2/gh/drcinalli/Artificial-Intelligence-and-Transformation/master)\n",
    "<!-- * [nbviewer](https://nbviewer.jupyter.org/) allows you to switch the notebooks \"slides\" mode-->"
   ]
  },
  {
   "cell_type": "markdown",
   "metadata": {
    "slideshow": {
     "slide_type": "slide"
    }
   },
   "source": [
    "<br> </br>\n",
    "### Table of Contents\n",
    "\n",
    "- [What is a Computer?](#whatisacomputer)\n",
    "- [Computer Knowledge](#ComputerKnowledge)\n",
    "- [Algorithms](#Algorithms)\n",
    "- [Code Examples](#code_example_1)\n",
    "\n",
    "<br> <br>\n"
   ]
  },
  {
   "cell_type": "markdown",
   "metadata": {
    "slideshow": {
     "slide_type": "slide"
    }
   },
   "source": [
    "<a id='whatisacomput'></a>\n",
    "## What is a Computer?\n",
    "\n",
    "\n",
    "<img align=right src=\"img/turing.jpg\" width=300/>\n",
    "\n",
    ">Box with a Goblin inside\n",
    "        \n",
    "<br>  \n",
    "\n",
    "Two main properties:\n",
    "\n",
    "* performs calculation*\n",
    "* store results (and remember them)**\n",
    "        \n",
    "<br>\n",
    "<br>\n",
    "\n",
    "###### * Summit 150 petaFLOPS (quadrillion floating point operations); i7 200 gigaFLOPS (billion per second) <i>- in 2019</i>\n",
    "###### ** Cloud storage (exabyte or zettabyte?)  <i>- in 2019</i>"
   ]
  },
  {
   "cell_type": "markdown",
   "metadata": {},
   "source": [
    "<a id='Bit'></a>\n",
    "## Binary number system\n",
    "\n",
    "<img align=right src=\"img/adc.png\" />\n",
    "\n",
    "> bit: 0 or 1\n",
    "        \n",
    "<br>  \n",
    "\n",
    "**Physical limitations:**\n",
    "* micro transistor on/off\n",
    "* electric signal \n",
    "\n",
    "**Representation of words, numbers, images,...**<br>\n",
    "B - `01000010` <br>\n",
    "103 - `01100111`<br>\n",
    "Yellow color - `11111111 11111111 00000000`\n",
    "\n",
    "\n",
    "**Operations:**<br>\n",
    "+ | - | == | != | > | < ...\n"
   ]
  },
  {
   "cell_type": "markdown",
   "metadata": {},
   "source": [
    "<a id='Computer'></a>\n",
    "## Computer\n",
    "\n",
    "<img align=right src=\"img/rubik.png\" width=200/>\n",
    "\n",
    "> computers only know what you tell them\n",
    "        \n",
    "<br>\n",
    "\n",
    "**Calculator:**\n",
    "* fixed code computer\n",
    "* low memory\n",
    "\n",
    "\n",
    "**Computer:**\n",
    "* performs calculation\n",
    "* store results (and remember them)\n",
    "* _solve problems through scripts or computer codes_\n",
    "        \n",
    "\n",
    "\n"
   ]
  },
  {
   "cell_type": "markdown",
   "metadata": {},
   "source": [
    "<a id='ComputerKnowledge'></a>\n",
    "## Computer Knowledge\n",
    "\n",
    "<img align=right src=\"img/knowledge.png\" width=300/>\n",
    "\n",
    "> Declarative and Imperative knowldges\n",
    "        \n",
    "<br>\n",
    "\n",
    "**Declarative Knowledge:**\n",
    "* statement of facts and truth\n",
    "<br> `2 + 2 = 4`\n",
    "<br> `The cat is yellow`\n",
    "<br> `Murilo is 12 years old`\n",
    "\n",
    "It limits the human to find the new things\n",
    "\n",
    "**Imperative Knowledge:**\n",
    "* like a recipe or a cookbook\n",
    "* sequence of steps/instructions \n",
    "\n",
    "It shows how to create information and knowledge\n"
   ]
  },
  {
   "cell_type": "markdown",
   "metadata": {},
   "source": [
    "<a id='Algorithms'></a>\n",
    "## What is an Algorithm?\n",
    "\n",
    "<img align=right src=\"img/algorithm.png\" width=400/>\n",
    "\n",
    "> the algorithms change the game for computers\n",
    "        \n",
    "<br>\n",
    "\n",
    "* sequence of simple steps \n",
    "* flow of control \n",
    "* \"stop\" definition\n",
    "\n",
    "computational procedure for solving a problem\n",
    "<br>\n",
    "<br>\n",
    "\n",
    "###### -Internally, these recipes are transformed in string of bits and converted to tiny instructions, <br>such as: `fetch value`; `sum values`; `multiply values`; `store value`, etc.\n",
    "\n",
    "###### -Al-Khwarizmi <img align=right src=\"img/al-khwarizmi.jpeg\" width=100/>\n"
   ]
  },
  {
   "cell_type": "markdown",
   "metadata": {},
   "source": [
    "<a id='Languages'></a>\n",
    "## Languages\n",
    "\n",
    "<img align=right src=\"img/languages.jpg\" width=400/>\n",
    "\n",
    "> there are many many many types of languages\n",
    "        \n",
    "<br>\n",
    "\n",
    "<i>Array:</i> MatLab, Julia, R, ...\n",
    "\n",
    "<i>Constraint Programing:</i> ECLiPSe\n",
    "\n",
    "<i>Command Line:</i> bash, sh, csh, bat, powershell, ...\n",
    "\n",
    "<i>Fourth-generation:</i> Natural, ABAP, SQL, ...\n",
    "\n",
    "<i>Compiled:</i> Basic, C, C#, C++, Ada, Cobol, Delphi, Pascal, Fortran, Eiffel, Java, Smalltalk, **Python**, ...\n",
    "\n",
    "<i>Interpreted:</i> Ruby, Lisp, Javascript, VBscript, ...\n",
    "\n"
   ]
  },
  {
   "cell_type": "markdown",
   "metadata": {},
   "source": [
    "<a id='code_example_1'></a>\n",
    "## Code Example #1: draw lots\n",
    "\n",
    "<img align=right src=\"img/drawlots.jpg\" width=200/>\n",
    "<br>\n",
    "\n",
    "there are many different ways to write your code... "
   ]
  },
  {
   "cell_type": "code",
   "execution_count": 123,
   "metadata": {},
   "outputs": [
    {
     "name": "stdout",
     "output_type": "stream",
     "text": [
      "[1, 2, 3, 4, 5, 6, 7, 8, 9, 10, 11, 12, 13, 14, 15, 16, 17, 18, 19, 20]\n"
     ]
    }
   ],
   "source": [
    "#number of people in the room\n",
    "num_pessoas=20\n",
    "\n",
    "#array\n",
    "pessoas = []\n",
    "\n",
    "#loop\n",
    "for i in range(num_pessoas):\n",
    "       pessoas.append(i+1)\n",
    "       \n",
    "print (pessoas)\n"
   ]
  },
  {
   "cell_type": "markdown",
   "metadata": {},
   "source": [
    "<br>\n",
    "<br>\n",
    "or like that:"
   ]
  },
  {
   "cell_type": "code",
   "execution_count": 124,
   "metadata": {},
   "outputs": [
    {
     "name": "stdout",
     "output_type": "stream",
     "text": [
      "[1, 2, 3, 4, 5, 6, 7, 8, 9, 10, 11, 12, 13, 14, 15, 16, 17, 18, 19, 20]\n"
     ]
    }
   ],
   "source": [
    "import array\n",
    "import random\n",
    "\n",
    "#number of people in the room\n",
    "num_pessoas=20\n",
    "\n",
    "#array of integers\n",
    "pessoas = array.array('i',(i+1 for i in range(0,num_pessoas)))\n",
    "print (pessoas.tolist())\n"
   ]
  },
  {
   "cell_type": "markdown",
   "metadata": {},
   "source": [
    "<br>\n",
    "<br>\n",
    "\n",
    "<img align=right src=\"img/wonka.jpg\" width=200/>\n",
    "and the **winner** is:"
   ]
  },
  {
   "cell_type": "code",
   "execution_count": 129,
   "metadata": {},
   "outputs": [
    {
     "name": "stdout",
     "output_type": "stream",
     "text": [
      "The WINNER is: 11\n"
     ]
    }
   ],
   "source": [
    "winner = random.randint(1,num_pessoas)\n",
    "\n",
    "print('The WINNER is: ' + str(winner))"
   ]
  },
  {
   "cell_type": "markdown",
   "metadata": {},
   "source": [
    "<a id='code_example_3'></a>\n",
    "## Code Example #2: Search on Files\n",
    "\n",
    "<img align=right src=\"img/database.jpg\" width=200/>\n",
    "\n",
    "<br>\n",
    "\n",
    "Search for an info on large files ... or databases\n",
    "\n",
    "<br>\n",
    "<i>spreadsheet sample</i>\n",
    "\n",
    "> Accidental Drug Related Deaths 2012-2018 <BR>\n",
    "> 21k records\n"
   ]
  },
  {
   "cell_type": "code",
   "execution_count": 130,
   "metadata": {},
   "outputs": [
    {
     "data": {
      "text/html": [
       "<div>\n",
       "<style scoped>\n",
       "    .dataframe tbody tr th:only-of-type {\n",
       "        vertical-align: middle;\n",
       "    }\n",
       "\n",
       "    .dataframe tbody tr th {\n",
       "        vertical-align: top;\n",
       "    }\n",
       "\n",
       "    .dataframe thead th {\n",
       "        text-align: right;\n",
       "    }\n",
       "</style>\n",
       "<table border=\"1\" class=\"dataframe\">\n",
       "  <thead>\n",
       "    <tr style=\"text-align: right;\">\n",
       "      <th></th>\n",
       "      <th>ID</th>\n",
       "      <th>Date</th>\n",
       "      <th>DateType</th>\n",
       "      <th>Age</th>\n",
       "      <th>Sex</th>\n",
       "      <th>Race</th>\n",
       "      <th>ResidenceCity</th>\n",
       "      <th>ResidenceCounty</th>\n",
       "      <th>ResidenceState</th>\n",
       "      <th>DeathCity</th>\n",
       "      <th>...</th>\n",
       "      <th>Tramad</th>\n",
       "      <th>Morphine_NotHeroin</th>\n",
       "      <th>Hydromorphone</th>\n",
       "      <th>Other</th>\n",
       "      <th>OpiateNOS</th>\n",
       "      <th>AnyOpioid</th>\n",
       "      <th>MannerofDeath</th>\n",
       "      <th>DeathCityGeo</th>\n",
       "      <th>ResidenceCityGeo</th>\n",
       "      <th>InjuryCityGeo</th>\n",
       "    </tr>\n",
       "  </thead>\n",
       "  <tbody>\n",
       "    <tr>\n",
       "      <th>0</th>\n",
       "      <td>14-0273</td>\n",
       "      <td>06/28/2014 12:00:00 AM</td>\n",
       "      <td>DateReported</td>\n",
       "      <td>NaN</td>\n",
       "      <td>NaN</td>\n",
       "      <td>NaN</td>\n",
       "      <td>NaN</td>\n",
       "      <td>NaN</td>\n",
       "      <td>NaN</td>\n",
       "      <td>NaN</td>\n",
       "      <td>...</td>\n",
       "      <td>NaN</td>\n",
       "      <td>NaN</td>\n",
       "      <td>NaN</td>\n",
       "      <td>NaN</td>\n",
       "      <td>NaN</td>\n",
       "      <td>NaN</td>\n",
       "      <td>Accident</td>\n",
       "      <td>CT\\n(41.575155, -72.738288)</td>\n",
       "      <td>CT\\n(41.575155, -72.738288)</td>\n",
       "      <td>CT\\n(41.575155, -72.738288)</td>\n",
       "    </tr>\n",
       "    <tr>\n",
       "      <th>1</th>\n",
       "      <td>13-0102</td>\n",
       "      <td>03/21/2013 12:00:00 AM</td>\n",
       "      <td>DateofDeath</td>\n",
       "      <td>48.0</td>\n",
       "      <td>Male</td>\n",
       "      <td>Black</td>\n",
       "      <td>NORWALK</td>\n",
       "      <td>NaN</td>\n",
       "      <td>NaN</td>\n",
       "      <td>NORWALK</td>\n",
       "      <td>...</td>\n",
       "      <td>NaN</td>\n",
       "      <td>NaN</td>\n",
       "      <td>NaN</td>\n",
       "      <td>NaN</td>\n",
       "      <td>NaN</td>\n",
       "      <td>NaN</td>\n",
       "      <td>Accident</td>\n",
       "      <td>Norwalk, CT\\n(41.11805, -73.412906)</td>\n",
       "      <td>NORWALK, CT\\n(41.11805, -73.412906)</td>\n",
       "      <td>CT\\n(41.575155, -72.738288)</td>\n",
       "    </tr>\n",
       "    <tr>\n",
       "      <th>2</th>\n",
       "      <td>16-0165</td>\n",
       "      <td>03/13/2016 12:00:00 AM</td>\n",
       "      <td>DateofDeath</td>\n",
       "      <td>30.0</td>\n",
       "      <td>Female</td>\n",
       "      <td>White</td>\n",
       "      <td>SANDY HOOK</td>\n",
       "      <td>FAIRFIELD</td>\n",
       "      <td>CT</td>\n",
       "      <td>DANBURY</td>\n",
       "      <td>...</td>\n",
       "      <td>NaN</td>\n",
       "      <td>NaN</td>\n",
       "      <td>NaN</td>\n",
       "      <td>NaN</td>\n",
       "      <td>NaN</td>\n",
       "      <td>Y</td>\n",
       "      <td>Accident</td>\n",
       "      <td>Danbury, CT\\n(41.393666, -73.451539)</td>\n",
       "      <td>SANDY HOOK, CT\\n(41.419998, -73.282501)</td>\n",
       "      <td>NaN</td>\n",
       "    </tr>\n",
       "    <tr>\n",
       "      <th>3</th>\n",
       "      <td>16-0208</td>\n",
       "      <td>03/31/2016 12:00:00 AM</td>\n",
       "      <td>DateofDeath</td>\n",
       "      <td>23.0</td>\n",
       "      <td>Male</td>\n",
       "      <td>White</td>\n",
       "      <td>RYE</td>\n",
       "      <td>WESTCHESTER</td>\n",
       "      <td>NY</td>\n",
       "      <td>GREENWICH</td>\n",
       "      <td>...</td>\n",
       "      <td>NaN</td>\n",
       "      <td>NaN</td>\n",
       "      <td>NaN</td>\n",
       "      <td>NaN</td>\n",
       "      <td>NaN</td>\n",
       "      <td>Y</td>\n",
       "      <td>Accident</td>\n",
       "      <td>Greenwich, CT\\n(41.026526, -73.628549)</td>\n",
       "      <td>NaN</td>\n",
       "      <td>NaN</td>\n",
       "    </tr>\n",
       "    <tr>\n",
       "      <th>4</th>\n",
       "      <td>13-0052</td>\n",
       "      <td>02/13/2013 12:00:00 AM</td>\n",
       "      <td>DateofDeath</td>\n",
       "      <td>22.0</td>\n",
       "      <td>Male</td>\n",
       "      <td>Asian, Other</td>\n",
       "      <td>FLUSHING</td>\n",
       "      <td>QUEENS</td>\n",
       "      <td>NaN</td>\n",
       "      <td>GREENWICH</td>\n",
       "      <td>...</td>\n",
       "      <td>NaN</td>\n",
       "      <td>NaN</td>\n",
       "      <td>NaN</td>\n",
       "      <td>NaN</td>\n",
       "      <td>NaN</td>\n",
       "      <td>NaN</td>\n",
       "      <td>Accident</td>\n",
       "      <td>Greenwich, CT\\n(41.026526, -73.628549)</td>\n",
       "      <td>NaN</td>\n",
       "      <td>CT\\n(41.575155, -72.738288)</td>\n",
       "    </tr>\n",
       "    <tr>\n",
       "      <th>5</th>\n",
       "      <td>14-0277</td>\n",
       "      <td>06/29/2014 12:00:00 AM</td>\n",
       "      <td>DateofDeath</td>\n",
       "      <td>23.0</td>\n",
       "      <td>Male</td>\n",
       "      <td>White</td>\n",
       "      <td>BRISTOL</td>\n",
       "      <td>NaN</td>\n",
       "      <td>NaN</td>\n",
       "      <td>BRISTOL</td>\n",
       "      <td>...</td>\n",
       "      <td>NaN</td>\n",
       "      <td>NaN</td>\n",
       "      <td>NaN</td>\n",
       "      <td>NaN</td>\n",
       "      <td>NaN</td>\n",
       "      <td>NaN</td>\n",
       "      <td>Accident</td>\n",
       "      <td>BRISTOL, CT\\n(41.673037, -72.945791)</td>\n",
       "      <td>BRISTOL, CT\\n(41.673037, -72.945791)</td>\n",
       "      <td>CT\\n(41.575155, -72.738288)</td>\n",
       "    </tr>\n",
       "    <tr>\n",
       "      <th>6</th>\n",
       "      <td>12-0205</td>\n",
       "      <td>08/12/2012 12:00:00 AM</td>\n",
       "      <td>DateofDeath</td>\n",
       "      <td>21.0</td>\n",
       "      <td>Female</td>\n",
       "      <td>White</td>\n",
       "      <td>WEST HARTFORD</td>\n",
       "      <td>HARTFORD</td>\n",
       "      <td>NaN</td>\n",
       "      <td>WEST HARTFORD</td>\n",
       "      <td>...</td>\n",
       "      <td>NaN</td>\n",
       "      <td>NaN</td>\n",
       "      <td>NaN</td>\n",
       "      <td>NaN</td>\n",
       "      <td>NaN</td>\n",
       "      <td>NaN</td>\n",
       "      <td>Accident</td>\n",
       "      <td>WEST HARTFORD, CT\\n(41.762008, -72.741807)</td>\n",
       "      <td>WEST HARTFORD, CT\\n(41.762008, -72.741807)</td>\n",
       "      <td>CT\\n(41.575155, -72.738288)</td>\n",
       "    </tr>\n",
       "    <tr>\n",
       "      <th>7</th>\n",
       "      <td>13-0404</td>\n",
       "      <td>11/10/2013 12:00:00 AM</td>\n",
       "      <td>DateofDeath</td>\n",
       "      <td>40.0</td>\n",
       "      <td>Female</td>\n",
       "      <td>White</td>\n",
       "      <td>HAMDEN</td>\n",
       "      <td>NEW HAVEN</td>\n",
       "      <td>NaN</td>\n",
       "      <td>NEW HAVEN</td>\n",
       "      <td>...</td>\n",
       "      <td>NaN</td>\n",
       "      <td>NaN</td>\n",
       "      <td>NaN</td>\n",
       "      <td>NaN</td>\n",
       "      <td>NaN</td>\n",
       "      <td>NaN</td>\n",
       "      <td>Accident</td>\n",
       "      <td>New Haven, CT\\n(41.308252, -72.924161)</td>\n",
       "      <td>HAMDEN, CT\\n(41.382918, -72.907743)</td>\n",
       "      <td>CT\\n(41.575155, -72.738288)</td>\n",
       "    </tr>\n",
       "    <tr>\n",
       "      <th>8</th>\n",
       "      <td>12-0107</td>\n",
       "      <td>04/25/2012 12:00:00 AM</td>\n",
       "      <td>DateofDeath</td>\n",
       "      <td>40.0</td>\n",
       "      <td>Male</td>\n",
       "      <td>White</td>\n",
       "      <td>EAST HARTFORD</td>\n",
       "      <td>HARTFORD</td>\n",
       "      <td>NaN</td>\n",
       "      <td>EAST HARTFORD</td>\n",
       "      <td>...</td>\n",
       "      <td>NaN</td>\n",
       "      <td>NaN</td>\n",
       "      <td>NaN</td>\n",
       "      <td>NaN</td>\n",
       "      <td>NaN</td>\n",
       "      <td>NaN</td>\n",
       "      <td>Accident</td>\n",
       "      <td>EAST HARTFORD, CT\\n(41.769319, -72.643785)</td>\n",
       "      <td>EAST HARTFORD, CT\\n(41.769319, -72.643785)</td>\n",
       "      <td>CT\\n(41.575155, -72.738288)</td>\n",
       "    </tr>\n",
       "    <tr>\n",
       "      <th>9</th>\n",
       "      <td>13-0161</td>\n",
       "      <td>05/15/2013 12:00:00 AM</td>\n",
       "      <td>DateofDeath</td>\n",
       "      <td>50.0</td>\n",
       "      <td>Male</td>\n",
       "      <td>White</td>\n",
       "      <td>MONTVILLE</td>\n",
       "      <td>NEW LONDON</td>\n",
       "      <td>NaN</td>\n",
       "      <td>MONTVILLE</td>\n",
       "      <td>...</td>\n",
       "      <td>NaN</td>\n",
       "      <td>NaN</td>\n",
       "      <td>NaN</td>\n",
       "      <td>NaN</td>\n",
       "      <td>NaN</td>\n",
       "      <td>NaN</td>\n",
       "      <td>Accident</td>\n",
       "      <td>MONTVILLE, CT\\n(41.45303, -72.136336)</td>\n",
       "      <td>MONTVILLE, CT\\n(41.45303, -72.136336)</td>\n",
       "      <td>CT\\n(41.575155, -72.738288)</td>\n",
       "    </tr>\n",
       "  </tbody>\n",
       "</table>\n",
       "<p>10 rows × 41 columns</p>\n",
       "</div>"
      ],
      "text/plain": [
       "        ID                    Date      DateType   Age     Sex          Race  \\\n",
       "0  14-0273  06/28/2014 12:00:00 AM  DateReported   NaN     NaN           NaN   \n",
       "1  13-0102  03/21/2013 12:00:00 AM   DateofDeath  48.0    Male         Black   \n",
       "2  16-0165  03/13/2016 12:00:00 AM   DateofDeath  30.0  Female         White   \n",
       "3  16-0208  03/31/2016 12:00:00 AM   DateofDeath  23.0    Male         White   \n",
       "4  13-0052  02/13/2013 12:00:00 AM   DateofDeath  22.0    Male  Asian, Other   \n",
       "5  14-0277  06/29/2014 12:00:00 AM   DateofDeath  23.0    Male         White   \n",
       "6  12-0205  08/12/2012 12:00:00 AM   DateofDeath  21.0  Female         White   \n",
       "7  13-0404  11/10/2013 12:00:00 AM   DateofDeath  40.0  Female         White   \n",
       "8  12-0107  04/25/2012 12:00:00 AM   DateofDeath  40.0    Male         White   \n",
       "9  13-0161  05/15/2013 12:00:00 AM   DateofDeath  50.0    Male         White   \n",
       "\n",
       "   ResidenceCity ResidenceCounty ResidenceState      DeathCity  ... Tramad  \\\n",
       "0            NaN             NaN            NaN            NaN  ...    NaN   \n",
       "1        NORWALK             NaN            NaN        NORWALK  ...    NaN   \n",
       "2     SANDY HOOK       FAIRFIELD             CT        DANBURY  ...    NaN   \n",
       "3            RYE     WESTCHESTER             NY      GREENWICH  ...    NaN   \n",
       "4       FLUSHING          QUEENS            NaN      GREENWICH  ...    NaN   \n",
       "5        BRISTOL             NaN            NaN        BRISTOL  ...    NaN   \n",
       "6  WEST HARTFORD        HARTFORD            NaN  WEST HARTFORD  ...    NaN   \n",
       "7         HAMDEN       NEW HAVEN            NaN      NEW HAVEN  ...    NaN   \n",
       "8  EAST HARTFORD        HARTFORD            NaN  EAST HARTFORD  ...    NaN   \n",
       "9      MONTVILLE      NEW LONDON            NaN      MONTVILLE  ...    NaN   \n",
       "\n",
       "  Morphine_NotHeroin Hydromorphone Other OpiateNOS AnyOpioid MannerofDeath  \\\n",
       "0                NaN           NaN   NaN       NaN       NaN      Accident   \n",
       "1                NaN           NaN   NaN       NaN       NaN      Accident   \n",
       "2                NaN           NaN   NaN       NaN         Y      Accident   \n",
       "3                NaN           NaN   NaN       NaN         Y      Accident   \n",
       "4                NaN           NaN   NaN       NaN       NaN      Accident   \n",
       "5                NaN           NaN   NaN       NaN       NaN      Accident   \n",
       "6                NaN           NaN   NaN       NaN       NaN      Accident   \n",
       "7                NaN           NaN   NaN       NaN       NaN      Accident   \n",
       "8                NaN           NaN   NaN       NaN       NaN      Accident   \n",
       "9                NaN           NaN   NaN       NaN       NaN      Accident   \n",
       "\n",
       "                                 DeathCityGeo  \\\n",
       "0                 CT\\n(41.575155, -72.738288)   \n",
       "1         Norwalk, CT\\n(41.11805, -73.412906)   \n",
       "2        Danbury, CT\\n(41.393666, -73.451539)   \n",
       "3      Greenwich, CT\\n(41.026526, -73.628549)   \n",
       "4      Greenwich, CT\\n(41.026526, -73.628549)   \n",
       "5        BRISTOL, CT\\n(41.673037, -72.945791)   \n",
       "6  WEST HARTFORD, CT\\n(41.762008, -72.741807)   \n",
       "7      New Haven, CT\\n(41.308252, -72.924161)   \n",
       "8  EAST HARTFORD, CT\\n(41.769319, -72.643785)   \n",
       "9       MONTVILLE, CT\\n(41.45303, -72.136336)   \n",
       "\n",
       "                             ResidenceCityGeo                InjuryCityGeo  \n",
       "0                 CT\\n(41.575155, -72.738288)  CT\\n(41.575155, -72.738288)  \n",
       "1         NORWALK, CT\\n(41.11805, -73.412906)  CT\\n(41.575155, -72.738288)  \n",
       "2     SANDY HOOK, CT\\n(41.419998, -73.282501)                          NaN  \n",
       "3                                         NaN                          NaN  \n",
       "4                                         NaN  CT\\n(41.575155, -72.738288)  \n",
       "5        BRISTOL, CT\\n(41.673037, -72.945791)  CT\\n(41.575155, -72.738288)  \n",
       "6  WEST HARTFORD, CT\\n(41.762008, -72.741807)  CT\\n(41.575155, -72.738288)  \n",
       "7         HAMDEN, CT\\n(41.382918, -72.907743)  CT\\n(41.575155, -72.738288)  \n",
       "8  EAST HARTFORD, CT\\n(41.769319, -72.643785)  CT\\n(41.575155, -72.738288)  \n",
       "9       MONTVILLE, CT\\n(41.45303, -72.136336)  CT\\n(41.575155, -72.738288)  \n",
       "\n",
       "[10 rows x 41 columns]"
      ]
     },
     "execution_count": 130,
     "metadata": {},
     "output_type": "execute_result"
    }
   ],
   "source": [
    "# Load the Pandas libraries with alias 'pd' \n",
    "import pandas as pd \n",
    "# Read data from file 'filename.csv' \n",
    "# (in the same directory that your python process is based)\n",
    "# Control delimiters, rows, column names with read_csv (see later) \n",
    "data = pd.read_csv(\"data/Accidental_Drug_Related_Deaths_2012-2018.csv\", nrows=5000) \n",
    "# Preview the first 5 lines of the loaded data \n",
    "data.head(10)\n",
    "#data.count()"
   ]
  },
  {
   "cell_type": "markdown",
   "metadata": {},
   "source": [
    "<br>\n",
    "<br>\n",
    "Let's try some queries...\n",
    "\n",
    "> #deaths opioid\n",
    "> #deaths male\n",
    "> #deaths female\n",
    "> #deaths hospital\n",
    "> #deaths residence\n",
    "> #deaths Bristol\n",
    "> #deaths male and Bristol\n",
    "> #deaths male and Bristol and opioid\n",
    "> #deaths male and Bristol and opioid and <34 years old\n",
    "\n",
    "\n",
    "\n"
   ]
  },
  {
   "cell_type": "code",
   "execution_count": 131,
   "metadata": {},
   "outputs": [
    {
     "data": {
      "text/plain": [
       "ID                     2400\n",
       "Date                   2400\n",
       "DateType               2400\n",
       "Age                    2399\n",
       "Sex                    2397\n",
       "Race                   2394\n",
       "ResidenceCity          2318\n",
       "ResidenceCounty        2294\n",
       "ResidenceState         2315\n",
       "DeathCity              2399\n",
       "DeathCounty            1559\n",
       "Location               2392\n",
       "LocationifOther         191\n",
       "DescriptionofInjury    1743\n",
       "InjuryPlace            2371\n",
       "InjuryCity             2112\n",
       "InjuryCounty           1238\n",
       "InjuryState             361\n",
       "COD                    2400\n",
       "OtherSignifican          69\n",
       "Heroin                 1259\n",
       "Cocaine                 659\n",
       "Fentanyl               1393\n",
       "FentanylAnalogue        244\n",
       "Oxycodone               262\n",
       "Oxymorphone              25\n",
       "Ethanol                 600\n",
       "Hydrocodone              54\n",
       "Benzodiazepine          663\n",
       "Methadone               238\n",
       "Amphet                   80\n",
       "Tramad                   69\n",
       "Morphine_NotHeroin       30\n",
       "Hydromorphone             9\n",
       "Other                   193\n",
       "OpiateNOS                72\n",
       "AnyOpioid              2400\n",
       "MannerofDeath          2399\n",
       "DeathCityGeo           2400\n",
       "ResidenceCityGeo       2364\n",
       "InjuryCityGeo          2354\n",
       "dtype: int64"
      ]
     },
     "execution_count": 131,
     "metadata": {},
     "output_type": "execute_result"
    }
   ],
   "source": [
    "# filtering with query method \n",
    "result = data.query('AnyOpioid == \"Y\"', inplace = False) \n",
    "#result = data.query('Sex ==\"Female\"', inplace = False) \n",
    "#result = data.query('Sex ==\"Male\"', inplace = False) \n",
    "#result = data.query('Sex ==\"Male\" or Sex ==\"Female\"', inplace = False) \n",
    "#result = data.query('Location ==\"Hospital\"', inplace = False) \n",
    "#result = data.query('Location ==\"Residence\"', inplace = False) \n",
    "#result = data.query('ResidenceCity ==\"BRISTOL\"', inplace = False) \n",
    "#result = data.query('Sex ==\"Male\" and ResidenceCity ==\"BRISTOL\"', inplace = False) \n",
    "#result = data.query('Sex ==\"Male\" and ResidenceCity ==\"BRISTOL\" and AnyOpioid == \"Y\" and Age<34', inplace = False) \n",
    " \n",
    "# display \n",
    "result.count()\n",
    "#result.head(10)"
   ]
  },
  {
   "cell_type": "markdown",
   "metadata": {},
   "source": [
    "<br>\n",
    "<br>\n",
    "\n",
    "Now, imagine a file/database from Facebook users: 2,45 Billions (2019)\n",
    "* how long to search for an info?\n",
    "* or to sort a columnn?\n",
    "\n"
   ]
  },
  {
   "cell_type": "markdown",
   "metadata": {},
   "source": [
    "<a id='code_example_3'></a>\n",
    "## Code Example #3: Sort\n",
    "\n",
    "<img align=right src=\"img/tape4.gif\" width=300/>\n",
    "\n",
    "<br>\n",
    "Usually, we do not have to sort billion of billions of data\n",
    "\n",
    "But sometimes we do... anyway, the example is educational :-)\n",
    "\n",
    "> Bubble Sort O(nˆ2)\n",
    "> Quick Sort\n",
    "> Merge Sort\n",
    "> Heap sort\n",
    "> ...\n",
    "\n",
    "creative and intelligence apllied to solve problems\n",
    "\n"
   ]
  },
  {
   "cell_type": "markdown",
   "metadata": {},
   "source": [
    "<a id='code_example_4'></a>\n",
    "## Code Example #4: square root\n",
    "\n",
    "<img align=right src=\"img/rootsquare.jpeg\" width=200/>\n",
    "\n",
    "<br>\n",
    "square root of a number - guess and check method.\n",
    "\n",
    "> starting at 0.0 and incremental - takes time\n"
   ]
  },
  {
   "cell_type": "code",
   "execution_count": 133,
   "metadata": {},
   "outputs": [
    {
     "name": "stdin",
     "output_type": "stream",
     "text": [
      "Enter a number :  9\n"
     ]
    },
    {
     "name": "stdout",
     "output_type": "stream",
     "text": [
      "Total guesses were 29984\n",
      "2.998400000001903 is close to the square root of 9\n"
     ]
    }
   ],
   "source": [
    "x = int(input('Enter a number : '))\n",
    "# The guess answer\n",
    "guess = 0.0\n",
    "# Used for accuracy. See the condition in While Loop\n",
    "epsilon = 0.01\n",
    "#used to increment our guess 'ans'\n",
    "step = epsilon**2\n",
    "\n",
    "total_guesses = 0\n",
    "\n",
    "# We will understand this condition during code analysis\n",
    "while (abs(guess**2 - x)) >= epsilon:\n",
    "    guess += step\n",
    "    total_guesses += 1\n",
    "\n",
    "print('Total guesses were ' + str(total_guesses))\n",
    "if abs(guess**2-x) >= epsilon:\n",
    "    print('Failed on square root of ' + str(x))\n",
    "else:\n",
    "    print(str(guess) + ' is close to the square root of ' + str(x))\n"
   ]
  },
  {
   "cell_type": "markdown",
   "metadata": {},
   "source": [
    "<br>\n",
    "<br>\n",
    "or we can make better guesses...\n",
    "\n",
    "Example for `number = 9` and `episilon = 0.01`\n",
    "\n",
    "| Tentatives | Guess |\n",
    "| ------ | ----------- |\n",
    "| 01   | 4.5 |\n",
    "| 02   | 2.25 |\n",
    "| 03   | 3.375 |\n",
    "| 04   | 2.8125 |\n",
    "| 05   | 3.09375 |\n",
    "| 06   | 2.953125 |\n",
    "| 07   | 3.0234375 |\n",
    "| 08   | 2.98828125 |\n",
    "| 09   | 3.005859375 |\n",
    "| 10   | 2.9970703125 |\n",
    "\n",
    "If `episilon = 0.01` the tentatives increase, but the accuracy improves.\n"
   ]
  },
  {
   "cell_type": "code",
   "execution_count": 134,
   "metadata": {},
   "outputs": [
    {
     "name": "stdin",
     "output_type": "stream",
     "text": [
      "Enter a number :  9\n"
     ]
    },
    {
     "name": "stdout",
     "output_type": "stream",
     "text": [
      "Total guesses were 10\n",
      "3.00146484375 is close to the square root of 9\n"
     ]
    }
   ],
   "source": [
    "x = int(input('Enter a number : '))\n",
    "\n",
    "epsilon = 0.01\n",
    "left = 0\n",
    "right = x\n",
    "# guess start on X/2\n",
    "guess = (right+left)/2.0\n",
    "\n",
    "total_guesses = 0\n",
    "\n",
    "while abs(guess**2 - x) > epsilon:\n",
    "    if guess**2 < x:\n",
    "        left = guess\n",
    "    else:\n",
    "        right = guess\n",
    "    guess = (right+left)/2.0\n",
    "    total_guesses += 1\n",
    "\n",
    "print('Total guesses were ' + str(total_guesses))\n",
    "print(str(guess) + ' is close to the square root of ' + str(x))"
   ]
  },
  {
   "cell_type": "markdown",
   "metadata": {},
   "source": [
    "<br>\n",
    "<br>\n",
    "<img align=right src=\"img/ilovmath.png\" width=100/>\n",
    "or we can simply call the function library (already ready for us :-)"
   ]
  },
  {
   "cell_type": "code",
   "execution_count": 2,
   "metadata": {},
   "outputs": [
    {
     "name": "stdin",
     "output_type": "stream",
     "text": [
      "Please Enter any numeric Value :  3\n"
     ]
    },
    {
     "name": "stdout",
     "output_type": "stream",
     "text": [
      "The Square Root of a Given Number 3.0  = 1.7320508075688772\n"
     ]
    }
   ],
   "source": [
    "import math\n",
    "number = float(input(\"Please Enter any numeric Value : \"))\n",
    "\n",
    "#call function\n",
    "squareRoot = math.sqrt(number)\n",
    "\n",
    "print(\"The Square Root of a Given Number {0}  = {1}\".format(number, squareRoot))"
   ]
  },
  {
   "cell_type": "markdown",
   "metadata": {},
   "source": [
    "\n",
    "\n",
    "5. Sorts\n",
    "old thru fita\n",
    "today is fast (excel 22k itens)... but it works as education for us.\n",
    "\n",
    "3. Outro de simplex pra resolver equacoes \n",
    "\n",
    "4. em geral com isso fazemos tudo (QUASE TUDO)... gta, face, whataspp, banco\n",
    "Mas nem tudo\n",
    "(agora link com TI)\n",
    "\n",
    "(depois de uma IA geral ... transformacao digital e depois volto pro detalhe da IA)\n"
   ]
  },
  {
   "cell_type": "code",
   "execution_count": 29,
   "metadata": {},
   "outputs": [
    {
     "data": {
      "text/plain": [
       "3.872983346207417"
      ]
     },
     "execution_count": 29,
     "metadata": {},
     "output_type": "execute_result"
    }
   ],
   "source": [
    "import math\n",
    "x=15\n",
    "math.sqrt(x)"
   ]
  },
  {
   "cell_type": "code",
   "execution_count": 32,
   "metadata": {},
   "outputs": [
    {
     "data": {
      "text/plain": [
       "9.0"
      ]
     },
     "execution_count": 32,
     "metadata": {},
     "output_type": "execute_result"
    }
   ],
   "source": [
    "25**(1/2)\n",
    "9**(1/2)\n",
    "81**(1/2)\n"
   ]
  },
  {
   "cell_type": "code",
   "execution_count": 30,
   "metadata": {},
   "outputs": [
    {
     "name": "stdin",
     "output_type": "stream",
     "text": [
      " Please Enter any numeric Value :  33\n"
     ]
    },
    {
     "name": "stdout",
     "output_type": "stream",
     "text": [
      "The Square Root of a Given Number 33.0  = 5.744562646538029\n"
     ]
    }
   ],
   "source": [
    "\n",
    "import math\n",
    "\n",
    "number = float(input(\" Please Enter any numeric Value : \"))\n",
    "\n",
    "squareRoot = math.sqrt(number)\n",
    "\n",
    "print(\"The Square Root of a Given Number {0}  = {1}\".format(number, squareRoot))\n"
   ]
  },
  {
   "cell_type": "code",
   "execution_count": null,
   "metadata": {},
   "outputs": [],
   "source": []
  },
  {
   "cell_type": "code",
   "execution_count": null,
   "metadata": {},
   "outputs": [],
   "source": []
  },
  {
   "cell_type": "markdown",
   "metadata": {},
   "source": [
    "oh oh .... será q dá pra resolver TODOS esses problemas?\n",
    "link com IA"
   ]
  },
  {
   "cell_type": "code",
   "execution_count": null,
   "metadata": {},
   "outputs": [],
   "source": [
    "Impacto da Computacao...\n",
    "4. Impact of computer / diversidade e extensão anywhere/ fins solutions\n",
    "- palestra Cristina sobre tendencias da IA."
   ]
  },
  {
   "cell_type": "markdown",
   "metadata": {},
   "source": [
    "NOTEBOOK\n",
    "Exemplos de appst\n",
    "\n",
    "https://youtu.be/JRHAM1nAuD4\n",
    "\n"
   ]
  },
  {
   "cell_type": "markdown",
   "metadata": {},
   "source": [
    "Notebook \n",
    "1. Areas de ti Academic\n",
    "2. Areas de TI Professional\n",
    "\n",
    "https://www.youtube.com/watch?v=SzJ46YA_RaA&feature=youtu.be\n"
   ]
  },
  {
   "cell_type": "code",
   "execution_count": null,
   "metadata": {},
   "outputs": [],
   "source": [
    "- alguns exemplos mais interessantes \n",
    "- video microsoft .net. kkkk\n",
    "- video startrek\n",
    "-video de volta pro futuro ...\n",
    "\n",
    "\n",
    "- sera q consigo resolver assim indeterminadamente???\n",
    "- IA definicao\n",
    "\n",
    "- quebras de areas\n",
    "- etica e diversidade da TI\n",
    "\n",
    "- entrando na metaheuristica/otimizacao\n",
    "- Google trends \n",
    "- slides cadu\n",
    "\n",
    "- o q viria ser entao a transformacao digitsl?\n",
    "\n",
    "- TI é grantir utilidade e garantia"
   ]
  }
 ],
 "metadata": {
  "celltoolbar": "Slideshow",
  "kernelspec": {
   "display_name": "Python 3",
   "language": "python",
   "name": "python3"
  },
  "language_info": {
   "codemirror_mode": {
    "name": "ipython",
    "version": 3
   },
   "file_extension": ".py",
   "mimetype": "text/x-python",
   "name": "python",
   "nbconvert_exporter": "python",
   "pygments_lexer": "ipython3",
   "version": "3.7.6"
  }
 },
 "nbformat": 4,
 "nbformat_minor": 4
}
