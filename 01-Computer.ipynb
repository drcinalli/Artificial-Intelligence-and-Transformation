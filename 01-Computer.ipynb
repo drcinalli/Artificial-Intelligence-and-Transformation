{
 "cells": [
  {
   "cell_type": "markdown",
   "metadata": {
    "slideshow": {
     "slide_type": "skip"
    }
   },
   "source": [
    "<img src=\"./img/logoconvexbrancomini2.png\"  align=\"right\"/>"
   ]
  },
  {
   "cell_type": "markdown",
   "metadata": {
    "slideshow": {
     "slide_type": "skip"
    }
   },
   "source": [
    "<img src=\"./img/logoboxverde.png\" align=\"right\"/>\n",
    "<br>\n"
   ]
  },
  {
   "cell_type": "markdown",
   "metadata": {
    "slideshow": {
     "slide_type": "slide"
    },
    "toc-hr-collapsed": true
   },
   "source": [
    "<!--\n",
    "<img src=\"./img/logoconvexbrancomini2.png\"  align=\"right\"/>\n",
    "-->\n",
    "# Artificial Intelligence and Digital Transformation\n",
    "\n",
    "<!--\n",
    "<img src=\"./img/logoboxverde.png\" align=\"right\"/>\n",
    "-->\n",
    "__by [Daniel Cinalli](http://www.cinalli.com.br)__ - DSc Artificial Intelligence\n",
    "\n",
    "## What is a Computer?\n"
   ]
  },
  {
   "cell_type": "markdown",
   "metadata": {
    "slideshow": {
     "slide_type": "slide"
    }
   },
   "source": [
    "\n",
    "<br/><br/> \n",
    "## Notes:\n",
    "\n",
    "* Coded in Python 3.x\n",
    "* Using [Anaconda](https://www.anaconda.com/) is recommended\n",
    "* Run the notebook `online` at [binder](https://mybinder.org/v2/gh/drcinalli/Artificial-Intelligence-and-Transformation/master) [![Binder](https://mybinder.org/badge_logo.svg)](https://mybinder.org/v2/gh/drcinalli/Artificial-Intelligence-and-Transformation/master)\n",
    "<!-- * [nbviewer](https://nbviewer.jupyter.org/) allows you to switch the notebooks \"slides\" mode-->"
   ]
  },
  {
   "cell_type": "markdown",
   "metadata": {
    "slideshow": {
     "slide_type": "slide"
    }
   },
   "source": [
    "<br> </br>\n",
    "### Table of Contents\n",
    "\n",
    "- [What is a Computer?](#whatisacomputer)\n",
    "<br> <br>\n"
   ]
  },
  {
   "cell_type": "markdown",
   "metadata": {
    "slideshow": {
     "slide_type": "slide"
    }
   },
   "source": [
    "<a id='whatisacomput'></a>\n",
    "## What is a Computer?\n",
    "\n",
    "\n",
    "<img align=right src=\"img/turing.jpg\" width=300/>\n",
    "\n",
    ">Box with a Goblin inside\n",
    "        \n",
    "<br>  \n",
    "\n",
    "Two main properties:\n",
    "\n",
    "* performs calculation*\n",
    "* store results (and remember them)**\n",
    "        \n",
    "<br>\n",
    "<br>\n",
    "\n",
    "###### * Summit 150 petaFLOPS (quadrillion floating point operations); i7 200 gigaFLOPS (billion per second) <i>- in 2019</i>\n",
    "###### ** Cloud storage (exabyte or zettabyte?)  <i>- in 2019</i>"
   ]
  },
  {
   "cell_type": "markdown",
   "metadata": {},
   "source": [
    "<a id='Bit'></a>\n",
    "## Binary number system\n",
    "\n",
    "<img align=right src=\"img/adc.png\" />\n",
    "\n",
    "> bit: 0 or 1\n",
    "        \n",
    "<br>  \n",
    "\n",
    "**Physical limitations:**\n",
    "* micro transistor on/off\n",
    "* electric signal \n",
    "\n",
    "**Representation of words, numbers, images,...**<br>\n",
    "B - 01000010 <br>\n",
    "103 - 01100111<br>\n",
    "Yellow color - 11111111 11111111 00000000\n",
    "\n",
    "**Operations:**<br>\n",
    "+ | - | == | != | > | < ...\n"
   ]
  },
  {
   "cell_type": "markdown",
   "metadata": {},
   "source": [
    "<a id='Computer'></a>\n",
    "## Computer\n",
    "\n",
    "<img align=right src=\"img/rubik.png\" width=200/>\n",
    "\n",
    "> computers only know what you tell them\n",
    "        \n",
    "<br>\n",
    "\n",
    "**Calculator:**\n",
    "* fixed code computer\n",
    "* low memory\n",
    "\n",
    "\n",
    "**Computer:**\n",
    "* performs calculation\n",
    "* store results (and remember them)\n",
    "* _solve problems through scripts or computer codes_\n",
    "        \n",
    "\n",
    "\n"
   ]
  },
  {
   "cell_type": "markdown",
   "metadata": {},
   "source": [
    "<a id='ComputerKnowledge'></a>\n",
    "## Computer Knowledge\n",
    "\n",
    "<img align=right src=\"img/knowledge.png\" width=300/>\n",
    "\n",
    "> Declarative and Imperative knowldges\n",
    "        \n",
    "<br>\n",
    "\n",
    "**Declarative Knowledge:**\n",
    "* statement of facts and truth\n",
    "<br> 2 + 2 = 4\n",
    "<br> The cat is yellow\n",
    "<br> Murilo is 12 years old\n",
    "\n",
    "It limits the human to find the new things\n",
    "\n",
    "**Imperative Knowledge:**\n",
    "* like a recipe or a cookbook\n",
    "* sequence of steps/instructions \n",
    "\n",
    "It shows how to create information and knowledge\n"
   ]
  },
  {
   "cell_type": "markdown",
   "metadata": {},
   "source": [
    "<a id='Algorithms'></a>\n",
    "## Algorithms\n",
    "\n",
    "<img align=right src=\"img/languages.jpg\" width=400/>\n",
    "\n",
    "> the algorithms change the game for computers\n",
    "        \n",
    "<br>\n",
    "\n",
    "O q eh um algoritmo: steps control flow stop\n",
    "\n",
    "\n",
    "Internamente essas receitas sao transformadas em binarios e pocotadas em pequeníssima instrucoes como: pega valores, soma, multiplica, armazena e devolve pra memória ..... e nisso os binários são bons."
   ]
  },
  {
   "cell_type": "markdown",
   "metadata": {},
   "source": [
    "<a id='Languages'></a>\n",
    "## Languages\n",
    "\n",
    "<img align=right src=\"img/languages.jpg\" width=400/>\n",
    "\n",
    "> the algorithms change the game for computers\n",
    "        \n",
    "<br>\n",
    "\n",
    "**Declarative Knowledge:**\n",
    "* statement of facts and truth\n",
    "<br> 2 + 2 = 4\n",
    "<br> The cat is yellow\n",
    "<br> Murilo is 12 years old\n",
    "\n",
    "It limits the human to find the new things\n",
    "\n",
    "**Imperative Knowledge:**\n",
    "* like a recipe or a cookbook\n",
    "* sequence of steps/instructions \n",
    "\n",
    "It shows how to create information and knowledge\n"
   ]
  },
  {
   "cell_type": "markdown",
   "metadata": {},
   "source": [
    "1. O q eh um algoritmo: steps control flow stop\n",
    "2. Internamente essas receitas sao transformadas em binarios e pocotadas em pequeníssima instrucoes como: pega valores, soma, multiplica, armazena e devolve pra memória ..... e nisso os binários são bons.\n"
   ]
  },
  {
   "cell_type": "markdown",
   "metadata": {},
   "source": [
    "1. Rodo um programa  pra sortear um bombom\n",
    "2. Rodo um de verdade raiz quadrada\n"
   ]
  },
  {
   "cell_type": "markdown",
   "metadata": {},
   "source": []
  },
  {
   "cell_type": "code",
   "execution_count": null,
   "metadata": {},
   "outputs": [],
   "source": [
    "Impacto da Computacao...\n",
    "4. Impact of computer / diversidade e extensão anywhere/ fins solutions\n",
    "b"
   ]
  },
  {
   "cell_type": "markdown",
   "metadata": {},
   "source": [
    "\n",
    "Exemplos de appst\n",
    "\n",
    "https://youtu.be/JRHAM1nAuD4\n",
    "\n"
   ]
  },
  {
   "cell_type": "markdown",
   "metadata": {},
   "source": [
    "1. Areas de ti Academic\n",
    "2. Areas de TI Professional\n",
    "\n",
    "https://www.youtube.com/watch?v=SzJ46YA_RaA&feature=youtu.be\n"
   ]
  }
 ],
 "metadata": {
  "celltoolbar": "Slideshow",
  "kernelspec": {
   "display_name": "Python 3",
   "language": "python",
   "name": "python3"
  },
  "language_info": {
   "codemirror_mode": {
    "name": "ipython",
    "version": 3
   },
   "file_extension": ".py",
   "mimetype": "text/x-python",
   "name": "python",
   "nbconvert_exporter": "python",
   "pygments_lexer": "ipython3",
   "version": "3.7.4"
  }
 },
 "nbformat": 4,
 "nbformat_minor": 4
}
