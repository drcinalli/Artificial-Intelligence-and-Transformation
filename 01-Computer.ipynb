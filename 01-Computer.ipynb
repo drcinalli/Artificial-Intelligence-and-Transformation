{
 "cells": [
  {
   "cell_type": "markdown",
   "metadata": {
    "slideshow": {
     "slide_type": "skip"
    }
   },
   "source": [
    "<img src=\"./img/logoconvexbrancomini2.png\"  align=\"right\"/>"
   ]
  },
  {
   "cell_type": "markdown",
   "metadata": {
    "slideshow": {
     "slide_type": "skip"
    }
   },
   "source": [
    "<img src=\"./img/logoboxverde.png\" align=\"right\"/>\n",
    "<br>\n"
   ]
  },
  {
   "cell_type": "markdown",
   "metadata": {
    "slideshow": {
     "slide_type": "slide"
    },
    "toc-hr-collapsed": true
   },
   "source": [
    "<!--\n",
    "<img src=\"./img/logoconvexbrancomini2.png\"  align=\"right\"/>\n",
    "-->\n",
    "# Artificial Intelligence and Digital Transformation\n",
    "\n",
    "<!--\n",
    "<img src=\"./img/logoboxverde.png\" align=\"right\"/>\n",
    "-->\n",
    "__by [Daniel Cinalli](http://www.cinalli.com.br)__ - DSc Artificial Intelligence\n",
    "\n",
    "## What is a Computer?\n"
   ]
  },
  {
   "cell_type": "markdown",
   "metadata": {
    "slideshow": {
     "slide_type": "slide"
    }
   },
   "source": [
    "\n",
    "<br/><br/> \n",
    "## Notes:\n",
    "\n",
    "* Coded in Python 3.x\n",
    "* Using [Anaconda](https://www.anaconda.com/) is recommended\n",
    "* Run the notebook `online` at [binder](https://mybinder.org/v2/gh/drcinalli/Artificial-Intelligence-and-Transformation/master) [![Binder](https://mybinder.org/badge_logo.svg)](https://mybinder.org/v2/gh/drcinalli/Artificial-Intelligence-and-Transformation/master)\n",
    "<!-- * [nbviewer](https://nbviewer.jupyter.org/) allows you to switch the notebooks \"slides\" mode-->"
   ]
  },
  {
   "cell_type": "markdown",
   "metadata": {
    "slideshow": {
     "slide_type": "slide"
    }
   },
   "source": [
    "<br> </br>\n",
    "### Table of Contents\n",
    "\n",
    "- [What is a Computer?](#whatisacomputer)\n",
    "- [Computer Knowledge](#ComputerKnowledge)\n",
    "- [Algorithms](#Algorithms)\n",
    "- [Code Examples and Problems](#code_examples)\n",
    "- [Complex Problems](#complex_problems)\n",
    "\n",
    "\n",
    "<br> <br>\n"
   ]
  },
  {
   "cell_type": "markdown",
   "metadata": {
    "slideshow": {
     "slide_type": "slide"
    }
   },
   "source": [
    "<a id='whatisacomput'></a>\n",
    "## What is a Computer?\n",
    "\n",
    "\n",
    "<img align=right src=\"img/turing.jpg\" width=300/>\n",
    "\n",
    ">Box with a Goblin inside\n",
    "        \n",
    "<br>  \n",
    "\n",
    "Two main properties:\n",
    "\n",
    "* performs calculation*\n",
    "* store results (and remember them)**\n",
    "        \n",
    "<br>\n",
    "<br>\n",
    "\n",
    "###### * Summit 150 petaFLOPS (quadrillion floating point operations); i7 200 gigaFLOPS (billion per second) <i>- in 2019</i>\n",
    "###### ** Cloud storage (exabyte or zettabyte?)  <i>- in 2019</i>"
   ]
  },
  {
   "cell_type": "markdown",
   "metadata": {},
   "source": [
    "<a id='Bit'></a>\n",
    "## Binary number system\n",
    "\n",
    "<img align=right src=\"img/adc.png\" />\n",
    "\n",
    "> bit: 0 or 1\n",
    "        \n",
    "<br>  \n",
    "\n",
    "**Physical limitations:**\n",
    "* micro transistor on/off\n",
    "* electric signal \n",
    "\n",
    "**Representation of words, numbers, images,...**<br>\n",
    "B - `01000010` <br>\n",
    "103 - `01100111`<br>\n",
    "Yellow color - `11111111 11111111 00000000`\n",
    "\n",
    "\n",
    "**Operations:**<br>\n",
    "+ | - | == | != | > | < ...\n"
   ]
  },
  {
   "cell_type": "markdown",
   "metadata": {},
   "source": [
    "<a id='Computer'></a>\n",
    "## Computer\n",
    "\n",
    "<img align=right src=\"img/rubik.png\" width=200/>\n",
    "\n",
    "> computers only know what you tell them\n",
    "        \n",
    "<br>\n",
    "\n",
    "**Calculator:**\n",
    "* fixed code computer\n",
    "* low memory\n",
    "\n",
    "\n",
    "**Computer:**\n",
    "* performs calculation\n",
    "* store results (and remember them)\n",
    "* _solve problems through scripts or computer codes_\n",
    "        \n",
    "\n",
    "\n"
   ]
  },
  {
   "cell_type": "markdown",
   "metadata": {},
   "source": [
    "<a id='ComputerKnowledge'></a>\n",
    "## Computer Knowledge\n",
    "\n",
    "<!--<img align=right src=\"img/knowledge.png\" width=300/>-->\n",
    "<img align=right src=\"img/knowledge.gif\" width=450/>\n",
    "\n",
    "> Declarative and Imperative knowldges\n",
    "        \n",
    "<br>\n",
    "\n",
    "**Declarative Knowledge:**\n",
    "* statement of facts and truth\n",
    "<br> `2 + 2 = 4`\n",
    "<br> `The cat is yellow`\n",
    "<br> `Murilo is 12 years old`\n",
    "\n",
    "It limits the human to find the new things\n",
    "\n",
    "**Imperative Knowledge:**\n",
    "* like a recipe or a cookbook\n",
    "* sequence of steps/instructions \n",
    "\n",
    "It shows how to create information and knowledge\n"
   ]
  },
  {
   "cell_type": "markdown",
   "metadata": {},
   "source": [
    "<a id='Algorithms'></a>\n",
    "## What is an Algorithm?\n",
    "\n",
    "<img align=right src=\"img/algorithm.png\" width=400/>\n",
    "\n",
    "> the algorithms change the game for computers\n",
    "        \n",
    "<br>\n",
    "\n",
    "* sequence of simple steps \n",
    "* flow of control \n",
    "* \"stop\" definition\n",
    "\n",
    "computational procedure for solving a problem\n",
    "<br>\n",
    "<br>\n",
    "\n",
    "###### -Internally, these recipes are transformed in string of bits and converted to tiny instructions, <br>such as: `fetch value`; `sum values`; `multiply values`; `store value`, etc.\n",
    "\n",
    "###### -Al-Khwarizmi <img align=right src=\"img/al-khwarizmi.jpeg\" width=100/>\n"
   ]
  },
  {
   "cell_type": "markdown",
   "metadata": {},
   "source": [
    "<a id='Languages'></a>\n",
    "## Languages\n",
    "\n",
    "<img align=right src=\"img/languages.jpg\" width=400/>\n",
    "\n",
    "> there are many many many types of languages\n",
    "        \n",
    "<br>\n",
    "\n",
    "<i>Array:</i> MatLab, Julia, R, ...\n",
    "\n",
    "<i>Constraint Programing:</i> ECLiPSe\n",
    "\n",
    "<i>Command Line:</i> bash, sh, csh, bat, powershell, ...\n",
    "\n",
    "<i>Fourth-generation:</i> Natural, ABAP, SQL, ...\n",
    "\n",
    "<i>Compiled:</i> Basic, C, C#, C++, Ada, Cobol, Delphi, Pascal, Fortran, Eiffel, Java, Smalltalk, **Python**, ...\n",
    "\n",
    "<i>Interpreted:</i> Ruby, Lisp, Javascript, VBscript, ...\n",
    "\n"
   ]
  },
  {
   "cell_type": "markdown",
   "metadata": {},
   "source": [
    "<a id='code_examples'></a>\n",
    "<br> </br>\n",
    "### Code Examples and Problems\n",
    "\n",
    "- [draw lots](#code_example_1)\n",
    "- [search on files](#code_example_2)\n",
    "- [sort](#code_example_3)\n",
    "- [square root](#code_example_4)\n",
    "- [linear systems](#code_example_5)\n",
    "\n",
    "<br> <br>\n"
   ]
  },
  {
   "cell_type": "markdown",
   "metadata": {},
   "source": [
    "<a id='code_example_1'></a>\n",
    "## Code Example #1: draw lots\n",
    "\n",
    "<img align=right src=\"img/drawlots.jpg\" width=200/>\n",
    "<br>\n",
    "\n",
    "there are many different ways to write your code... "
   ]
  },
  {
   "cell_type": "code",
   "execution_count": 1,
   "metadata": {},
   "outputs": [
    {
     "name": "stdout",
     "output_type": "stream",
     "text": [
      "[1, 2, 3, 4, 5, 6, 7, 8, 9, 10, 11, 12, 13, 14, 15, 16, 17, 18, 19, 20]\n"
     ]
    }
   ],
   "source": [
    "#number of people in the room\n",
    "num_pessoas=20\n",
    "\n",
    "#array\n",
    "pessoas = []\n",
    "\n",
    "#loop\n",
    "for i in range(num_pessoas):\n",
    "       pessoas.append(i+1)\n",
    "       \n",
    "print (pessoas)\n"
   ]
  },
  {
   "cell_type": "markdown",
   "metadata": {},
   "source": [
    "<br>\n",
    "<br>\n",
    "or like that:"
   ]
  },
  {
   "cell_type": "code",
   "execution_count": null,
   "metadata": {},
   "outputs": [],
   "source": [
    "import array\n",
    "import random\n",
    "\n",
    "#number of people in the room\n",
    "num_pessoas=20\n",
    "\n",
    "#array of integers\n",
    "pessoas = array.array('i',(i+1 for i in range(0,num_pessoas)))\n",
    "print (pessoas.tolist())\n"
   ]
  },
  {
   "cell_type": "markdown",
   "metadata": {},
   "source": [
    "<br>\n",
    "<br>\n",
    "\n",
    "<img align=right src=\"img/wonka.jpg\" width=200/>\n",
    "and the **winner** is:"
   ]
  },
  {
   "cell_type": "code",
   "execution_count": null,
   "metadata": {},
   "outputs": [],
   "source": [
    "winner = random.randint(1,num_pessoas)\n",
    "\n",
    "print('The WINNER is: ' + str(winner))"
   ]
  },
  {
   "cell_type": "markdown",
   "metadata": {},
   "source": [
    "<a id='code_example_2'></a>\n",
    "## Code Example #2: Search on Files\n",
    "\n",
    "<!--<img align=right src=\"img/database.jpg\" width=200/>-->\n",
    "<img align=right src=\"img/database.gif\" width=150/>\n",
    "\n",
    "<br>\n",
    "\n",
    "Search for an info on large files ... or databases\n",
    "\n",
    "<br>\n",
    "<i>spreadsheet sample</i>\n",
    "\n",
    "> Accidental Drug Related Deaths 2012-2018 <BR>\n",
    "> 21k records\n"
   ]
  },
  {
   "cell_type": "code",
   "execution_count": null,
   "metadata": {},
   "outputs": [],
   "source": [
    "# Load the Pandas libraries with alias 'pd' \n",
    "import pandas as pd \n",
    "# Read data from file 'filename.csv' \n",
    "# (in the same directory that your python process is based)\n",
    "# Control delimiters, rows, column names with read_csv (see later) \n",
    "data = pd.read_csv(\"data/Accidental_Drug_Related_Deaths_2012-2018.csv\", nrows=5000) \n",
    "# Preview the first 5 lines of the loaded data \n",
    "data.head(10)\n",
    "#data.count()"
   ]
  },
  {
   "cell_type": "markdown",
   "metadata": {},
   "source": [
    "<br>\n",
    "<br>\n",
    "Let's try some queries...\n",
    "\n",
    "> #deaths opioid\n",
    "> #deaths male\n",
    "> #deaths female\n",
    "> #deaths hospital\n",
    "> #deaths residence\n",
    "> #deaths Bristol\n",
    "> #deaths male and Bristol\n",
    "> #deaths male and Bristol and opioid\n",
    "> #deaths male and Bristol and opioid and <34 years old\n",
    "\n",
    "\n",
    "\n"
   ]
  },
  {
   "cell_type": "code",
   "execution_count": null,
   "metadata": {},
   "outputs": [],
   "source": [
    "# filtering with query method \n",
    "result = data.query('AnyOpioid == \"Y\"', inplace = False) \n",
    "#result = data.query('Sex ==\"Female\"', inplace = False) \n",
    "#result = data.query('Sex ==\"Male\"', inplace = False) \n",
    "#result = data.query('Sex ==\"Male\" or Sex ==\"Female\"', inplace = False) \n",
    "#result = data.query('Location ==\"Hospital\"', inplace = False) \n",
    "#result = data.query('Location ==\"Residence\"', inplace = False) \n",
    "#result = data.query('ResidenceCity ==\"BRISTOL\"', inplace = False) \n",
    "#result = data.query('Sex ==\"Male\" and ResidenceCity ==\"BRISTOL\"', inplace = False) \n",
    "#result = data.query('Sex ==\"Male\" and ResidenceCity ==\"BRISTOL\" and AnyOpioid == \"Y\" and Age<34', inplace = False) \n",
    " \n",
    "# display \n",
    "result.count()\n",
    "#result.head(10)"
   ]
  },
  {
   "cell_type": "markdown",
   "metadata": {},
   "source": [
    "<br>\n",
    "<br>\n",
    "\n",
    "Now, imagine a file/database from Facebook users: 2,45 Billion (2019)\n",
    "* how long to search for an info?\n",
    "* or to sort a columnn?\n",
    "\n"
   ]
  },
  {
   "cell_type": "markdown",
   "metadata": {},
   "source": [
    "<a id='code_example_3'></a>\n",
    "## Code Example #3: Sort\n",
    "\n",
    "<img align=right src=\"img/tape4.gif\" width=300/>\n",
    "\n",
    "<br>\n",
    "\n",
    "Back in 70's or 80's, `sorting` a list was painful (forward and rewind the tape)\n",
    "\n",
    "<br>\n",
    "\n",
    "Today `sort` is trivial, but still expensive\n",
    "\n",
    "\n",
    "Examples: \n",
    "\n",
    "* spreadsheet data\n",
    "* list of contacts\n",
    "* compression\n",
    "* ...\n",
    "\n",
    "Anyway, the example is educational :-)\n",
    "\n"
   ]
  },
  {
   "cell_type": "markdown",
   "metadata": {},
   "source": [
    "<img  align=right src=\"img/sort algorithms.gif\" width=300/>\n",
    "\n",
    "<br>\n",
    "<br>\n",
    "\n",
    "Large list of `sort` algorithms ... creative and intelligence apllied to solve problems\n",
    "\n",
    "> Quicksort - $O(n \\log n)$<br>\n",
    "> Merge sort - $O(n \\log n)$<br>\n",
    "> Heapsort - $O(n \\log n)$<br>\n",
    "> Shell sort - $O(n^{3/4})$<br>\n",
    "> Insertion - $O(n^2)$<br>\n",
    "> Bubble sort - $O(n^2)$<br>\n",
    "> ... etc\n",
    "\n",
    "<br>\n",
    "\n",
    "###### (picture) Viktor Bohush - https://github.com/vbohush/SortingAlgorithmAnimations"
   ]
  },
  {
   "cell_type": "markdown",
   "metadata": {},
   "source": [
    "\n",
    "<br>\n",
    "\n",
    "Facebook users: 2,45 Billion <br>\n",
    "Pretending that 1 comparison = 1 nanosecond\n",
    "\n",
    "> Quicksort - 23 Billion nanoseconds<br>\n",
    "> Bubble Sort - 6 Quintillion nanoseconds<br>\n",
    "\n",
    "> Quicksort - 23 seconds<br>\n",
    "> Bubble Sort - 6 Billion seconds<br> \n",
    "\n",
    "\n",
    "<!-- 1M:11D 1B:32y 6B:190y -->\n",
    "\n"
   ]
  },
  {
   "cell_type": "markdown",
   "metadata": {},
   "source": [
    "<br>\n",
    "<br>\n",
    "\n",
    "<table>\n",
    "    <tr>\n",
    "        <td>Bubble Sort</td>\n",
    "        <td></td>\n",
    "        <td>Quicksort</td>\n",
    "    </tr>\n",
    "    <tr>\n",
    "        <td><img  align=right src=\"img/bubblesort.png\" width=300/></td>\n",
    "        <td>&nbsp;&nbsp;&nbsp;&nbsp;&nbsp;</td>\n",
    "        <td><img  align=right src=\"img/quicksort.png\" width=400/></td>\n",
    "    </tr>\n",
    "</table>\n",
    "    \n",
    "\n"
   ]
  },
  {
   "cell_type": "markdown",
   "metadata": {},
   "source": [
    "<br>\n",
    "<br>\n",
    "\n",
    "**Bubble Sort**\n",
    "\n",
    "\n",
    "| |||||||||||||||||||\n",
    "| ------ |||||||||||||||||||\n",
    "| |29|99|27|41|66|28|44|78|87|19|31|76|58|88|83|97|12|21|44|\n",
    "\n",
    "<br>\n",
    "<br>\n",
    "\n",
    "| ||||||\n",
    "| ------ ||||||\n",
    "| |x|y|z|...|n|\n",
    "\n",
    "\n",
    "\n"
   ]
  },
  {
   "cell_type": "code",
   "execution_count": null,
   "metadata": {},
   "outputs": [],
   "source": [
    "def bubble_sort(our_list):\n",
    "\n",
    "    for i in range(len(our_list)):\n",
    "        for j in range(len(our_list) - 1):\n",
    "            if our_list[j] > our_list[j+1]:\n",
    "                # Swap\n",
    "                our_list[j], our_list[j+1] = our_list[j+1], our_list[j]"
   ]
  },
  {
   "cell_type": "code",
   "execution_count": null,
   "metadata": {},
   "outputs": [],
   "source": [
    "array = [29,99,27,41,66,28,44,78,87,19,31,76,58,88,83,97,12,21,44]\n",
    "bubble_sort(array)\n",
    "print(array)"
   ]
  },
  {
   "cell_type": "markdown",
   "metadata": {},
   "source": [
    "<br>\n",
    "<br>\n",
    "\n",
    "**Bubble Sort**\n",
    "\n",
    "| ||||||\n",
    "| ------ ||||||\n",
    "| |x|y|z|...|n|\n",
    "\n",
    "n = 1000\n"
   ]
  },
  {
   "cell_type": "code",
   "execution_count": null,
   "metadata": {},
   "outputs": [],
   "source": [
    "import numpy as np\n",
    "import time\n",
    "\n",
    "start_time = time.time()\n",
    "\n",
    "vet_size = 10000\n",
    "vet = np.random.randint(0, vet_size, vet_size)\n",
    "bubble_sort(vet)\n",
    "\n",
    "print(\"--- %s seconds ---\" % (time.time() - start_time))\n",
    "\n",
    "#print 200 numbers\n",
    "print(\"--- vector ---\")\n",
    "print (vet[0:199])"
   ]
  },
  {
   "cell_type": "markdown",
   "metadata": {},
   "source": [
    "<br>\n",
    "<br>\n",
    "\n",
    "**QuickSort**\n",
    "\n",
    "\n",
    "| |||||||||||||||||||\n",
    "| ------ |||||||||||||||||||\n",
    "| |29|99|27|41|66|28|44|78|87|19|31|76|58|88|83|97|12|21|44|\n",
    "\n"
   ]
  },
  {
   "cell_type": "code",
   "execution_count": null,
   "metadata": {},
   "outputs": [],
   "source": [
    "\n",
    "def partition(array, start, end):\n",
    "    pivot = array[start]\n",
    "    low = start + 1\n",
    "    high = end\n",
    "\n",
    "    while True:\n",
    "        while low <= high and array[high] >= pivot:\n",
    "            high = high - 1\n",
    "\n",
    "        # Opposite process of the one above\n",
    "        while low <= high and array[low] <= pivot:\n",
    "            low = low + 1\n",
    "\n",
    "        # We either found a value for both high and low that is out of order\n",
    "        # or low is higher than high, in which case we exit the loop\n",
    "        if low <= high:\n",
    "            array[low], array[high] = array[high], array[low]\n",
    "            # The loop continues\n",
    "        else:\n",
    "            # We exit out of the loop\n",
    "            break\n",
    "\n",
    "    array[start], array[high] = array[high], array[start]\n",
    "\n",
    "    return high\n",
    "\n",
    "def quick_sort(array, start, end):\n",
    "    if start >= end:\n",
    "        return\n",
    "\n",
    "    p = partition(array, start, end)\n",
    "    quick_sort(array, start, p-1)\n",
    "    quick_sort(array, p+1, end)\n",
    "    \n",
    "\n",
    "    "
   ]
  },
  {
   "cell_type": "code",
   "execution_count": null,
   "metadata": {},
   "outputs": [],
   "source": [
    "array = [29,99,27,41,66,28,44,78,87,19,31,76,58,88,83,97,12,21,44]\n",
    "\n",
    "quick_sort(array, 0, len(array) - 1)\n",
    "print(array)"
   ]
  },
  {
   "cell_type": "markdown",
   "metadata": {},
   "source": [
    "<br>\n",
    "<br>\n",
    "\n",
    "**QuickSort**\n",
    "\n",
    "| ||||||\n",
    "| ------ ||||||\n",
    "| |x|y|z|...|n|\n",
    "\n",
    "n = 1000\n"
   ]
  },
  {
   "cell_type": "code",
   "execution_count": null,
   "metadata": {},
   "outputs": [],
   "source": [
    "import numpy as np\n",
    "import time\n",
    "\n",
    "start_time = time.time()\n",
    "\n",
    "vet_size = 10000\n",
    "vet = np.random.randint(0, vet_size, vet_size)\n",
    "quick_sort(vet, 0, len(vet) - 1)\n",
    "\n",
    "print(\"--- %s seconds ---\" % (time.time() - start_time))\n",
    "\n",
    "#print 200 numbers\n",
    "print(\"--- vector ---\")\n",
    "print (vet[0:199])"
   ]
  },
  {
   "cell_type": "markdown",
   "metadata": {},
   "source": [
    "<br>\n",
    "<br>\n",
    "\n",
    "**QuickSort vs. Bubble Sort**\n",
    "<br>\n",
    "\n",
    "<!-- [![video](img/udiprod.png)](http://localhost:8888/files/OneDrive/___Po%CC%81s-Doutorado/GitHub/Artificial-Intelligence-and-Transformation/img/Quick%20sort%20vs%20Bubble.mp4?_xsrf=2%7Ccb3c1e7e%7C0cc22a80f11161fe8fe55450ef239732%7C1585309158) -->\n",
    "\n",
    "[![video](img/udiprod.png)](https://youtu.be/aXXWXz5rF64?start=106&end=192)\n",
    "\n",
    "\n",
    "######  source: https://youtu.be/aXXWXz5rF64?start=106&end=192\n",
    "\n"
   ]
  },
  {
   "cell_type": "markdown",
   "metadata": {},
   "source": [
    "<a id='code_example_4'></a>\n",
    "## Code Example #4: square root\n",
    "\n",
    "<img align=right src=\"img/rootsquare.jpeg\" width=200/>\n",
    "\n",
    "<br>\n",
    "square root of a number - guess and check method\n",
    "\n",
    "> starting at 0.0 and incremental - takes time\n"
   ]
  },
  {
   "cell_type": "code",
   "execution_count": null,
   "metadata": {},
   "outputs": [],
   "source": [
    "x = int(input('Enter a number : '))\n",
    "# The guess answer\n",
    "guess = 0.0\n",
    "# Used for accuracy. See the condition in While Loop\n",
    "epsilon = 0.01\n",
    "#used to increment our guess 'ans'\n",
    "step = epsilon**2\n",
    "\n",
    "total_guesses = 0\n",
    "\n",
    "# We will understand this condition during code analysis\n",
    "while (abs(guess**2 - x)) >= epsilon:\n",
    "    guess += step\n",
    "    total_guesses += 1\n",
    "\n",
    "print('Total guesses were ' + str(total_guesses))\n",
    "if abs(guess**2-x) >= epsilon:\n",
    "    print('Failed on square root of ' + str(x))\n",
    "else:\n",
    "    print(str(guess) + ' is close to the square root of ' + str(x))\n"
   ]
  },
  {
   "cell_type": "markdown",
   "metadata": {},
   "source": [
    "<br>\n",
    "<br>\n",
    "or we can make better guesses...\n",
    "\n",
    "Example for `number = 9` and `episilon = 0.01`\n",
    "\n",
    "| Tentatives | Guess |\n",
    "| ------ | ----------- |\n",
    "| 01   | 4.5 |\n",
    "| 02   | 2.25 |\n",
    "| 03   | 3.375 |\n",
    "| 04   | 2.8125 |\n",
    "| 05   | 3.09375 |\n",
    "| 06   | 2.953125 |\n",
    "| 07   | 3.0234375 |\n",
    "| 08   | 2.98828125 |\n",
    "| 09   | 3.005859375 |\n",
    "| 10   | 2.9970703125 |\n",
    "\n",
    "If `episilon = 0.01` the tentatives increase, but the accuracy improves.\n"
   ]
  },
  {
   "cell_type": "code",
   "execution_count": null,
   "metadata": {},
   "outputs": [],
   "source": [
    "x = int(input('Enter a number : '))\n",
    "\n",
    "epsilon = 0.01\n",
    "left = 0\n",
    "right = x\n",
    "# guess start on X/2\n",
    "guess = (right+left)/2.0\n",
    "\n",
    "total_guesses = 0\n",
    "\n",
    "while abs(guess**2 - x) > epsilon:\n",
    "    if guess**2 < x:\n",
    "        left = guess\n",
    "    else:\n",
    "        right = guess\n",
    "    guess = (right+left)/2.0\n",
    "    total_guesses += 1\n",
    "\n",
    "print('Total guesses were ' + str(total_guesses))\n",
    "print(str(guess) + ' is close to the square root of ' + str(x))"
   ]
  },
  {
   "cell_type": "markdown",
   "metadata": {},
   "source": [
    "<br>\n",
    "<br>\n",
    "<img align=right src=\"img/ilovmath.png\" width=100/>\n",
    "or we can simply call the function library (already ready for us :-)"
   ]
  },
  {
   "cell_type": "code",
   "execution_count": null,
   "metadata": {},
   "outputs": [],
   "source": [
    "import math\n",
    "number = float(input(\"Please Enter any numeric Value : \"))\n",
    "\n",
    "#call function\n",
    "squareRoot = math.sqrt(number)\n",
    "\n",
    "print(\"The Square Root of a Given Number {0}  = {1}\".format(number, squareRoot))"
   ]
  },
  {
   "cell_type": "markdown",
   "metadata": {},
   "source": [
    "<a id='code_example_5'></a>\n",
    "## Code Example #5: Linear System\n",
    "\n",
    "<img align=right src=\"img/linear_equation2.gif\" width=300/>\n",
    "\n",
    "<br>\n",
    "\n",
    ">Anna made forty-one cookies and went to a party. <br>\n",
    ">She gave each kid 2 cookies, and had 3 cookies left over.\n",
    "\n",
    "<br>\n",
    "<br>\n",
    "<br>\n",
    "<br>\n",
    "We can solve some linear systems too\n",
    "<br>\n",
    "\n",
    "$$\n",
    "\\begin{equation*}\n",
    "\\left\\{\n",
    "\\begin{alignedat}{3}\n",
    "% R & L   &  R & L   &  R & L \n",
    " 3x & +{} &  2y &  &  & = -4 \\\\\n",
    "  -x & +{} &  2y & &   & = -2 \n",
    "\\end{alignedat}\n",
    "\\right.\n",
    "\\end{equation*}\n",
    "$$\n",
    "\n",
    "<br>\n",
    "\n",
    "$$\n",
    "\\begin{equation*}\n",
    "\\left\\{\n",
    "\\begin{alignedat}{3}\n",
    "% R & L   &  R & L   &  R & L \n",
    " 2x & +{} &  y & +{} & 3z & = 10 \\\\\n",
    "  x & +{} &  y & +{} &  z & = 6 \\\\\n",
    "  x & +{} & 3y & +{} & 2z & = 13\n",
    "\\end{alignedat}\n",
    "\\right.\n",
    "\\end{equation*}\n",
    "$$\n",
    "\n"
   ]
  },
  {
   "cell_type": "markdown",
   "metadata": {},
   "source": [
    "<br>\n",
    "<br>\n",
    "<img align=right src=\"img/linear_equation_solution.gif\" width=300/>\n",
    "\n",
    "Many different ways to solve it:\n",
    "\n",
    "> Matrix Solution <br>\n",
    "> Elimination of Variables <br>\n",
    "> Gaussian Elimination <br>\n",
    "> Cramer`s Rule <br>\n",
    "> Quantum Algorithm <br>\n",
    "> Iterative Methods <br>\n",
    "> ...\n",
    "\n",
    "\n",
    "<!-- escalonamento ou eliminação gaussiana | adição | substituição | comparação -->\n"
   ]
  },
  {
   "cell_type": "markdown",
   "metadata": {},
   "source": [
    "<br>\n",
    "<br>\n",
    "\n",
    "**Computers love matrices :-)**\n",
    "\n",
    "<br>\n",
    "<br>\n",
    "\n",
    "The standard algorithm is based on `Gaussian Elimination`\n",
    "\n",
    "\n",
    "Let's see how it works:\n",
    "\n",
    "\n",
    "$$\n",
    "\\begin{equation*}\n",
    "\\left\\{\n",
    "\\begin{alignedat}{3}\n",
    "% R & L   &  R & L   &  R & L \n",
    " x & -{} &  1y & +{} & 3z & = 2 \\\\\n",
    "  6x & -{} &  6y & +{} &  2z & = -2 \\\\\n",
    "  x & +{} & y & &  & = 3\n",
    "\\end{alignedat}\n",
    "\\right.\n",
    "\\end{equation*}\n",
    "$$\n",
    "\n"
   ]
  },
  {
   "cell_type": "code",
   "execution_count": null,
   "metadata": {},
   "outputs": [],
   "source": [
    "# author: Worasait Suwannik\n",
    "def column(m, c):\n",
    "    return [m[i][c] for i in range(len(m))]\n",
    "\n",
    "def row(m, r):\n",
    "    return m[r][:]\n",
    "\n",
    "def height(m):\n",
    "    return len(m)\n",
    "\n",
    "def width(m):\n",
    "    return len(m[0])\n",
    "\n",
    "def print_matrix(m):\n",
    "    for i in range(len(m)):\n",
    "        print(m[i])\n",
    "    print\n",
    "    ''\n",
    "\n",
    "def gaussian_elimination_with_pivot(m):\n",
    "    \"\"\"\n",
    "    Parameters\n",
    "    ----------\n",
    "    m  : list of list of floats (matrix)\n",
    "\n",
    "    Returns\n",
    "    -------\n",
    "    list of floats\n",
    "        solution to the system of linear equation\n",
    "\n",
    "    Raises\n",
    "    ------\n",
    "    ValueError\n",
    "        no unique solution\n",
    "    \"\"\"\n",
    "    # forward elimination\n",
    "    n = height(m)\n",
    "    for i in range(n):\n",
    "        pivot(m, n, i)\n",
    "        for j in range(i + 1, n):\n",
    "            m[j] = [m[j][k] - m[i][k] * m[j][i] / m[i][i] for k in range(n + 1)]\n",
    "        print(\"Matrix #\" + str(i+1))\n",
    "        print_matrix(m)\n",
    "        print(\"\\n\")\n",
    "\n",
    "\n",
    "    if m[n - 1][n - 1] == 0: raise ValueError('No unique solution')\n",
    "\n",
    "    # backward substitution\n",
    "    x = [0] * n\n",
    "    for i in range(n - 1, -1, -1):\n",
    "        s = sum(m[i][j] * x[j] for j in range(i, n))\n",
    "        x[i] = (m[i][n] - s) / m[i][i]\n",
    "    return x\n",
    "\n",
    "\n",
    "'''\n",
    "# shorter way to pivot but cannot run in trinket\n",
    "def pivot(m, n, i):\n",
    "  max_row = max(range(i, n), key=lambda r: abs(m[r][i]))\n",
    "  m[i], m[max_row] = m[max_row], m[i]\n",
    "'''\n",
    "\n",
    "\n",
    "def pivot(m, n, i):\n",
    "    max = -1e100\n",
    "    for r in range(i, n):\n",
    "        if max < abs(m[r][i]):\n",
    "            max_row = r\n",
    "            max = abs(m[r][i])\n",
    "    m[i], m[max_row] = m[max_row], m[i]\n"
   ]
  },
  {
   "cell_type": "code",
   "execution_count": null,
   "metadata": {},
   "outputs": [],
   "source": [
    "\n",
    "    m = [[0,-2,6,-10], [-1,3,-6,5], [4,-12,8,12]]\n",
    "    #m = [[1, -1, 3, 2], [6, -6, 2, -2], [1, 1, 0, 3]]\n",
    "\n",
    "    print(\"Original Matrix\")\n",
    "    print_matrix(m)\n",
    "    print('\\n')\n",
    "    \n",
    "    print(gaussian_elimination_with_pivot(m))    \n"
   ]
  },
  {
   "cell_type": "markdown",
   "metadata": {},
   "source": [
    "<br>\n",
    "<br>\n",
    "So, the solution for the linear system is:\n",
    "\n",
    "\n",
    "$$\n",
    "\\begin{equation*}\n",
    "\\left\\{\n",
    "\\begin{alignedat}{3}\n",
    "% R & L   &  R & L   &  R & L \n",
    "  & -{} &  2y & +{} & 6z & = -10 \\\\\n",
    "  -x & +{} &  3y & -{} &  6z & = 5 \\\\\n",
    "  4x & -{} & 12y & +{} &  8z & = 12\n",
    "\\end{alignedat}\n",
    "\\right.\n",
    "\\end{equation*}\n",
    "$$\n",
    "\n",
    "> $x=4$ <br>\n",
    "> $y=-1$ <br>\n",
    "> $z=-2$ <br>\n",
    "\n",
    "\n",
    "\n"
   ]
  },
  {
   "cell_type": "markdown",
   "metadata": {},
   "source": [
    "<br>\n",
    "<br>\n",
    "\n",
    "**Geometric Interpretation :-)**\n",
    "\n",
    "<br>\n",
    "<br>\n"
   ]
  },
  {
   "cell_type": "code",
   "execution_count": null,
   "metadata": {},
   "outputs": [],
   "source": [
    "import numpy as np\n",
    "import matplotlib.pyplot as plt\n",
    "from mpl_toolkits.mplot3d import Axes3D\n",
    "fig = plt.figure()\n",
    "ax = fig.add_subplot(111, projection='3d')\n",
    "\n",
    "x, y = np.linspace(-10,10,10), np.linspace(-10,10,10)\n",
    "X, Y = np.meshgrid(x,y)\n",
    "Z1 = (-10 - 2*Y) / 6\n",
    "Z2 = (5 + X - 3*Y) / -6\n",
    "Z3 = (12 - 4*X + 12*Y) / 8\n",
    "\n",
    "ax.plot_surface(X,Y,Z1, alpha=0.5, rstride=100, cstride=100)\n",
    "ax.plot_surface(X,Y,Z2, alpha=0.5, rstride=100, cstride=100)\n",
    "\n",
    "\n",
    "#ax.plot((1,1),(-8,8),(-9,23), lw=2, c='b')\n",
    "ax.plot_surface(X,Y,Z3, alpha=0.5, facecolors='g', rstride=100, cstride=100)\n",
    "ax.plot((4,),(-1,),(-2,), lw=2, c='k', marker='o')\n",
    "\n",
    "plt.show()"
   ]
  },
  {
   "cell_type": "markdown",
   "metadata": {},
   "source": [
    "<br>\n",
    "<br>\n",
    "another one:\n",
    "\n",
    "\n",
    "$$\n",
    "\\begin{equation*}\n",
    "\\left\\{\n",
    "\\begin{alignedat}{3}\n",
    "% R & L   &  R & L   &  R & L \n",
    " a & +{} &  b & -{} & 2c & +{} & d & +{} & 3e& -{} & f&= 4 \\\\\n",
    " 2a & -{} &  b & +{} & c & +{} & 2d & +{} & e& -{} & 3f& = 20 \\\\\n",
    " a & +{} &  3b & -{} & 3c & -{} & d & +{} & 2e& +{} & f&= -15 \\\\\n",
    " 5a & +{} &  2b & -{} & c & -{} & d & +{} & 2e& +{} & f&= -3 \\\\\n",
    " -3a & -{} &  b & +{} & 2c & +{} & 3d & +{} & e& +{} & 3f&= 16 \\\\\n",
    " 4a & +{} &  3b & +{} & c & -{} & 6d & -{} & 3e& -{} & 2f&= -27 \n",
    "\\end{alignedat}\n",
    "\\right.\n",
    "\\end{equation*}\n",
    "$$\n",
    "\n",
    "\n",
    "<!-- #a +  b - 2c +  d + 3e -  f  =    4 <br>\n",
    "#2a -  b +  c + 2d +  e - 3f  =   20 <br>\n",
    "#a + 3b - 3c -  d + 2e +  f  =  -15 <br>\n",
    "#5a + 2b -  c -  d + 2e +  f  =  - 3 <br>\n",
    "#-3a -  b + 2c + 3d +  e + 3f  =   16 <br>\n",
    "#4a + 3b +  c - 6d - 3e - 2f  =  -27 <br>\n",
    "-->    \n",
    "    "
   ]
  },
  {
   "cell_type": "code",
   "execution_count": null,
   "metadata": {},
   "outputs": [],
   "source": [
    "\n",
    "    m = [[1,1,-2,1,3,-1,4], [2,-1,1,2,1,-3,20], [1,3,-3,-1,2,1,-15], [5,2,-1,-1,2,1,-3], [-3,-1,2,3,1,3,16], [4,3,1,-6,-3,-2,-27]]\n",
    "\n",
    "    print(\"Original Matrix\")\n",
    "    print_matrix(m)\n",
    "    print('\\n')\n",
    "    \n",
    "    print(gaussian_elimination_with_pivot(m))    \n"
   ]
  },
  {
   "cell_type": "markdown",
   "metadata": {},
   "source": [
    "<br>\n",
    "<br>\n",
    "So, the solution for the linear system is:\n",
    "\n",
    "$$\n",
    "\\begin{equation*}\n",
    "\\left\\{\n",
    "\\begin{alignedat}{3}\n",
    "% R & L   &  R & L   &  R & L \n",
    " a & +{} &  b & -{} & 2c & +{} & d & +{} & 3e& -{} & f&= 4 \\\\\n",
    " 2a & -{} &  b & +{} & c & +{} & 2d & +{} & e& -{} & 3f& = 20 \\\\\n",
    " a & +{} &  3b & -{} & 3c & -{} & d & +{} & 2e& +{} & f&= -15 \\\\\n",
    " 5a & +{} &  2b & -{} & c & -{} & d & +{} & 2e& +{} & f&= -3 \\\\\n",
    " -3a & -{} &  b & +{} & 2c & +{} & 3d & +{} & e& +{} & 3f&= 16 \\\\\n",
    " 4a & +{} &  3b & +{} & c & -{} & 6d & -{} & 3e& -{} & 2f&= -27 \n",
    "\\end{alignedat}\n",
    "\\right.\n",
    "\\end{equation*}\n",
    "$$\n",
    "\n",
    "\n",
    "> $a=1$ <br>\n",
    "> $b=-2$ <br>\n",
    "> $c=3$ <br>\n",
    "> $d=4$ <br>\n",
    "> $e=2$ <br>\n",
    "> $f=-1$ <br>\n",
    "\n",
    "<br>\n",
    "\n",
    "######  obs: thousands of equations? ... consider iterative methods $O(n^3)$, sometimes $O(n^2)$\n",
    "\n",
    "\n"
   ]
  },
  {
   "cell_type": "markdown",
   "metadata": {},
   "source": [
    "<a id='any'></a>\n",
    "## Can we do `everything` with computation? \n",
    "\n",
    "<table>\n",
    "    <tr>\n",
    "        <td><img align=right src=\"img/waze1.gif\" width=150/></td>\n",
    "        <td><img align=right src=\"img/gta.gif\" width=200/></td>\n",
    "    </tr>\n",
    "    <tr>\n",
    "        <td><img align=right src=\"img/shazam.gif\" width=150/></td>\n",
    "        <td><img align=right src=\"img/chatbot.gif\" width=220/></td>\n",
    "    </tr>\n",
    "    </table>\n",
    "    \n",
    "\n"
   ]
  },
  {
   "cell_type": "markdown",
   "metadata": {},
   "source": [
    "<a id='complex_problems'></a>\n",
    "<br> </br>\n",
    "## Or can we do `almost everything` with computation? \n",
    "\n",
    ">(...in a **reasonable** time)\n",
    "\n",
    "### Complex Problems\n",
    "\n",
    "- [chess](#chess)\n",
    "- [knapsack](#code_knapsack)\n",
    "- [travel salesman](#code_tsp)\n",
    "- [image recognition](#vision)\n",
    "- [natural language](#pln)\n",
    "- [pattern recognition](#pattern)\n",
    "\n",
    "\n",
    "<br> <br>\n"
   ]
  },
  {
   "cell_type": "markdown",
   "metadata": {},
   "source": [
    "<a id='chess'></a>\n",
    "## Problem #1: Chess\n",
    "\n",
    "<img align=right src=\"img/matein2.jpeg\" width=250/>\n",
    "\n",
    "<br>\n",
    "\n",
    "\n",
    ">how complex?\n",
    "\n",
    "\n",
    "<br>\n",
    "<br>\n",
    "<br>\n",
    "\n",
    "######  obs: mate in 2, white to move\n",
    "<!-- (https://www.chess.com/forum/view/general/mate-in-2-puzzle-but-very-hard) -->\n",
    "\n",
    "<br>\n",
    "<br>\n",
    "\n",
    "<!--\n",
    "<table>\n",
    "    <tr>\n",
    "        <td> <img align=right src=\"img/matein2_asw1.jpeg\" width=300/> <br></td>\n",
    "        <td> </td>\n",
    "        <td> </td>\n",
    "        <td><img align=right src=\"img/matein2_asw.jpeg\" width=300/> </td>\n",
    "    </tr>\n",
    "    </table>\n",
    "-->\n",
    "\n",
    "\n",
    "\n",
    "\n"
   ]
  },
  {
   "cell_type": "markdown",
   "metadata": {},
   "source": [
    "<br>\n",
    "<img align=right src=\"img/chess2.png\" width=250/>\n",
    "\n",
    "**in fact it is very very very very complex!**\n",
    "\n",
    "<br>\n",
    "\n",
    "- the **known universe** is $93$ billion light years<br>\n",
    "- number of stars is $300$ sextillion ($3.0 x 10^{23}$)\n",
    "- number of atoms in a grain of sand is $2 x 10^{19}$ \n",
    "- number of atoms in **known universe** is $10^{80}$\n",
    "\n",
    "<br>\n",
    "there are more games of chess than the atoms in universe\n",
    "\n",
    "<br>\n",
    "\n",
    "Shannon's number for 80 moves:  $\\approx 10^{120}$<br>\n",
    "Godfrey Hardy $\\approx 10^{10^{50}}$\n",
    "\n",
    "<br>\n",
    "<br>\n",
    "\n",
    "| 1 | 2 | 3 | 4 | ... | 80 | ... | 1.195 |\n",
    "| ------ |  |  |  | | | |  |\n",
    "| 20 | 400 | 8902 | 197.742 | ... | $10^{120}$ | ... | $10^{10^{50}}$ |\n",
    "\n",
    "<br>\n",
    "\n",
    "**it would take billions of `the age of universe` time to calculate that**\n",
    "\n",
    "\n",
    "<!-- ######  $stock_1=3; stock_2=1; stock_3=1 ... (Max=45)$-->\n",
    "\n",
    "\n"
   ]
  },
  {
   "cell_type": "markdown",
   "metadata": {},
   "source": [
    "<a id='code_knapsack'></a>\n",
    "## Problem #2: Knapsack Problem\n",
    "\n",
    "<img align=right src=\"img/knapsack01.jpg\" width=300/>\n",
    "\n",
    "<br>\n",
    "\n",
    "Given a set of items, each with a weight and a value, determine the number of each item to include in a collection so that the total weight is less than or equal to a given limit and the total value is `as large as possible`.\n",
    "<br>\n",
    "<br>\n"
   ]
  },
  {
   "cell_type": "markdown",
   "metadata": {},
   "source": [
    "<br>\n",
    "\n",
    "**it is a combinatorial optimization - exponential explosion risk**\n",
    "\n",
    "<br>\n",
    "<img align=right src=\"img/investimentP.png\" width=400/>\n",
    "\n",
    "Some other real-world examples:\n",
    "\n",
    "> least wasteful way to cut raw materials<br>\n",
    "> selection of investments <br>\n",
    "> selection of portfolios <br>\n",
    "> cargo problems <br>\n",
    "> resource allocation <br> \n",
    "> ...\n",
    "\n",
    "**Try to solve it!**\n",
    "\n",
    "<br>\n",
    "<br>\n",
    "<!-- ######  $stock_1=3; stock_2=1; stock_3=1 ... (Max=45)$-->\n",
    "\n",
    "\n"
   ]
  },
  {
   "cell_type": "markdown",
   "metadata": {},
   "source": [
    "<br>\n",
    "\n",
    "**TV show: supermarket**\n",
    "\n",
    "<br>\n",
    "<table>\n",
    "    <tr>\n",
    "        <td> <img align=right src=\"img/supermarket-sweep.gif\" width=300/></td>\n",
    "        <td> </td>\n",
    "        <td> </td>\n",
    "        <td><img align=right src=\"img/supermarket2.gif\" width=300/></td>\n",
    "    </tr>\n",
    "    </table>\n",
    "    \n",
    "\n",
    "<br>\n",
    "<br>"
   ]
  },
  {
   "cell_type": "markdown",
   "metadata": {},
   "source": [
    "**knapsach problem formulation**\n",
    "\n",
    "<br>\n",
    "$\n",
    "\\text{maximize}\\sum_{j\\in N}p_{j}x_{j}\\\\\n",
    "\\text{subject to}\\sum_{j\\in N}w_{j}x_{j}\\leq c \\text{ and } x_{j}\\in \\{0,1\\},\\\\\n",
    "$\n",
    "<br>\n",
    "\n",
    "\n",
    "where each binary variable $x_{j}$, $j\\in N$, is equal to $1$ if and only if\n",
    "item $j$ is selected.<br>\n",
    "The knapsack capacity is $c$.\n",
    "Each object with a weight $w_{j}$ and a value $p_{j}$.\n",
    "\n",
    "<br>\n",
    "<br>\n",
    "\n",
    "exact algorithms (**NP-Hard**):\n",
    "\n",
    "- Dynamig Programming\n",
    "- Linear Programming \n",
    "- ...\n"
   ]
  },
  {
   "cell_type": "markdown",
   "metadata": {},
   "source": [
    "<br>\n",
    "<br>\n",
    "\n",
    "**it is a combinatorial optimization - exponential explosion  $2^n$**\n",
    "\n",
    "<img  src=\"img/knapsack_bruteforce.png\" width=500/>\n",
    "\n",
    "<br>\n",
    "\n",
    "######  source: Pasi Franti https://slideplayer.com/slide/17907881/\n"
   ]
  },
  {
   "cell_type": "markdown",
   "metadata": {},
   "source": [
    "<br> </br>\n",
    "### Let's work on some examples \n",
    "\n",
    "<br><br>\n",
    "**4 items | W=100**\n",
    "\n",
    "**(weight,value)**<br>\n",
    "[(18, 114), (42, 136), (88, 192), (3, 223)]\n",
    "\n",
    "<br>\n",
    "\n",
    "###### obs: $2^{4}$ possibilities\n",
    "\n",
    "<br> <br>\n"
   ]
  },
  {
   "cell_type": "code",
   "execution_count": 4,
   "metadata": {},
   "outputs": [],
   "source": [
    "#code from madcat 1991\n",
    "#https://github.com/madcat1991/knapsack\n",
    "\n",
    "#from functools import partial\n",
    "from time import time\n",
    "#from itertools import combinations\n",
    "\n",
    "\n",
    "def brute_force(number, capacity, weight_cost):\n",
    "    \"\"\"Brute force method for solving knapsack problem\n",
    "\n",
    "    :param number: number of existing items\n",
    "    :param capacity: the capacity of knapsack\n",
    "    :param weight_cost: list of tuples like: [(weight, cost), (weight, cost), ...]\n",
    "    :return: tuple like: (best cost, best combination list(contains 1 and 0))\n",
    "    \"\"\"\n",
    "    best_cost = None\n",
    "    best_combination = []\n",
    "    # generating combinations by all ways: C by 1 from n, C by 2 from n, ...\n",
    "    for way in range(number):\n",
    "        for comb in combinations(weight_cost, way + 1):\n",
    "            weight = sum([wc[0] for wc in comb])\n",
    "            cost = sum([wc[1] for wc in comb])\n",
    "            if (best_cost is None or best_cost < cost) and weight <= capacity:\n",
    "                best_cost = cost\n",
    "                best_combination = [0] * number\n",
    "                for wc in comb:\n",
    "                    best_combination[weight_cost.index(wc)] = 1\n",
    "    return best_cost, best_combination\n",
    "\n",
    "\n",
    "def solverV(method, number, capacity, weight_cost):\n",
    "    \"\"\"Main method that solves knapsack problem using one of the existing methods\n",
    "    \"\"\"\n",
    "\n",
    "    # get best cost and variables combination\n",
    "    best_cost, best_combination = method(number, capacity, weight_cost)\n",
    "    best_combination_str = \" \".join(\"%s\" % i for i in best_combination)\n",
    "\n",
    "\n",
    "    cap=0\n",
    "    index=0\n",
    "    for i in best_combination:\n",
    "        if i == 1:\n",
    "            cap += weight_cost[index][0]\n",
    "        index += 1\n",
    "\n",
    "\n",
    "    # return best results\n",
    "    return best_cost, best_combination_str, cap\n"
   ]
  },
  {
   "cell_type": "code",
   "execution_count": 5,
   "metadata": {},
   "outputs": [
    {
     "name": "stdout",
     "output_type": "stream",
     "text": [
      "0.0002923011779785156\n",
      "The Best Cost is: 473\n",
      "The Best Configuration is: 1 1 0 1\n",
      "The Best Weight is: 63\n"
     ]
    }
   ],
   "source": [
    "#4 items\n",
    "number=4\n",
    "capacity= 100\n",
    "weight_cost = [(18, 114), (42, 136), (88, 192), (3, 223)]\n",
    "method = brute_force\n",
    "\n",
    "solving_time = 0\n",
    "t_start = time()\n",
    "best_cost,best_config, best_weight = solverV(method, number, capacity, weight_cost)\n",
    "t_finish = time()\n",
    "solving_time += (t_finish - t_start)\n",
    "print(solving_time)\n",
    "print (\"The Best Cost is: %s\" % best_cost)\n",
    "print (\"The Best Configuration is: %s\" % best_config)\n",
    "print (\"The Best Weight is: %s\" % best_weight)\n"
   ]
  },
  {
   "cell_type": "markdown",
   "metadata": {},
   "source": [
    "<br> </br>\n",
    "\n",
    "**20 items | W=250**\n",
    "\n",
    "**(weight,value)**<br>\n",
    "[(22, 175), (4, 131), (2, 30), (7, 11), (26, 135), (6, 71), (1, 249), (16, 141), (43, 138),<br>\n",
    "(15, 164), (40, 252), (21, 172), (3, 9), (19, 88), (48, 70), (18, 42), (49, 146), (8, 182),<br>\n",
    "(41, 68), (27, 67)]\n",
    "\n",
    "<br>\n",
    "\n",
    "###### obs: $2^{20}$ possibilities\n",
    "\n",
    "<br> <br>\n"
   ]
  },
  {
   "cell_type": "code",
   "execution_count": 10,
   "metadata": {},
   "outputs": [
    {
     "name": "stdout",
     "output_type": "stream",
     "text": [
      "7.750423908233643\n",
      "The Best Cost is: 1995\n",
      "The Best Configuration is: 1 1 1 0 1 1 1 1 1 1 1 1 0 1 0 0 0 1 0 1\n",
      "The Best Weight is: 250\n"
     ]
    }
   ],
   "source": [
    "#20 items\n",
    "number=20\n",
    "capacity= 250\n",
    "weight_cost = [(22, 175), (4, 131), (2, 30), (7, 11), (26, 135), (6, 71), (1, 249), (16, 141), (43, 138),\n",
    "               (15, 164), (40, 252), (21, 172), (3, 9), (19, 88), (48, 70), (18, 42), (49, 146), (8, 182),\n",
    "               (41, 68), (27, 67)]\n",
    "method = brute_force\n",
    "\n",
    "solving_time = 0\n",
    "t_start = time()\n",
    "best_cost,best_config, best_weight = solverV(method, number, capacity, weight_cost)\n",
    "t_finish = time()\n",
    "solving_time += (t_finish - t_start)\n",
    "print(solving_time)\n",
    "print (\"The Best Cost is: %s\" % best_cost)\n",
    "print (\"The Best Configuration is: %s\" % best_config)\n",
    "print (\"The Best Weight is: %s\" % best_weight)\n"
   ]
  },
  {
   "cell_type": "markdown",
   "metadata": {},
   "source": [
    "<br> </br>\n",
    "\n",
    "**25 items | W=300**\n",
    "\n",
    "**(weight,value)**<br>\n",
    "[(2, 132), (1, 67), (4, 101), (35, 181), (10, 106), (3, 46), (22, 179), (19, 139), (48, 196),\n",
    "(15, 55), (31, 32),(28, 107), (14, 248), (7, 61), (27, 0), (6, 66), (36, 43), (8, 100), (46, 0),\n",
    "(13, 195), (41, 210), (30, 248),(9, 39), (39, 186), (32, 16)]\n",
    "\n",
    "<br>\n",
    "\n",
    "###### obs: $2^{25}$ possibilities\n",
    "<br> <br>\n"
   ]
  },
  {
   "cell_type": "code",
   "execution_count": 7,
   "metadata": {},
   "outputs": [
    {
     "name": "stdout",
     "output_type": "stream",
     "text": [
      "348.01822686195374\n",
      "The Best Cost is: 2427\n",
      "The Best Configuration is: 1 1 1 1 1 1 1 1 0 1 0 1 1 1 0 1 0 1 0 1 1 1 0 1 0\n",
      "The Best Weight is: 297\n"
     ]
    }
   ],
   "source": [
    "#25 items\n",
    "number=25\n",
    "capacity= 300\n",
    "weight_cost = [(2, 132), (1, 67), (4, 101), (35, 181), (10, 106), (3, 46), (22, 179), (19, 139), (48, 196),\n",
    "               (15, 55), (31, 32),(28, 107), (14, 248), (7, 61), (27, 0), (6, 66), (36, 43), (8, 100), (46, 0),\n",
    "               (13, 195), (41, 210), (30, 248),(9, 39), (39, 186), (32, 16)]\n",
    "method = brute_force\n",
    "\n",
    "solving_time = 0\n",
    "t_start = time()\n",
    "best_cost,best_config, best_weight = solverV(method, number, capacity, weight_cost)\n",
    "t_finish = time()\n",
    "solving_time += (t_finish - t_start)\n",
    "print(solving_time)\n",
    "print (\"The Best Cost is: %s\" % best_cost)\n",
    "print (\"The Best Configuration is: %s\" % best_config)\n",
    "print (\"The Best Weight is: %s\" % best_weight)\n"
   ]
  },
  {
   "cell_type": "markdown",
   "metadata": {},
   "source": [
    "<br> </br>\n",
    "###  Strange?\n",
    "\n",
    "<br>\n",
    "\n",
    "**looks like slow for a `minimal` increase on the #items**\n",
    "\n",
    "<br>\n",
    "\n",
    "how long if I take 50 items? or 100?<br>\n",
    "\n",
    "<img  src=\"img/knaptime.png\" width=300/>\n",
    "\n",
    "<br> <br>\n"
   ]
  },
  {
   "cell_type": "code",
   "execution_count": null,
   "metadata": {},
   "outputs": [],
   "source": []
  },
  {
   "cell_type": "markdown",
   "metadata": {},
   "source": [
    "Let's see another (worse) problem\n",
    "tsp"
   ]
  },
  {
   "cell_type": "markdown",
   "metadata": {},
   "source": [
    "try solve it - 5"
   ]
  },
  {
   "cell_type": "markdown",
   "metadata": {},
   "source": [
    "try solve it 10"
   ]
  },
  {
   "cell_type": "markdown",
   "metadata": {},
   "source": [
    "n! is worst\n",
    "(gif animated)\n"
   ]
  },
  {
   "cell_type": "code",
   "execution_count": null,
   "metadata": {},
   "outputs": [],
   "source": [
    "time examples progression"
   ]
  },
  {
   "cell_type": "code",
   "execution_count": null,
   "metadata": {},
   "outputs": [],
   "source": [
    "\n",
    "\n",
    "show graph\n",
    "\n",
    "\n",
    "tem q ter outro jeito de resolver isso gente!!!!\n",
    "ninguem ainda descobriu uma solucao para isso\n",
    "(seria a IA?)"
   ]
  },
  {
   "cell_type": "code",
   "execution_count": null,
   "metadata": {},
   "outputs": [],
   "source": [
    "como resolver a foto"
   ]
  },
  {
   "cell_type": "code",
   "execution_count": null,
   "metadata": {},
   "outputs": [],
   "source": [
    "como resolver os habitos de um robo"
   ]
  },
  {
   "cell_type": "code",
   "execution_count": null,
   "metadata": {},
   "outputs": [],
   "source": [
    "como resolver uma poesia"
   ]
  },
  {
   "cell_type": "code",
   "execution_count": null,
   "metadata": {},
   "outputs": [],
   "source": [
    "nos precisamos de algoritmos mais inteligentes... precisamos de inteligencia nas resolucoes (no caso heurísticas e alg. aproximativos)"
   ]
  },
  {
   "cell_type": "markdown",
   "metadata": {},
   "source": [
    " \n",
    "4. em geral com isso fazemos tudo (QUASE TUDO)... waze, gta, face, whataspp, banco, chat\n",
    "(mostro coisas q a TI pura faz)\n",
    "\n",
    "\n",
    "\n",
    "Mas nem tudo... a computacao pura nao consegue resolver TUDO q a gente precisa e quer usar hj ...\n",
    "pq? vou dar apenas 2 casos.\n",
    "1. explosao combinatoria\n",
    "2. impossibilidade de descrever TUDO\n",
    "\n",
    "\n",
    "\n",
    "\n",
    "1. combinacao explosiva do xadrez\n",
    "e depois pro caxeiro e vejo q nao dá......\n",
    "2. mostro um: é gato ou não é? - nao ia dar tbem\n",
    "\n",
    "\n",
    "Mapa da Computacao\n",
    "É aqui q a IA entra\n",
    "Agora IA e transformacaoa digital\n",
    "\n",
    "depois o detalhe de cada uma dessas coisas\n",
    "\n",
    "\n",
    "intro meta heuris e rede neural\n",
    "1 evolucio\n",
    "1 neural\n",
    "\n",
    "volto pro problema e rodo\n"
   ]
  }
 ],
 "metadata": {
  "celltoolbar": "Slideshow",
  "kernelspec": {
   "display_name": "Python 3",
   "language": "python",
   "name": "python3"
  },
  "language_info": {
   "codemirror_mode": {
    "name": "ipython",
    "version": 3
   },
   "file_extension": ".py",
   "mimetype": "text/x-python",
   "name": "python",
   "nbconvert_exporter": "python",
   "pygments_lexer": "ipython3",
   "version": "3.7.6"
  }
 },
 "nbformat": 4,
 "nbformat_minor": 4
}
