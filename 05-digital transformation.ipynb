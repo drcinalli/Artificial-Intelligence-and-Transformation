{
 "cells": [
  {
   "cell_type": "markdown",
   "metadata": {
    "slideshow": {
     "slide_type": "skip"
    }
   },
   "source": [
    "<img src=\"./img/logoconvexbrancomini2.png\"  align=\"right\"/>"
   ]
  },
  {
   "cell_type": "markdown",
   "metadata": {
    "slideshow": {
     "slide_type": "skip"
    }
   },
   "source": [
    "<img src=\"./img/logoboxverde.png\" align=\"right\"/>\n",
    "<br>\n"
   ]
  },
  {
   "cell_type": "markdown",
   "metadata": {
    "slideshow": {
     "slide_type": "slide"
    },
    "toc-hr-collapsed": true
   },
   "source": [
    "<!--\n",
    "<img src=\"./img/logoconvexbrancomini2.png\"  align=\"right\"/>\n",
    "-->\n",
    "# Artificial Intelligence and Digital Transformation\n",
    "\n",
    "<!--\n",
    "<img src=\"./img/logoboxverde.png\" align=\"right\"/>\n",
    "-->\n",
    "__by [Daniel Cinalli](http://www.cinalli.com.br)__ - DSc Artificial Intelligence\n",
    "\n",
    "## What is Digital Transformation?\n"
   ]
  },
  {
   "cell_type": "markdown",
   "metadata": {
    "slideshow": {
     "slide_type": "slide"
    }
   },
   "source": [
    "\n",
    "<br/><br/> \n",
    "## Notes:\n",
    "\n",
    "* Coded in Python 3.x\n",
    "* Using [Anaconda](https://www.anaconda.com/) is recommended\n",
    "* Run the notebook `online` at [binder](https://mybinder.org/v2/gh/drcinalli/Artificial-Intelligence-and-Transformation/master) [![Binder](https://mybinder.org/badge_logo.svg)](https://mybinder.org/v2/gh/drcinalli/Artificial-Intelligence-and-Transformation/master)\n",
    "<!-- * [nbviewer](https://nbviewer.jupyter.org/) allows you to switch the notebooks \"slides\" mode-->"
   ]
  },
  {
   "cell_type": "markdown",
   "metadata": {
    "slideshow": {
     "slide_type": "slide"
    }
   },
   "source": [
    "<br> </br>\n",
    "### Table of Contents\n",
    "\n",
    "- [xxxx](#whatisacomputer)\n",
    "\n",
    "\n",
    "\n",
    "<br> <br>\n"
   ]
  },
  {
   "cell_type": "markdown",
   "metadata": {
    "slideshow": {
     "slide_type": "slide"
    }
   },
   "source": [
    "<a id='whatisacomput'></a>\n",
    "## xxx?\n",
    "\n",
    "\n",
    "<img align=right src=\"img/xxxx.jpg\" width=300/>\n",
    "\n",
    ">xxxx\n",
    "        \n",
    "<br>  \n",
    "\n",
    "Two main properties:\n",
    "\n",
    "* performs calculation*\n",
    "* store results (and remember them)**\n",
    "        \n",
    "<br>\n",
    "<br>\n"
   ]
  },
  {
   "cell_type": "markdown",
   "metadata": {},
   "source": [
    "o q eh?\n",
    "why?\n",
    "\n",
    "como?\n",
    "\n",
    "programas?\n",
    "\n",
    "exemplos?"
   ]
  },
  {
   "cell_type": "markdown",
   "metadata": {},
   "source": [
    "Other names: Inovation, Dig Trans, applied innovation\" .... the digital journey \n",
    "\n",
    "\n",
    "WHY\n",
    "o obvio ... DigT eh mandatorui, o futuro\n",
    "mas vamos simplificar: é pra se tornar competitivo. ... It's a survival issue for many. \n",
    "LK - to rethink old operating models, to experiment more, to become more agile in your ability to respond to customers and rivals ... ou seja nao eh tao fundamental por conta apenas da inovacao... tem outras frentes q podem ser mais prepoderantes... mas q eh preciso modificar digitalmente as coisas... isso eh preciso.\n",
    "o tempero de transformacao eh a empresa, a estrategia q dao.\n",
    "\n",
    "innovation or extintion\n",
    "\n",
    "Businesses don't transform by choice because it is expensive and risky.\n",
    "\n",
    " IT leaders face pressure to show that digital initiatives continue to translate to increased agility and speed for the entire organization. \n",
    "\n",
    "LK\n",
    "What's not clear to many business leaders is what digital transformation means and HOW to do it. \n",
    "and\n",
    "Is it really worth it?\n",
    "\n",
    "\n",
    "CIOs spend an average of 72 percent of their budgets on existing IT concerns, while only 28 percent goes to new projects and innovation. -- isso devia ser o contrario... sempre disse isso. Era melhor ter a medicao de prj vs run.\n",
    "\n",
    "work to increase efficiency with technology wherever possible. For many, that means adopting agile principles across the business. Automation technologies \n",
    "\n",
    "\n",
    "digital transformation leaders must take a holistic view of digital change efforts.\n",
    "\n",
    "pace of change + rapid adoption of technology+new sustainable competitive advantage+\n",
    "strategic planned organisational change\n",
    "\n",
    "Tech is a enabler (not driver) ... enable pra cultura, time e inovacao\n",
    "\n",
    "\n",
    "1st thing is fundamentally changing the way you think about your business today\n",
    "investing in new... innovative models ---- CLICHE demais\n",
    "redefine your business\n",
    "parceiro estrategico --- escuto isso ha anos... sonho de ti\n",
    "\n",
    "NAO eh colocar a empresa no face, twiiter, youtube ou na web... mmais q isso\n",
    "digitizing existing services + add techs\n",
    "\n",
    "WHAT:\n",
    "Digital transformation is the integration of digital technology into all areas of a business, fundamentally changing how you operate and deliver value to customers.\n",
    "\n",
    "actual technologies or techniques (AI, data analytics, etc.)? Is the subject change management or wholesale culture change? \n",
    "\n",
    "digital transformation will look different for every company\n",
    "\n",
    "However, in general terms, we define digital transformation as the integration of digital technology into all areas of a business resulting in fundamental changes to how businesses operate and how they deliver value to customers.\n",
    "\n",
    "Beyond that, it's a cultural change that requires organizations to continually challenge the status quo, experiment often, and get comfortable with failure. This sometimes means walking away from long-standing business processes that companies were built upon in favor of relatively new practices that are still being defined. \n",
    "(CARALHOU por isso nao da certo e tem q ser Top Down)\n",
    "\n",
    "“[Digital transformation] involves a change in leadership, different thinking, the encouragement of innovation and new business models, incorporating digitisation of assets and an increased use of technology to improve the experience of your organisation’s employees, customers, suppliers, partners and stakeholders.”\n",
    "é uma parceria estratégica com TI (demais?) ok entao eh uma abertura pra TI, um chamado pra ti ajudar mais onde for possivel...\n",
    "\n",
    "“We talk about automating operations, about people, and about new business models,” he says. “Wrapped inside those topics are data analytics, technologies, and software – all of which are enablers, not drivers.”\n",
    "“In the center of it all is leadership and culture,” Swanson says. “You could have all those things – the customer view, the products and services, data, and really cool technologies – but if leadership and culture aren’t at the heart, it fails. Understanding what digital means to your company – whether you’re a financial, agricultural, pharmaceutical, or retail institution – is essential.”\n",
    "\n",
    "\n",
    "\n",
    "An important element of digital transformation is, of course, technology. But often, it's more about shedding outdated processes and legacy technology than it is about adopting new tech.\n",
    "\n",
    "\n",
    "\n",
    "Como:\n",
    "entao eh so: Is it just a catchy way to say moving to the cloud?\n",
    "how to get over the initial humps from vision to execution\n",
    "\n",
    "to rethink old operating models, to experiment more, to become more agile in your ability to respond to customers and rivals \n",
    "\n",
    "Plataforma ou framework? .... um programa de consecucoes e culturab\n",
    "\n",
    "\n",
    "desafios and steps ahead ou encobertos:\n",
    "also a cultural change that requires organizations to continually challenge the status quo, experiment, and get comfortable with failure. \n",
    "\n",
    "hurdles, like budgeting, talent struggles, and culture change.\n",
    "\n",
    " leading transformation starts with empathy. ... empathy is genuine, you begin to build trust,\n",
    "\n",
    "tem q ser transversal.... pegar mais do q uma unidade e nao apenas 1.\n",
    "\n",
    "é alinhmento.\n",
    "\n",
    "top down/transversal/ cultural/\n",
    "\n",
    "seletivo no portfolio\n",
    "\n",
    "conhecer o As-Is\n",
    "\n"
   ]
  },
  {
   "cell_type": "markdown",
   "metadata": {},
   "source": [
    "Although IT will play an important role in driving digital transformation strategy, the work of implementing and adapting to the massive changes that go along with digital transformation falls to everyone. For this reason, digital transformation is a people issue."
   ]
  },
  {
   "cell_type": "markdown",
   "metadata": {},
   "source": [
    "Improving customer experience has become a crucial goal – and thus a crucial part of digital transformation. \n",
    "\n",
    "digital transformation elements are often cited:\n",
    "\n",
    "Customer experience\n",
    "Operational agility\n",
    "Culture and leadership\n",
    "Workforce enablement\n",
    "Digital technology integration\n",
    "\n",
    "\n",
    "the CIO's top operational priority is “improving business process.\" But among CIOs at 'digital leaders' – companies identified as top performers – the CIO's top operational priority is “developing innovative new products.”\n",
    "(mas o segundo passo acho pretencioso demais e vai depender mto das circunstancias.... nao se faz isso facilmente \n",
    "\n",
    "Embracing this shift requires everyone in the company to rethink the role and impact of IT in their day-to-day experience.\n",
    "\n",
    "“There is a very different mindset at work when you take IT out of an operating mode of, 'Let’s run a bunch of packaged solutions that we’ve bought and stood up' to 'Let’s build and create new capabilities that didn’t exist before.' ---- blz, mas pra isso tem q ir nas startups, nos forums etc.... nao eh lendo jornal apenas... sem contar o apoio e cultura\n",
    "\n"
   ]
  },
  {
   "cell_type": "markdown",
   "metadata": {},
   "source": [
    "Micro Exemplos intra texto:\n",
    "paperless; another might think of data analytics and artificial intelligence; another might picture Agile teams; and yet another might think of open-plan offices,\n",
    "\n"
   ]
  },
  {
   "cell_type": "markdown",
   "metadata": {},
   "source": [
    "qto $\n",
    "\n",
    "\n",
    "IDC predicts that, by 2020, 30 percent of G2000 companies will have allocated capital budget equal to at least 10 percent of revenue to fuel their digital strategies,\n",
    "\n",
    "Ti eh 2.5-3.5\n"
   ]
  },
  {
   "cell_type": "markdown",
   "metadata": {},
   "source": [
    "Here are eight key digital transformation trends that business and IT leaders should be aware of in 2020:\n",
    "\n",
    "Rapid adoption of digital operating models, including integrated cross-functional teams.\n",
    "A shakeout as those that have invested in big data governance and analytics leapfrog their competitors.\n",
    "Better use of AI and machine learning.\n",
    "Continued merger and acquisition activity in the IT outsourcing industry.\n",
    "Consultancies forming new digital partnerships.\n",
    "Expanding public cloud adoption.\n",
    "New digital transformation success metrics.\n",
    "More attention to long-term value of digital intiatives."
   ]
  },
  {
   "cell_type": "markdown",
   "metadata": {},
   "source": [
    "short-term payoff but other projects are chasing longer-term business value.\n",
    "\n",
    "quantifying success is crucial to continued investment. “Just implementing the technology isn’t enough – the technology needs to be specifically tied to monitoring key performance indicators on customer insights and business process effectiveness,” "
   ]
  },
  {
   "cell_type": "code",
   "execution_count": null,
   "metadata": {},
   "outputs": [],
   "source": [
    "https://enterprisersproject.com/what-is-digital-transformation#q1"
   ]
  }
 ],
 "metadata": {
  "kernelspec": {
   "display_name": "Python 3",
   "language": "python",
   "name": "python3"
  },
  "language_info": {
   "codemirror_mode": {
    "name": "ipython",
    "version": 3
   },
   "file_extension": ".py",
   "mimetype": "text/x-python",
   "name": "python",
   "nbconvert_exporter": "python",
   "pygments_lexer": "ipython3",
   "version": "3.7.6"
  }
 },
 "nbformat": 4,
 "nbformat_minor": 4
}
