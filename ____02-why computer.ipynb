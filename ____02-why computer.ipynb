{
 "cells": [
  {
   "cell_type": "markdown",
   "metadata": {
    "slideshow": {
     "slide_type": "skip"
    }
   },
   "source": [
    "<img src=\"./img/logoconvexbrancomini2.png\"  align=\"right\"/>"
   ]
  },
  {
   "cell_type": "markdown",
   "metadata": {
    "slideshow": {
     "slide_type": "skip"
    }
   },
   "source": [
    "<img src=\"./img/logoboxverde.png\" align=\"right\"/>\n",
    "<br>\n"
   ]
  },
  {
   "cell_type": "markdown",
   "metadata": {
    "slideshow": {
     "slide_type": "slide"
    },
    "toc-hr-collapsed": true
   },
   "source": [
    "<!--\n",
    "<img src=\"./img/logoconvexbrancomini2.png\"  align=\"right\"/>\n",
    "-->\n",
    "# Artificial Intelligence and Digital Transformation\n",
    "\n",
    "<!--\n",
    "<img src=\"./img/logoboxverde.png\" align=\"right\"/>\n",
    "-->\n",
    "__by [Daniel Cinalli](http://www.cinalli.com.br)__ - DSc Artificial Intelligence\n",
    "\n",
    "## Why Computer?\n"
   ]
  },
  {
   "cell_type": "markdown",
   "metadata": {
    "slideshow": {
     "slide_type": "slide"
    }
   },
   "source": [
    "\n",
    "<br/><br/> \n",
    "## Notes:\n",
    "\n",
    "* Coded in Python 3.x\n",
    "* Using [Anaconda](https://www.anaconda.com/) is recommended\n",
    "* Run the notebook `online` at [binder](https://mybinder.org/v2/gh/drcinalli/Artificial-Intelligence-and-Transformation/master) [![Binder](https://mybinder.org/badge_logo.svg)](https://mybinder.org/v2/gh/drcinalli/Artificial-Intelligence-and-Transformation/master)\n",
    "<!-- * [nbviewer](https://nbviewer.jupyter.org/) allows you to switch the notebooks \"slides\" mode-->"
   ]
  },
  {
   "cell_type": "markdown",
   "metadata": {
    "slideshow": {
     "slide_type": "slide"
    }
   },
   "source": [
    "<br> </br>\n",
    "### Table of Contents\n",
    "\n",
    "- [xxx?](#whatisacomputer)\n",
    "\n",
    "\n",
    "\n",
    "<br> <br>\n"
   ]
  },
  {
   "cell_type": "markdown",
   "metadata": {
    "slideshow": {
     "slide_type": "slide"
    }
   },
   "source": [
    "<a id='whatisacomput'></a>\n",
    "## xxx?\n",
    "\n",
    "\n",
    "<img align=right src=\"img/xxxx.jpg\" width=300/>\n",
    "\n",
    ">xxxx\n",
    "        \n",
    "<br>  \n",
    "\n",
    "Two main properties:\n",
    "\n",
    "* performs calculation*\n",
    "* store results (and remember them)**\n",
    "        \n",
    "<br>\n",
    "<br>\n"
   ]
  },
  {
   "cell_type": "code",
   "execution_count": null,
   "metadata": {},
   "outputs": [],
   "source": []
  },
  {
   "cell_type": "markdown",
   "metadata": {},
   "source": [
    "\n",
    "<a id='why'></a>\n",
    "## Why Computer?\n",
    "<br>\n",
    "<br>\n",
    "\n",
    "quais os beneficios? slide 8"
   ]
  },
  {
   "cell_type": "code",
   "execution_count": null,
   "metadata": {},
   "outputs": [],
   "source": [
    "\n",
    "comecar com os beneficios e a multipluralidade\n"
   ]
  },
  {
   "cell_type": "code",
   "execution_count": null,
   "metadata": {},
   "outputs": [],
   "source": [
    "huge impact on society\n"
   ]
  },
  {
   "cell_type": "code",
   "execution_count": null,
   "metadata": {},
   "outputs": [],
   "source": [
    "Impacto da Computacao...\n",
    "4. Impact of computer / diversidade e extensão anywhere/ fins solutions\n",
    "- palestra Cristina sobre tendencias da IA."
   ]
  },
  {
   "cell_type": "markdown",
   "metadata": {},
   "source": [
    "inicio era para realizar calculos\n",
    "\n",
    "mas sua utilidade é mais abrangente: \n",
    "\n",
    "- concretizar a internet\n",
    "- cérebros artificiais\n",
    "- simulacoes do universo \n",
    ", AI, \n",
    "b"
   ]
  },
  {
   "cell_type": "code",
   "execution_count": null,
   "metadata": {},
   "outputs": [],
   "source": [
    "https://www.depauw.edu/"
   ]
  },
  {
   "cell_type": "markdown",
   "metadata": {},
   "source": [
    "TOP TEN REASONS TO STUDY COMPUTER SCIENCE\n",
    "The Association of Computing Machinery is an international organization for computer scientists. The ACM has developed the following list of top ten reasons to study computer science which we quote:\n",
    "\n",
    "**Computing is part of everything we do! Read More...**\n",
    "\"Computing and computer technology are part of just about everything that touches our lives from the cars we drive, to the movies we watch, to the ways businesses and governments deal with us. Understanding different dimensions of computing is part of the necessary skill set for an educated person in the 21st century. Whether you want to be a scientist, develop the latest killer application, or just know what it really means when someone says 'the computer made a mistake', studying computing will provide you with valuable knowledge.\"\n",
    "\n",
    "**Expertise in computing enables you to solve complex, challenging problems. Read More...**\n",
    "\"Computing is a discipline that offers rewarding and challenging possibilities for a wide range of people regardless of their range of interests. Computing requires and develops capabilities in solving deep, multidimensional problems requiring imagination and sensitivity to a variety of concerns.\"\n",
    "\n",
    "\n",
    "**Computing enables you to make a positive difference in the world.  Read More...**\n",
    "\"Computing drives innovation in the sciences (human genome project, AIDS vaccine research, environmental monitoring and protection just to mention a few), and also in engineering, business, entertainment and education. If you want to make a positive difference in the world, study computing.\"\n",
    "\n",
    "\n",
    "**Computing offers many types of lucrative careers. Read More...**\n",
    "\"Computing jobs are among the highest paid and have the highest job satisfaction. Computing is very often associated with innovation, and developments in computing tend to drive it. This, in turn, is the key to national competitiveness. The possibilities for future developments are expected to be even greater than they have been in the past.\"\n",
    "\n",
    "\n",
    "**Computing has space for both collaborative work and individual effort. Read More...**\n",
    "\"Computing drives innovation in the sciences (human genome project, AIDS vaccine research, environmental monitoring and protection just to mention a few), and also in engineering, business, entertainment and education. If you want to make a positive difference in the world, study computing.\"\n",
    "\n",
    "\n",
    "**Future opportunities in computing are without boundaries. Read More...**\n",
    "\"Computing is one of those fields where it is almost impossible to predict what will happen next. This is why we cannot even begin to imagine all the ways that you can make a contribution to it and it can make your life's work exciting and real.\""
   ]
  },
  {
   "cell_type": "markdown",
   "metadata": {},
   "source": [
    "1. Directly meeting needs\n",
    "allows computer scientists and other technology professionals to jump in and meet needs as they arise in their communities.\n",
    "\n",
    "2. 2. Empowering people who are often overlooked\n",
    "\n",
    "4. Accelerating healthcare progress\n",
    "Genomics and personalized medicine are an excellent example of how computer science-driven technologies are accelerating healthcare progress. The genome sequencing process that powers this frontier of medicine used to cost tens of millions of dollars to complete, but machine-learning techniques and improved computing power have dropped costs substantially.\n",
    "\n",
    "5. Furthering education\n",
    "\n",
    "6. Expanding communication\n",
    "\n",
    ". Predicting and avoiding catastrophes"
   ]
  },
  {
   "cell_type": "markdown",
   "metadata": {},
   "source": [
    "Information explosion and the digital era. It's no surprise that computer use within our civilization has exploded exponentially within the last few years. Today, pretty much every human domain -education, health, industry, entertainment, you name it- is made better, safer, or even possible at all, thanks to advances in information technology and the underlying computer science that drives the knowledge forward. Don't just think computers and software applications, but consider every device, every human process, every instrument, directly affected by technology.\n",
    "\n",
    "Industry displacement by computer technology. What did Uber do for the transportation industry. Netflix or iTunes for show business. Photoshop for photography or Coursera for academia. Whatever you make of these innovations and the millions around them, the industries they are infecting are irreversibly transformed.\n",
    "\n",
    "Global information accessibility. Imagine a world when a message takes 4 months to reach America from Europe. Now imagine a world when the same message takes a heartbeat, and realize that computer science made it possible. \n",
    "\n",
    "Tech-fueled innovation driving global economies and world challenges. Our civilization is at an historic crossroads when our biggest challenges -global hunger, climate change, water shortage, etc- can be overcome by our brightest minds relying among other things on our ever-forwarding computer technology. Simulation modelling, predictions, parallel processing, labour reducing computers and software are among the strongest tools in our arsenal for survival, no less.\n",
    "\n",
    "Bonus: Biology and the language of life! One of the most wondrous modern realizations that dawned upon us, was the discovery that our genetic information is coded into digitally distinct, three-character packets from a quaternary system, a four letter alphabet that scripts out our DNA. Do you know which field of study kicks ass in performing computations for any base-n system? Suddenly and unexpectedly, decades of computer science research could be immediately applied towards understanding our genetic scripture and unlocking the mysteries of evolution and the origins of life."
   ]
  },
  {
   "cell_type": "code",
   "execution_count": null,
   "metadata": {},
   "outputs": [],
   "source": [
    "\n",
    "IA we will talk later\n"
   ]
  },
  {
   "cell_type": "code",
   "execution_count": null,
   "metadata": {},
   "outputs": [],
   "source": [
    "how is that in 100 years ahead?\n",
    "\n",
    "\n",
    "When I started to work with this... remember how fast technology grew\n",
    "\n",
    "\n",
    "compared the evolution"
   ]
  },
  {
   "cell_type": "code",
   "execution_count": null,
   "metadata": {},
   "outputs": [],
   "source": [
    "TUDO está envolvido na Tecnologia"
   ]
  }
 ],
 "metadata": {
  "kernelspec": {
   "display_name": "Python 3",
   "language": "python",
   "name": "python3"
  },
  "language_info": {
   "codemirror_mode": {
    "name": "ipython",
    "version": 3
   },
   "file_extension": ".py",
   "mimetype": "text/x-python",
   "name": "python",
   "nbconvert_exporter": "python",
   "pygments_lexer": "ipython3",
   "version": "3.7.6"
  }
 },
 "nbformat": 4,
 "nbformat_minor": 4
}
