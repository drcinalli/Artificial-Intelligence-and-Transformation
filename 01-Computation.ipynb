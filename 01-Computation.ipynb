{
 "cells": [
  {
   "cell_type": "markdown",
   "metadata": {
    "slideshow": {
     "slide_type": "-"
    }
   },
   "source": [
    "<img src=\"./img/logoconvexbrancomini2.png\"  align=\"right\"/>"
   ]
  },
  {
   "cell_type": "markdown",
   "metadata": {},
   "source": [
    "<img src=\"./img/logoboxverde.png\" align=\"right\"/>\n",
    "<br>\n"
   ]
  },
  {
   "cell_type": "markdown",
   "metadata": {
    "slideshow": {
     "slide_type": "slide"
    }
   },
   "source": [
    "<!--\n",
    "<img src=\"./img/logoconvexbrancomini2.png\"  align=\"right\"/>\n",
    "-->\n",
    "# Artificial Intelligence and Digital Transformation\n",
    "\n",
    "<!--\n",
    "<img src=\"./img/logoboxverde.png\" align=\"right\"/>\n",
    "-->\n",
    "__by [Daniel Cinalli](http://www.cinalli.com.br)__ - DSc Artificial Intelligence\n",
    "\n",
    "## What is Computation?\n"
   ]
  },
  {
   "cell_type": "markdown",
   "metadata": {},
   "source": [
    "\n",
    "<br/><br/> \n",
    "## Notes:\n",
    "\n",
    "* Coded in Python 3.x\n",
    "* Using [Anaconda](https://www.anaconda.com/) is recommended\n",
    "* Run the notebook `online` at [binder](https://mybinder.org/v2/gh/drcinalli/Artificial-Intelligence-and-Transformation/master) [![Binder](https://mybinder.org/badge_logo.svg)](https://mybinder.org/v2/gh/drcinalli/Artificial-Intelligence-and-Transformation/master)\n",
    "* [nbviewer](https://nbviewer.jupyter.org/) allows you to switch the notebooks \"slides\" mode\n",
    "\n",
    "<kbd>\n",
    "<img src=\"img/nbviwer-slides.png\" />\n",
    "</kbd>\n"
   ]
  },
  {
   "cell_type": "markdown",
   "metadata": {
    "slideshow": {
     "slide_type": "slide"
    }
   },
   "source": [
    "<br> </br>\n",
    "### Table of Contents\n",
    "\n",
    "- What is Computation?\n",
    "\n"
   ]
  },
  {
   "cell_type": "markdown",
   "metadata": {
    "slideshow": {
     "slide_type": "slide"
    }
   },
   "source": [
    "#### <br></br>\n",
    "## What is Computation?\n",
    "\n",
    "\n"
   ]
  },
  {
   "cell_type": "markdown",
   "metadata": {},
   "source": [
    "exemplos d operacoes de comp\n",
    "\n",
    "mostrar o basico funcionando com um onclick, com um store/load... no terminal mesmo ... no python\n",
    "\n",
    "(brecha pra falar q nao eh bem assim mais ... veremos na parte de prob complexos e IA)"
   ]
  },
  {
   "cell_type": "markdown",
   "metadata": {},
   "source": [
    "ciencia, tecnica tecnologia\n",
    "\n",
    "qdo comeco a ter uma tecnica na mao e conhecimento de outro em movimento"
   ]
  },
  {
   "cell_type": "markdown",
   "metadata": {},
   "source": [
    "## Computer science\n",
    "\n",
    "eh qdo começo a aplicar isso ....\n",
    "\n",
    "\n",
    "exemplos d operacoes de comp\n",
    "\n",
    "mostrar o basico funcionando com um onclick, com um store/load... no terminal mesmo ... no python\n",
    "\n",
    "(brecha pra falar q nao eh bem assim mais ... veremos na parte de prob complexos e IA)"
   ]
  },
  {
   "cell_type": "markdown",
   "metadata": {
    "slideshow": {
     "slide_type": "slide"
    }
   },
   "source": [
    "<br></br>\n",
    "## o q faco com ele\n",
    "\n",
    "Dados\n",
    "Dados apresentados de maneiras diferentes \n",
    "Cálculos rápidos + Sequência de Operações --- aqui onde o bicho pega .... aqui q comeca a fazer uma grande diferenca ... e uma nova diferenca com toda essa transf. digital.\n",
    "\n",
    "Benefício: \n",
    "Informação\n",
    "operacao/execucao de tarefas\n",
    "Tomada de Decisão \n",
    "Resolução de Problemas\n",
    "\n",
    "\n"
   ]
  },
  {
   "cell_type": "markdown",
   "metadata": {},
   "source": [
    "##o Q eu faco com a computacao\n",
    "\n",
    "informação Bomba (Serviço de Inteligência)\n",
    "decisão Preço do meu Competidor (Buscapé…)\n",
    "solução Probabilidade de Chuva (Meteorologia)\n"
   ]
  },
  {
   "cell_type": "markdown",
   "metadata": {},
   "source": [
    "dado \n",
    "\n",
    "transformação\n",
    "cálculos\n",
    "operações\n",
    "\n",
    "informação\n",
    "operacao\n",
    "decisão\n",
    "resolução de\n",
    "\tproblema\n",
    "\n",
    "\n",
    "o mais usual eh o 1 e 2 ne...."
   ]
  },
  {
   "cell_type": "markdown",
   "metadata": {},
   "source": [
    "## alguns exemplos melhores\n",
    "\n",
    "mais exemplos dos tipos basicos de operacoes usuais\n",
    "\n",
    "um com uma operacao .... rapida de mtas coisas\n",
    "\n",
    "mais um com uma pequena mudanca na visao do dado - pra moostrar info e me deixar tomar a decisao\n",
    "\n",
    "\n",
    "mais um outro com uma tomada de decisao embutida e automatica\n",
    "\n"
   ]
  },
  {
   "cell_type": "markdown",
   "metadata": {},
   "source": [
    "outro complexo pra dar tilt\n",
    "\n",
    "uns 2 .... pra esse precisamos de outra tecnica menos descritiva. cap de ia"
   ]
  },
  {
   "cell_type": "markdown",
   "metadata": {},
   "source": [
    "## Areas da Computacao na academia\n",
    "\n",
    "img\n",
    "\n",
    "descrevo alguma delas...\n",
    "deixo ate aqui as principais divisoes\n"
   ]
  },
  {
   "cell_type": "markdown",
   "metadata": {},
   "source": [
    "## Areas da Computacao no mercado\n",
    "\n",
    "img\n",
    "\n",
    "descrevo alguma delas...\n",
    "deixo ate aqui as principais divisoes\n",
    "\n",
    "\n",
    "Highlight nas areas de maior transf...: \n",
    "\n",
    "infra - exempllos\n",
    "Sistemas  - exemplos \n",
    "\n",
    "Sistemas com IA - exemplos prob complexos, (focar nesse)\n",
    "\n",
    "Data Science  - exemplos prob complexos, "
   ]
  }
 ],
 "metadata": {
  "celltoolbar": "Slideshow",
  "kernelspec": {
   "display_name": "Python 3",
   "language": "python",
   "name": "python3"
  },
  "language_info": {
   "codemirror_mode": {
    "name": "ipython",
    "version": 3
   },
   "file_extension": ".py",
   "mimetype": "text/x-python",
   "name": "python",
   "nbconvert_exporter": "python",
   "pygments_lexer": "ipython3",
   "version": "3.7.4"
  }
 },
 "nbformat": 4,
 "nbformat_minor": 4
}
