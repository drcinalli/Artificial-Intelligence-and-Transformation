{
 "cells": [
  {
   "cell_type": "markdown",
   "metadata": {},
   "source": [
    "\n"
   ]
  },
  {
   "cell_type": "markdown",
   "metadata": {},
   "source": [
    "<img src=\"./img/logoconvexbrancomini2.png\"  align=\"right\"/>"
   ]
  },
  {
   "cell_type": "markdown",
   "metadata": {},
   "source": [
    "<img src=\"./img/logoboxverde.png\" align=\"right\"/>\n",
    "<br>\n"
   ]
  },
  {
   "cell_type": "markdown",
   "metadata": {},
   "source": [
    "<!--\n",
    "<img src=\"./img/logoconvexbrancomini2.png\"  align=\"right\"/>\n",
    "-->\n",
    "# Artificial Intelligence and Digital Transformation\n",
    "\n",
    "<!--\n",
    "<img src=\"./img/logoboxverde.png\" align=\"right\"/>\n",
    "-->\n",
    "__by [Daniel Cinalli](http://www.cinalli.com.br)__ - DSc Artificial Intelligence\n",
    "\n",
    "## What is Computer Science?\n"
   ]
  },
  {
   "cell_type": "markdown",
   "metadata": {},
   "source": [
    "\n",
    "<br/><br/> \n",
    "## Notes:\n",
    "\n",
    "* Coded in Python 3.x\n",
    "* Using [Anaconda](https://www.anaconda.com/) is recommended\n",
    "* Run the notebook `online` at [binder](https://mybinder.org/v2/gh/drcinalli/Artificial-Intelligence-and-Transformation/master) [![Binder](https://mybinder.org/badge_logo.svg)](https://mybinder.org/v2/gh/drcinalli/Artificial-Intelligence-and-Transformation/master)\n",
    "<!-- * [nbviewer](https://nbviewer.jupyter.org/) allows you to switch the notebooks \"slides\" mode-->"
   ]
  },
  {
   "cell_type": "markdown",
   "metadata": {},
   "source": [
    "<br> </br>\n",
    "### Table of Contents\n",
    "\n",
    "- [What is Computer Science?](#whatiscompsci)\n",
    "- [Map of Computer Science](#map)\n",
    "- [Professional Career](#pro)\n",
    "\n",
    "\n",
    "\n",
    "<br> <br>\n"
   ]
  },
  {
   "cell_type": "markdown",
   "metadata": {},
   "source": [
    "<a id='whatiscompsci'></a>\n",
    "## What is Computer Science?\n",
    "\n",
    "\n",
    "<img align=right src=\"img/.jpg\" width=300/>\n",
    "\n",
    ">It is the study of computers and computational systems. \n",
    "        \n",
    "<br>  \n",
    "\n",
    "Two main properties:\n",
    "\n",
    "* performs calculation*\n",
    "* store results (and remember them)**\n",
    "        \n",
    "<br>\n",
    "<br>\n"
   ]
  },
  {
   "cell_type": "markdown",
   "metadata": {},
   "source": [
    "<a id='map'></a>\n",
    "## Map of Computer Science\n"
   ]
  },
  {
   "cell_type": "markdown",
   "metadata": {},
   "source": [
    "<img src=\"./img/map.jpg\"  align=\"right\"/>\n",
    "\n",
    "###### source: https://www.youtube.com/watch?v=SzJ46YA_RaA&t=64s"
   ]
  },
  {
   "cell_type": "markdown",
   "metadata": {},
   "source": [
    "<br>\n",
    "<br>\n",
    "\n",
    "### Three main fields (arbitrary)\n",
    "\n",
    "- Theoretical Computer Science\n",
    "- Computer Engineering\n",
    "- Applications\n",
    "<br>\n",
    "<br>\n",
    "\n",
    "Let's see a `few` areas for each of the fields\n",
    "\n",
    "> computer science is **STILL GROWING**"
   ]
  },
  {
   "cell_type": "markdown",
   "metadata": {},
   "source": [
    "<br>\n",
    "<br>\n",
    "<img align=right src=\"img/map_theory.png\" width=400/>\n",
    "\n",
    "### Theoretical Computer Science\n",
    "\n",
    "- Turing Machine (information proccess and model)\n",
    "- Computability Theory (what can be solved by computers)\n",
    "- Computational Complexity (P$\\neq$NP?)\n",
    "- Algorithms\n",
    "- Data Structures\n",
    "- Criptography\n",
    "- Graph\n",
    "- ...\n"
   ]
  },
  {
   "cell_type": "markdown",
   "metadata": {},
   "source": [
    "<br>\n",
    "<br>\n",
    "<img align=right src=\"img/map_eng.png\" width=400/>\n",
    "\n",
    "### Computer Engineering\n",
    "\n",
    "- CPU schedule\n",
    "- Computer architecture\n",
    "- software and programming language\n",
    "- compilers and interpreters\n",
    "- operating systems\n",
    "- software engineering\n",
    "- networking\n",
    "- data management\n",
    "- ...\n"
   ]
  },
  {
   "cell_type": "markdown",
   "metadata": {},
   "source": [
    "\n",
    "<br>\n",
    "<br>\n",
    "\n",
    "### Application\n",
    "\n",
    "- optimization\n",
    "- artificial intelligence\n",
    "- machine learning\n",
    "- computer vision\n",
    "- natural language processing\n",
    "- big data\n",
    "- iot internet of things\n",
    "- virtual/augmented\n",
    "- robotics\n",
    "- ...\n",
    "\n",
    "<img src=\"img/map_app.png\" />\n",
    "\n"
   ]
  },
  {
   "cell_type": "markdown",
   "metadata": {},
   "source": [
    "<br>\n",
    "<br>\n",
    "\n",
    "### Must Love/Be/Know:\n",
    "\n",
    "- math<br>\n",
    "- computers<br>\n",
    "- logical reasoning\n",
    "- methodical\n",
    "- english\n"
   ]
  },
  {
   "cell_type": "markdown",
   "metadata": {},
   "source": [
    "<a id='pro'></a>\n",
    "## Professional Career\n",
    "\n",
    "It is not like Bodhi or Neo...\n",
    "\n",
    "<br>\n",
    "<table>\n",
    "    <tr>\n",
    "        <td> <img src=\"img/pointbreak.jpg\" width=300/></td>\n",
    "        <td> </td>\n",
    "        <td> </td>\n",
    "        <td> </td>\n",
    "        <td> </td>\n",
    "        <td><img src=\"img/matrix.jpeg\" width=350/></td>\n",
    "    </tr>\n",
    "    </table>\n",
    "    \n",
    "<br>"
   ]
  },
  {
   "cell_type": "markdown",
   "metadata": {},
   "source": [
    "<br> \n",
    "<br>\n",
    "it is more like this...\n",
    "\n",
    "<br>\n",
    "<table>\n",
    "    <tr>\n",
    "        <td> <img src=\"img/office1.jpg\" width=400/></td>\n",
    "        <td> </td>\n",
    "        <td> </td>\n",
    "        <td> </td>\n",
    "        <td> </td>\n",
    "        <td><img src=\"img/office2.jpg\" width=480/></td>\n",
    "    </tr>\n",
    "    </table>\n",
    "    \n",
    "<br>"
   ]
  },
  {
   "cell_type": "markdown",
   "metadata": {},
   "source": [
    "<br>\n",
    "<br>\n",
    "\n",
    "### Main Profiles (1-3 levels):\n",
    "\n",
    "- Sys Analist and Developer<br>\n",
    "- Database Administrator<br>\n",
    "- Data Scientist<br>\n",
    "- Business Analyst<br>\n",
    "- Project Manager <br>\n",
    "- Network and Infrastructure<br>\n",
    "\n"
   ]
  },
  {
   "cell_type": "markdown",
   "metadata": {},
   "source": [
    "<br>\n",
    "<br>\n",
    "\n",
    "### work anywhere:\n",
    "<div align=left>\n",
    "<table align=left>\n",
    "    <tr>\n",
    "        <td>technology</td>\n",
    "        <td> </td>\n",
    "        <td> </td>\n",
    "        <td> engineering</td>\n",
    "    </tr>\n",
    "    <tr>\n",
    "        <td>software house</td>\n",
    "        <td> </td>\n",
    "        <td> </td>\n",
    "        <td>manufacturing </td>\n",
    "    </tr>\n",
    "    <tr>\n",
    "        <td>telecom</td>\n",
    "        <td> </td>\n",
    "        <td> </td>\n",
    "        <td> medicine/biology</td>\n",
    "    </tr>\n",
    "    <tr>\n",
    "        <td>start-ups</td>\n",
    "        <td> </td>\n",
    "        <td> </td>\n",
    "        <td> astronomy </td>\n",
    "    </tr>\n",
    "    <tr>\n",
    "        <td>...</td>\n",
    "        <td> </td>\n",
    "        <td> </td>\n",
    "        <td> ... </td>\n",
    "    </tr>\n",
    "</table>\n",
    "</div>  "
   ]
  },
  {
   "cell_type": "markdown",
   "metadata": {},
   "source": [
    "## see you soon!"
   ]
  }
 ],
 "metadata": {
  "kernelspec": {
   "display_name": "Python 3",
   "language": "python",
   "name": "python3"
  },
  "language_info": {
   "codemirror_mode": {
    "name": "ipython",
    "version": 3
   },
   "file_extension": ".py",
   "mimetype": "text/x-python",
   "name": "python",
   "nbconvert_exporter": "python",
   "pygments_lexer": "ipython3",
   "version": "3.7.6"
  }
 },
 "nbformat": 4,
 "nbformat_minor": 4
}
